{
 "cells": [
  {
   "cell_type": "markdown",
   "metadata": {},
   "source": [
    "<div><span style=\"background-color: #9e4244; padding-top: 80px; padding-right: 20px; padding-bottom: 50px; padding-left: 20px; color: white; font-size: 22px; font-weight: bold\">Session 8: Machine Learning Pipelines</span></div>"
   ]
  },
  {
   "cell_type": "markdown",
   "metadata": {},
   "source": [
    "by BYJ Cirio"
   ]
  },
  {
   "cell_type": "markdown",
   "metadata": {},
   "source": [
    "<div class=\"alert alert-danger alert-info\">\n",
    "     In this notebook you will learn how to automate your machine learning model pipelines. Specifically, the topics covered are as follows:<br>\n",
    "    <ol>\n",
    "        <li>Auto-ML</li>\n",
    "        <li>Grid-search CV/Randomized Search CV</li>\n",
    "        <li>Example project</li>\n",
    "    </ol>\n",
    "</div>"
   ]
  },
  {
   "cell_type": "code",
   "execution_count": 1,
   "metadata": {
    "ExecuteTime": {
     "end_time": "2022-06-25T17:06:40.840624Z",
     "start_time": "2022-06-25T17:06:26.941745Z"
    }
   },
   "outputs": [],
   "source": [
    "# General Libraries\n",
    "import re\n",
    "import time\n",
    "import warnings\n",
    "import numpy as np\n",
    "import pandas as pd\n",
    "from tqdm.notebook import tqdm\n",
    "from collections import Counter\n",
    "warnings.filterwarnings(\"ignore\")\n",
    "\n",
    "# Visualizations\n",
    "import seaborn as sns\n",
    "from termcolor import colored\n",
    "import matplotlib.pyplot as plt\n",
    "import plotly.graph_objects as go\n",
    "\n",
    "# Sklearn\n",
    "from sklearn.preprocessing import MinMaxScaler\n",
    "from sklearn.model_selection import (train_test_split, GridSearchCV,\n",
    "                                     StratifiedKFold)\n",
    "from sklearn.neighbors import KNeighborsClassifier\n",
    "from sklearn.svm import SVC\n",
    "from sklearn.linear_model import LogisticRegression\n",
    "from sklearn.naive_bayes import GaussianNB\n",
    "from sklearn.tree import DecisionTreeClassifier\n",
    "from sklearn.ensemble import (RandomForestClassifier,  \n",
    "                              GradientBoostingClassifier)\n",
    "from sklearn.model_selection import cross_validate\n",
    "from sklearn.metrics import (ConfusionMatrixDisplay, precision_score, recall_score)\n",
    "\n",
    "# Imblearn\n",
    "from imblearn.pipeline import Pipeline, make_pipeline\n",
    "from imblearn.over_sampling import (SMOTE, ADASYN, BorderlineSMOTE, SVMSMOTE)\n",
    "from imblearn.under_sampling import (TomekLinks, NearMiss, AllKNN,\n",
    "                                     EditedNearestNeighbours, \n",
    "                                     RepeatedEditedNearestNeighbours) \n",
    "from imblearn.combine import SMOTETomek, SMOTEENN\n",
    "\n",
    "# SHAP\n",
    "import shap"
   ]
  },
  {
   "cell_type": "code",
   "execution_count": 2,
   "metadata": {
    "ExecuteTime": {
     "end_time": "2022-06-25T17:06:47.142146Z",
     "start_time": "2022-06-25T17:06:40.843628Z"
    }
   },
   "outputs": [
    {
     "data": {
      "text/html": [
       "<div>\n",
       "<style scoped>\n",
       "    .dataframe tbody tr th:only-of-type {\n",
       "        vertical-align: middle;\n",
       "    }\n",
       "\n",
       "    .dataframe tbody tr th {\n",
       "        vertical-align: top;\n",
       "    }\n",
       "\n",
       "    .dataframe thead th {\n",
       "        text-align: right;\n",
       "    }\n",
       "</style>\n",
       "<table border=\"1\" class=\"dataframe\">\n",
       "  <thead>\n",
       "    <tr style=\"text-align: right;\">\n",
       "      <th></th>\n",
       "      <th>lat</th>\n",
       "      <th>long</th>\n",
       "      <th>city_pop</th>\n",
       "      <th>trans_date</th>\n",
       "      <th>amt</th>\n",
       "      <th>is_fraud</th>\n",
       "      <th>merch_lat</th>\n",
       "      <th>merch_long</th>\n",
       "      <th>trans_day</th>\n",
       "      <th>city_Angeles City</th>\n",
       "      <th>...</th>\n",
       "      <th>part_of_day_lunch</th>\n",
       "      <th>region_CALABARZON</th>\n",
       "      <th>region_NCR</th>\n",
       "      <th>region_Region 3</th>\n",
       "      <th>quarantine_status_ECQ</th>\n",
       "      <th>quarantine_status_GCQ</th>\n",
       "      <th>quarantine_status_MECQ</th>\n",
       "      <th>quarantine_status_Normal</th>\n",
       "      <th>QL_Extreme QL</th>\n",
       "      <th>QL_Moderate-Low QL</th>\n",
       "    </tr>\n",
       "  </thead>\n",
       "  <tbody>\n",
       "    <tr>\n",
       "      <th>0</th>\n",
       "      <td>14.5958</td>\n",
       "      <td>120.9772</td>\n",
       "      <td>23088000</td>\n",
       "      <td>2020-09-13</td>\n",
       "      <td>966.24</td>\n",
       "      <td>1</td>\n",
       "      <td>14.133430</td>\n",
       "      <td>121.223118</td>\n",
       "      <td>13</td>\n",
       "      <td>0</td>\n",
       "      <td>...</td>\n",
       "      <td>1</td>\n",
       "      <td>0</td>\n",
       "      <td>1</td>\n",
       "      <td>0</td>\n",
       "      <td>0</td>\n",
       "      <td>1</td>\n",
       "      <td>0</td>\n",
       "      <td>0</td>\n",
       "      <td>0</td>\n",
       "      <td>1</td>\n",
       "    </tr>\n",
       "    <tr>\n",
       "      <th>1</th>\n",
       "      <td>14.5958</td>\n",
       "      <td>120.9772</td>\n",
       "      <td>23088000</td>\n",
       "      <td>2020-09-13</td>\n",
       "      <td>275.37</td>\n",
       "      <td>1</td>\n",
       "      <td>15.290354</td>\n",
       "      <td>120.246084</td>\n",
       "      <td>13</td>\n",
       "      <td>0</td>\n",
       "      <td>...</td>\n",
       "      <td>0</td>\n",
       "      <td>0</td>\n",
       "      <td>1</td>\n",
       "      <td>0</td>\n",
       "      <td>0</td>\n",
       "      <td>1</td>\n",
       "      <td>0</td>\n",
       "      <td>0</td>\n",
       "      <td>0</td>\n",
       "      <td>1</td>\n",
       "    </tr>\n",
       "    <tr>\n",
       "      <th>2</th>\n",
       "      <td>14.5958</td>\n",
       "      <td>120.9772</td>\n",
       "      <td>23088000</td>\n",
       "      <td>2020-09-14</td>\n",
       "      <td>326.96</td>\n",
       "      <td>1</td>\n",
       "      <td>15.402101</td>\n",
       "      <td>121.332516</td>\n",
       "      <td>14</td>\n",
       "      <td>0</td>\n",
       "      <td>...</td>\n",
       "      <td>0</td>\n",
       "      <td>0</td>\n",
       "      <td>1</td>\n",
       "      <td>0</td>\n",
       "      <td>0</td>\n",
       "      <td>1</td>\n",
       "      <td>0</td>\n",
       "      <td>0</td>\n",
       "      <td>0</td>\n",
       "      <td>1</td>\n",
       "    </tr>\n",
       "    <tr>\n",
       "      <th>3</th>\n",
       "      <td>14.5958</td>\n",
       "      <td>120.9772</td>\n",
       "      <td>23088000</td>\n",
       "      <td>2020-09-14</td>\n",
       "      <td>1047.59</td>\n",
       "      <td>1</td>\n",
       "      <td>15.166276</td>\n",
       "      <td>121.955649</td>\n",
       "      <td>14</td>\n",
       "      <td>0</td>\n",
       "      <td>...</td>\n",
       "      <td>0</td>\n",
       "      <td>0</td>\n",
       "      <td>1</td>\n",
       "      <td>0</td>\n",
       "      <td>0</td>\n",
       "      <td>1</td>\n",
       "      <td>0</td>\n",
       "      <td>0</td>\n",
       "      <td>0</td>\n",
       "      <td>1</td>\n",
       "    </tr>\n",
       "    <tr>\n",
       "      <th>4</th>\n",
       "      <td>14.5958</td>\n",
       "      <td>120.9772</td>\n",
       "      <td>23088000</td>\n",
       "      <td>2020-09-14</td>\n",
       "      <td>286.34</td>\n",
       "      <td>1</td>\n",
       "      <td>15.149144</td>\n",
       "      <td>121.696662</td>\n",
       "      <td>14</td>\n",
       "      <td>0</td>\n",
       "      <td>...</td>\n",
       "      <td>0</td>\n",
       "      <td>0</td>\n",
       "      <td>1</td>\n",
       "      <td>0</td>\n",
       "      <td>0</td>\n",
       "      <td>1</td>\n",
       "      <td>0</td>\n",
       "      <td>0</td>\n",
       "      <td>0</td>\n",
       "      <td>1</td>\n",
       "    </tr>\n",
       "  </tbody>\n",
       "</table>\n",
       "<p>5 rows × 243 columns</p>\n",
       "</div>"
      ],
      "text/plain": [
       "       lat      long  city_pop  trans_date      amt  is_fraud  merch_lat  \\\n",
       "0  14.5958  120.9772  23088000  2020-09-13   966.24         1  14.133430   \n",
       "1  14.5958  120.9772  23088000  2020-09-13   275.37         1  15.290354   \n",
       "2  14.5958  120.9772  23088000  2020-09-14   326.96         1  15.402101   \n",
       "3  14.5958  120.9772  23088000  2020-09-14  1047.59         1  15.166276   \n",
       "4  14.5958  120.9772  23088000  2020-09-14   286.34         1  15.149144   \n",
       "\n",
       "   merch_long  trans_day  city_Angeles City  ...  part_of_day_lunch  \\\n",
       "0  121.223118         13                  0  ...                  1   \n",
       "1  120.246084         13                  0  ...                  0   \n",
       "2  121.332516         14                  0  ...                  0   \n",
       "3  121.955649         14                  0  ...                  0   \n",
       "4  121.696662         14                  0  ...                  0   \n",
       "\n",
       "   region_CALABARZON  region_NCR  region_Region 3  quarantine_status_ECQ  \\\n",
       "0                  0           1                0                      0   \n",
       "1                  0           1                0                      0   \n",
       "2                  0           1                0                      0   \n",
       "3                  0           1                0                      0   \n",
       "4                  0           1                0                      0   \n",
       "\n",
       "   quarantine_status_GCQ  quarantine_status_MECQ  quarantine_status_Normal  \\\n",
       "0                      1                       0                         0   \n",
       "1                      1                       0                         0   \n",
       "2                      1                       0                         0   \n",
       "3                      1                       0                         0   \n",
       "4                      1                       0                         0   \n",
       "\n",
       "   QL_Extreme QL  QL_Moderate-Low QL  \n",
       "0              0                   1  \n",
       "1              0                   1  \n",
       "2              0                   1  \n",
       "3              0                   1  \n",
       "4              0                   1  \n",
       "\n",
       "[5 rows x 243 columns]"
      ]
     },
     "execution_count": 2,
     "metadata": {},
     "output_type": "execute_result"
    }
   ],
   "source": [
    "df1 = pd.read_csv('cc_df_group1_version2.csv')\n",
    "df1.head()"
   ]
  },
  {
   "cell_type": "code",
   "execution_count": 3,
   "metadata": {},
   "outputs": [],
   "source": [
    "to_drop = ['trans_date']\n",
    "\n",
    "df = df1.drop(to_drop, axis=1)\n"
   ]
  },
  {
   "cell_type": "code",
   "execution_count": 4,
   "metadata": {},
   "outputs": [
    {
     "data": {
      "text/plain": [
       "Index(['lat', 'long', 'city_pop', 'amt', 'is_fraud', 'merch_lat', 'merch_long',\n",
       "       'trans_day', 'city_Angeles City', 'city_Antipolo',\n",
       "       ...\n",
       "       'part_of_day_lunch', 'region_CALABARZON', 'region_NCR',\n",
       "       'region_Region 3', 'quarantine_status_ECQ', 'quarantine_status_GCQ',\n",
       "       'quarantine_status_MECQ', 'quarantine_status_Normal', 'QL_Extreme QL',\n",
       "       'QL_Moderate-Low QL'],\n",
       "      dtype='object', length=242)"
      ]
     },
     "execution_count": 4,
     "metadata": {},
     "output_type": "execute_result"
    }
   ],
   "source": [
    "df.columns"
   ]
  },
  {
   "cell_type": "code",
   "execution_count": 5,
   "metadata": {
    "ExecuteTime": {
     "end_time": "2022-06-25T17:06:59.724833Z",
     "start_time": "2022-06-25T17:06:59.489891Z"
    }
   },
   "outputs": [
    {
     "name": "stdout",
     "output_type": "stream",
     "text": [
      "Would Recommend:       0\n",
      "1    300\n",
      "0  29677\n",
      "Proportion Chance Criterion: 98.02%\n",
      "1.25 * Proportion Chance Criterion: 122.52%\n"
     ]
    },
    {
     "data": {
      "image/png": "[encoded data removed]",
      "text/plain": [
       "<Figure size 640x480 with 1 Axes>"
      ]
     },
     "metadata": {},
     "output_type": "display_data"
    }
   ],
   "source": [
    "state_counts = Counter(df['is_fraud'])\n",
    "df_state = pd.DataFrame.from_dict(state_counts, orient='index')\n",
    "df_state.plot(kind='bar', color='pink')\n",
    "\n",
    "num=(df_state[0]/df_state[0].sum())**2\n",
    "\n",
    "print(\"Would Recommend:{}\".format(df_state))\n",
    "\n",
    "print(\"Proportion Chance Criterion: {:0.2f}%\".format(100*num.sum()))\n",
    "print(\"1.25 * Proportion Chance Criterion: {:0.2f}%\".format(1.25*100*num.sum()))"
   ]
  },
  {
   "cell_type": "code",
   "execution_count": 6,
   "metadata": {
    "ExecuteTime": {
     "end_time": "2022-06-25T17:07:01.323651Z",
     "start_time": "2022-06-25T17:07:00.408410Z"
    }
   },
   "outputs": [],
   "source": [
    "X = df.drop(['is_fraud'], axis=1)\n",
    "y = df['is_fraud']\n",
    "(X_trainval, X_holdout, y_trainval, y_holdout) = train_test_split(X, y, \n",
    "                                                                  random_state=11, test_size=0.25,\n",
    "                                                                  stratify=y) #maintain the proportion of your class\n",
    "\n",
    "#ideal is to use train -> validation -> test/holdout\n",
    "#train - > validation : used to check overfitting\n",
    "\n",
    "#if namake sure na di overfitting, you can use the model to your hold out"
   ]
  },
  {
   "cell_type": "markdown",
   "metadata": {},
   "source": [
    "<div><span style=\"background-color: #ff0257; padding-top: 100px; padding-right: 20px; padding-bottom: 50px; padding-left: 20px; color: #FFFAF0; font-size: 18px; font-weight: bold\">Auto-ML </span></div>"
   ]
  },
  {
   "cell_type": "code",
   "execution_count": 7,
   "metadata": {
    "ExecuteTime": {
     "end_time": "2022-06-25T17:07:04.220771Z",
     "start_time": "2022-06-25T17:07:04.197393Z"
    }
   },
   "outputs": [],
   "source": [
    "def auto_ml(X, y, models_dict, scaler=None, cv=None, res_t=None): #codify: save everything into a function #cv is cross validation \n",
    "    \"\"\"Apply resampling for imbalanced data\"\"\"\n",
    "    results = {}\n",
    "    results2 = {}\n",
    "\n",
    "    # log start time\n",
    "    total_start = time.time() #used to compute total run time of process\n",
    "\n",
    "    for model_name, model in tqdm(models_dict.items()):\n",
    "        \n",
    "        ################# this portion can be edited ###############\n",
    "        train_scores = []\n",
    "        val_scores = []\n",
    "\n",
    "        train_recall = []\n",
    "        val_recall = []\n",
    "\n",
    "        ###########################################################\n",
    "\n",
    "        for train_index, val_index in tqdm(cv.split(X, y)):\n",
    "\n",
    "            X_train, X_val = X.iloc[train_index], X.iloc[val_index]\n",
    "            y_train, y_val = y.iloc[train_index], y.iloc[val_index]\n",
    "\n",
    "            # Apply scaling\n",
    "            if scaler is not None:\n",
    "                X_train = scaler.fit_transform(X_train)\n",
    "                X_val = scaler.transform(X_val)\n",
    "            else:\n",
    "                pass\n",
    "\n",
    "            # Apply resampling for every iteraction\n",
    "            if res_t is not None:\n",
    "                s = time.time()\n",
    "                X_train, y_train = res_t.fit_resample(X_train, y_train)\n",
    "                print(f'Resampling done in {time.time() - s}')\n",
    "            else:\n",
    "                pass\n",
    "\n",
    "            start_time = time.time()\n",
    "\n",
    "            # fit\n",
    "            model.fit(X_train, y_train)\n",
    "\n",
    "            # predict\n",
    "            train_preds = model.predict(X_train)\n",
    "            val_preds = model.predict(X_val)\n",
    "            \n",
    "            ################# this portion can be edited ###############\n",
    "\n",
    "            # classification accuracy\n",
    "            train_scores.append(model.score(X_train, y_train))\n",
    "            val_scores.append(model.score(X_val, y_val))\n",
    "\n",
    "            # recall\n",
    "            train_recall.append(recall_score(y_train, train_preds))\n",
    "            val_recall.append(recall_score(y_val, val_preds))\n",
    "\n",
    "            end_time = time.time()\n",
    "\n",
    "            results[model_name] = {\n",
    "                'Train Accuracy': np.round(np.mean(train_scores) * 100, 2),\n",
    "                'Val Accuracy': np.round(np.mean(val_scores) * 100, 2),\n",
    "                'Train Recall': np.round(np.mean(train_recall) * 100, 2),\n",
    "                'Val Recall': np.round(np.mean(val_recall) * 100, 2),\n",
    "                'Run Time': end_time - start_time\n",
    "            }\n",
    "\n",
    "            results2[model_name] = {\n",
    "                'Train Accuracy': '{:.2f}%'.format(np.round(np.mean(train_scores)*100, 2)),\n",
    "                'Val Accuracy': '{:.2f}%'.format(np.round(np.mean(val_scores)*100, 2)),\n",
    "                'Train Recall': '{:.2f}%'.format(np.round(np.mean(train_recall)*100, 2)),\n",
    "                'Val Recall': '{:.2f}%'.format(np.round(np.mean(val_recall)*100, 2)),\n",
    "                'Run Time': end_time - start_time\n",
    "            }\n",
    "            \n",
    "            ###########################################################\n",
    "\n",
    "    results = pd.DataFrame(results).T\n",
    "    results2 = pd.DataFrame(results2).T\n",
    "    return [results, results2]\n",
    "\n",
    "\n",
    "#output: two data frames; one for plotting and one to pretify data frame"
   ]
  },
  {
   "cell_type": "markdown",
   "metadata": {},
   "source": [
    "# Steps:\n",
    "    1. Baseline scores\n",
    "        -without resampling \n",
    "    2. Run resampling techniques\n",
    "        -oversampling\n",
    "        -undersampling\n",
    "    3. Identify the model with resampling (i.e. Random Forest x SMOTE)\n",
    "    4. Hypertune themodel with resampling (gridsearch)\n",
    "    \n",
    " high performance x runtime x no overfitting"
   ]
  },
  {
   "cell_type": "markdown",
   "metadata": {},
   "source": [
    "### Baseline"
   ]
  },
  {
   "cell_type": "code",
   "execution_count": 8,
   "metadata": {
    "ExecuteTime": {
     "end_time": "2022-06-25T18:00:46.201827Z",
     "start_time": "2022-06-25T18:00:46.191744Z"
    }
   },
   "outputs": [],
   "source": [
    "#baseline score is score without applying resampling\n",
    "\n",
    "models_dict = {\n",
    "              'LogisticRegression': LogisticRegression(random_state=143)}\n",
    "\n",
    "# models_dict = {\n",
    "#     'KNeighborsClassifier': KNeighborsClassifier(),\n",
    "#     'LogisticRegressor': LogisticRegression(),\n",
    "#     'GaussianNB': GaussianNB(),\n",
    "#     'RandomForestClassifier': RandomForestClassifier(random_state=143),\n",
    "#     'DecisionTreeClassifier': DecisionTreeClassifier(random_state=143),\n",
    "#     'GradientBoostingClassifier': GradientBoostingClassifier(random_state=143)   \n",
    "# }"
   ]
  },
  {
   "cell_type": "code",
   "execution_count": 9,
   "metadata": {
    "ExecuteTime": {
     "end_time": "2022-06-25T18:03:16.405058Z",
     "start_time": "2022-06-25T18:00:47.131514Z"
    }
   },
   "outputs": [
    {
     "data": {
      "application/vnd.jupyter.widget-view+json": {
       "model_id": "4008babd2b2a4997b8272cf2f04f4a03",
       "version_major": 2,
       "version_minor": 0
      },
      "text/plain": [
       "  0%|          | 0/1 [00:00<?, ?it/s]"
      ]
     },
     "metadata": {},
     "output_type": "display_data"
    },
    {
     "data": {
      "application/vnd.jupyter.widget-view+json": {
       "model_id": "af79cfe363934a4b8c68f4fd3bff6a8f",
       "version_major": 2,
       "version_minor": 0
      },
      "text/plain": [
       "0it [00:00, ?it/s]"
      ]
     },
     "metadata": {},
     "output_type": "display_data"
    },
    {
     "data": {
      "text/html": [
       "<div>\n",
       "<style scoped>\n",
       "    .dataframe tbody tr th:only-of-type {\n",
       "        vertical-align: middle;\n",
       "    }\n",
       "\n",
       "    .dataframe tbody tr th {\n",
       "        vertical-align: top;\n",
       "    }\n",
       "\n",
       "    .dataframe thead th {\n",
       "        text-align: right;\n",
       "    }\n",
       "</style>\n",
       "<table border=\"1\" class=\"dataframe\">\n",
       "  <thead>\n",
       "    <tr style=\"text-align: right;\">\n",
       "      <th></th>\n",
       "      <th>Run Time</th>\n",
       "      <th>Train Accuracy</th>\n",
       "      <th>Train Recall</th>\n",
       "      <th>Val Accuracy</th>\n",
       "      <th>Val Recall</th>\n",
       "    </tr>\n",
       "  </thead>\n",
       "  <tbody>\n",
       "    <tr>\n",
       "      <th>LogisticRegression</th>\n",
       "      <td>2.083638</td>\n",
       "      <td>99.38%</td>\n",
       "      <td>40.22%</td>\n",
       "      <td>99.28%</td>\n",
       "      <td>32.00%</td>\n",
       "    </tr>\n",
       "  </tbody>\n",
       "</table>\n",
       "</div>"
      ],
      "text/plain": [
       "                    Run Time Train Accuracy Train Recall Val Accuracy  \\\n",
       "LogisticRegression  2.083638         99.38%       40.22%       99.28%   \n",
       "\n",
       "                   Val Recall  \n",
       "LogisticRegression     32.00%  "
      ]
     },
     "execution_count": 9,
     "metadata": {},
     "output_type": "execute_result"
    }
   ],
   "source": [
    "auto_run = auto_ml(X_trainval, y_trainval, models_dict, scaler=MinMaxScaler(),\n",
    "               cv=StratifiedKFold(n_splits=5))\n",
    "auto = auto_run[0]\n",
    "auto_run[1]"
   ]
  },
  {
   "cell_type": "markdown",
   "metadata": {},
   "source": [
    "### Applying resampling techniques"
   ]
  },
  {
   "cell_type": "markdown",
   "metadata": {},
   "source": [
    "#### Oversampling"
   ]
  },
  {
   "cell_type": "code",
   "execution_count": 10,
   "metadata": {
    "ExecuteTime": {
     "end_time": "2022-06-25T17:27:00.661394Z",
     "start_time": "2022-06-25T17:07:24.494356Z"
    }
   },
   "outputs": [
    {
     "name": "stdout",
     "output_type": "stream",
     "text": [
      "---------------------------------------------------\u001b[1m\u001b[31mSMOTE\u001b[0m---------------------------------------------------\n"
     ]
    },
    {
     "data": {
      "application/vnd.jupyter.widget-view+json": {
       "model_id": "ba749c1d82934e7489dadd59642a3b2f",
       "version_major": 2,
       "version_minor": 0
      },
      "text/plain": [
       "  0%|          | 0/1 [00:00<?, ?it/s]"
      ]
     },
     "metadata": {},
     "output_type": "display_data"
    },
    {
     "data": {
      "application/vnd.jupyter.widget-view+json": {
       "model_id": "6f8b8c4b935f437cb41968efd6e3888b",
       "version_major": 2,
       "version_minor": 0
      },
      "text/plain": [
       "0it [00:00, ?it/s]"
      ]
     },
     "metadata": {},
     "output_type": "display_data"
    },
    {
     "name": "stdout",
     "output_type": "stream",
     "text": [
      "Resampling done in 0.8150055408477783\n",
      "Resampling done in 0.22547197341918945\n",
      "Resampling done in 0.17911767959594727\n",
      "Resampling done in 0.14198875427246094\n",
      "Resampling done in 0.15629243850708008\n"
     ]
    },
    {
     "data": {
      "text/html": [
       "<div>\n",
       "<style scoped>\n",
       "    .dataframe tbody tr th:only-of-type {\n",
       "        vertical-align: middle;\n",
       "    }\n",
       "\n",
       "    .dataframe tbody tr th {\n",
       "        vertical-align: top;\n",
       "    }\n",
       "\n",
       "    .dataframe thead th {\n",
       "        text-align: right;\n",
       "    }\n",
       "</style>\n",
       "<table border=\"1\" class=\"dataframe\">\n",
       "  <thead>\n",
       "    <tr style=\"text-align: right;\">\n",
       "      <th></th>\n",
       "      <th>Run Time</th>\n",
       "      <th>Train Accuracy</th>\n",
       "      <th>Train Recall</th>\n",
       "      <th>Val Accuracy</th>\n",
       "      <th>Val Recall</th>\n",
       "    </tr>\n",
       "  </thead>\n",
       "  <tbody>\n",
       "    <tr>\n",
       "      <th>LogisticRegression</th>\n",
       "      <td>1.837188</td>\n",
       "      <td>96.60%</td>\n",
       "      <td>97.83%</td>\n",
       "      <td>95.16%</td>\n",
       "      <td>79.56%</td>\n",
       "    </tr>\n",
       "  </tbody>\n",
       "</table>\n",
       "</div>"
      ],
      "text/plain": [
       "                    Run Time Train Accuracy Train Recall Val Accuracy  \\\n",
       "LogisticRegression  1.837188         96.60%       97.83%       95.16%   \n",
       "\n",
       "                   Val Recall  \n",
       "LogisticRegression     79.56%  "
      ]
     },
     "metadata": {},
     "output_type": "display_data"
    },
    {
     "name": "stdout",
     "output_type": "stream",
     "text": [
      "--------------------------------------------------\u001b[1m\u001b[31mADASYN\u001b[0m---------------------------------------------------\n"
     ]
    },
    {
     "data": {
      "application/vnd.jupyter.widget-view+json": {
       "model_id": "380de4ae64414119860853b9fe85c647",
       "version_major": 2,
       "version_minor": 0
      },
      "text/plain": [
       "  0%|          | 0/1 [00:00<?, ?it/s]"
      ]
     },
     "metadata": {},
     "output_type": "display_data"
    },
    {
     "data": {
      "application/vnd.jupyter.widget-view+json": {
       "model_id": "47600e67ffe84147a3331ddd9e9aba72",
       "version_major": 2,
       "version_minor": 0
      },
      "text/plain": [
       "0it [00:00, ?it/s]"
      ]
     },
     "metadata": {},
     "output_type": "display_data"
    },
    {
     "name": "stdout",
     "output_type": "stream",
     "text": [
      "Resampling done in 0.26259565353393555\n",
      "Resampling done in 0.20572805404663086\n",
      "Resampling done in 0.2120192050933838\n",
      "Resampling done in 0.19292449951171875\n",
      "Resampling done in 0.18324494361877441\n"
     ]
    },
    {
     "data": {
      "text/html": [
       "<div>\n",
       "<style scoped>\n",
       "    .dataframe tbody tr th:only-of-type {\n",
       "        vertical-align: middle;\n",
       "    }\n",
       "\n",
       "    .dataframe tbody tr th {\n",
       "        vertical-align: top;\n",
       "    }\n",
       "\n",
       "    .dataframe thead th {\n",
       "        text-align: right;\n",
       "    }\n",
       "</style>\n",
       "<table border=\"1\" class=\"dataframe\">\n",
       "  <thead>\n",
       "    <tr style=\"text-align: right;\">\n",
       "      <th></th>\n",
       "      <th>Run Time</th>\n",
       "      <th>Train Accuracy</th>\n",
       "      <th>Train Recall</th>\n",
       "      <th>Val Accuracy</th>\n",
       "      <th>Val Recall</th>\n",
       "    </tr>\n",
       "  </thead>\n",
       "  <tbody>\n",
       "    <tr>\n",
       "      <th>LogisticRegression</th>\n",
       "      <td>1.629366</td>\n",
       "      <td>96.47%</td>\n",
       "      <td>98.15%</td>\n",
       "      <td>94.68%</td>\n",
       "      <td>81.33%</td>\n",
       "    </tr>\n",
       "  </tbody>\n",
       "</table>\n",
       "</div>"
      ],
      "text/plain": [
       "                    Run Time Train Accuracy Train Recall Val Accuracy  \\\n",
       "LogisticRegression  1.629366         96.47%       98.15%       94.68%   \n",
       "\n",
       "                   Val Recall  \n",
       "LogisticRegression     81.33%  "
      ]
     },
     "metadata": {},
     "output_type": "display_data"
    },
    {
     "name": "stdout",
     "output_type": "stream",
     "text": [
      "----------------------------------------------\u001b[1m\u001b[31mBorderlineSMOTE\u001b[0m----------------------------------------------\n"
     ]
    },
    {
     "data": {
      "application/vnd.jupyter.widget-view+json": {
       "model_id": "dd5467396eef48e59f6c41f77b65eca5",
       "version_major": 2,
       "version_minor": 0
      },
      "text/plain": [
       "  0%|          | 0/1 [00:00<?, ?it/s]"
      ]
     },
     "metadata": {},
     "output_type": "display_data"
    },
    {
     "data": {
      "application/vnd.jupyter.widget-view+json": {
       "model_id": "151213366710471cb04455e65565622a",
       "version_major": 2,
       "version_minor": 0
      },
      "text/plain": [
       "0it [00:00, ?it/s]"
      ]
     },
     "metadata": {},
     "output_type": "display_data"
    },
    {
     "name": "stdout",
     "output_type": "stream",
     "text": [
      "Resampling done in 0.21946954727172852\n",
      "Resampling done in 0.2012639045715332\n",
      "Resampling done in 0.18851494789123535\n",
      "Resampling done in 0.17865443229675293\n",
      "Resampling done in 0.2040693759918213\n"
     ]
    },
    {
     "data": {
      "text/html": [
       "<div>\n",
       "<style scoped>\n",
       "    .dataframe tbody tr th:only-of-type {\n",
       "        vertical-align: middle;\n",
       "    }\n",
       "\n",
       "    .dataframe tbody tr th {\n",
       "        vertical-align: top;\n",
       "    }\n",
       "\n",
       "    .dataframe thead th {\n",
       "        text-align: right;\n",
       "    }\n",
       "</style>\n",
       "<table border=\"1\" class=\"dataframe\">\n",
       "  <thead>\n",
       "    <tr style=\"text-align: right;\">\n",
       "      <th></th>\n",
       "      <th>Run Time</th>\n",
       "      <th>Train Accuracy</th>\n",
       "      <th>Train Recall</th>\n",
       "      <th>Val Accuracy</th>\n",
       "      <th>Val Recall</th>\n",
       "    </tr>\n",
       "  </thead>\n",
       "  <tbody>\n",
       "    <tr>\n",
       "      <th>LogisticRegression</th>\n",
       "      <td>1.794193</td>\n",
       "      <td>97.28%</td>\n",
       "      <td>98.35%</td>\n",
       "      <td>95.95%</td>\n",
       "      <td>76.89%</td>\n",
       "    </tr>\n",
       "  </tbody>\n",
       "</table>\n",
       "</div>"
      ],
      "text/plain": [
       "                    Run Time Train Accuracy Train Recall Val Accuracy  \\\n",
       "LogisticRegression  1.794193         97.28%       98.35%       95.95%   \n",
       "\n",
       "                   Val Recall  \n",
       "LogisticRegression     76.89%  "
      ]
     },
     "metadata": {},
     "output_type": "display_data"
    },
    {
     "name": "stdout",
     "output_type": "stream",
     "text": [
      "-------------------------------------------------\u001b[1m\u001b[31mSVMSMOTE\u001b[0m--------------------------------------------------\n"
     ]
    },
    {
     "data": {
      "application/vnd.jupyter.widget-view+json": {
       "model_id": "aa39def434e44fffa93a5aa34dd12c7c",
       "version_major": 2,
       "version_minor": 0
      },
      "text/plain": [
       "  0%|          | 0/1 [00:00<?, ?it/s]"
      ]
     },
     "metadata": {},
     "output_type": "display_data"
    },
    {
     "data": {
      "application/vnd.jupyter.widget-view+json": {
       "model_id": "c3e1eb6015644b5b8f3abe5af2281a4a",
       "version_major": 2,
       "version_minor": 0
      },
      "text/plain": [
       "0it [00:00, ?it/s]"
      ]
     },
     "metadata": {},
     "output_type": "display_data"
    },
    {
     "name": "stdout",
     "output_type": "stream",
     "text": [
      "Resampling done in 3.3244128227233887\n",
      "Resampling done in 9.622299909591675\n",
      "Resampling done in 17.77717399597168\n",
      "Resampling done in 14.96377944946289\n",
      "Resampling done in 3.872436046600342\n"
     ]
    },
    {
     "data": {
      "text/html": [
       "<div>\n",
       "<style scoped>\n",
       "    .dataframe tbody tr th:only-of-type {\n",
       "        vertical-align: middle;\n",
       "    }\n",
       "\n",
       "    .dataframe tbody tr th {\n",
       "        vertical-align: top;\n",
       "    }\n",
       "\n",
       "    .dataframe thead th {\n",
       "        text-align: right;\n",
       "    }\n",
       "</style>\n",
       "<table border=\"1\" class=\"dataframe\">\n",
       "  <thead>\n",
       "    <tr style=\"text-align: right;\">\n",
       "      <th></th>\n",
       "      <th>Run Time</th>\n",
       "      <th>Train Accuracy</th>\n",
       "      <th>Train Recall</th>\n",
       "      <th>Val Accuracy</th>\n",
       "      <th>Val Recall</th>\n",
       "    </tr>\n",
       "  </thead>\n",
       "  <tbody>\n",
       "    <tr>\n",
       "      <th>LogisticRegression</th>\n",
       "      <td>1.987242</td>\n",
       "      <td>97.87%</td>\n",
       "      <td>98.33%</td>\n",
       "      <td>97.22%</td>\n",
       "      <td>74.67%</td>\n",
       "    </tr>\n",
       "  </tbody>\n",
       "</table>\n",
       "</div>"
      ],
      "text/plain": [
       "                    Run Time Train Accuracy Train Recall Val Accuracy  \\\n",
       "LogisticRegression  1.987242         97.87%       98.33%       97.22%   \n",
       "\n",
       "                   Val Recall  \n",
       "LogisticRegression     74.67%  "
      ]
     },
     "metadata": {},
     "output_type": "display_data"
    },
    {
     "data": {
      "image/png": "[encoded data removed]",
      "text/plain": [
       "<Figure size 2000x800 with 1 Axes>"
      ]
     },
     "metadata": {},
     "output_type": "display_data"
    }
   ],
   "source": [
    "res_list = [('SMOTE', SMOTE()),\n",
    "            ('ADASYN', ADASYN()),('BorderlineSMOTE', BorderlineSMOTE()),('SVMSMOTE', SVMSMOTE())]\n",
    "\n",
    "outputs = []\n",
    "for title, res in res_list:\n",
    "    print(colored(title, 'red', attrs=['bold']).center(120, \"-\"))\n",
    "    var = auto_ml(X_trainval, y_trainval, models_dict, scaler=MinMaxScaler(),\n",
    "                    cv=StratifiedKFold(n_splits=5), res_t=res)\n",
    "    outputs.append(var[0])\n",
    "    display(var[1])\n",
    "\n",
    "ps_over = pd.DataFrame(index=models_dict.keys())\n",
    "ps_over['NoResampling Val Recall'] = auto_run[1]['Val Recall']\n",
    "ps_over['SMOTE Val Recall'] = outputs[0]['Val Recall']\n",
    "ps_over['ADASYN Val Recall'] = outputs[1]['Val Recall']\n",
    "ps_over['BorderlineSMOTE Val Recall'] = outputs[2]['Val Recall']\n",
    "ps_over['SVMSMOTE Val Recall'] = outputs[3]['Val Recall']\n",
    "fig, ax = plt.subplots(figsize=(20, 8))\n",
    "ps_over.plot.bar(ax=ax)\n",
    "ax.set_ylabel('Recall Score', fontsize=12)\n",
    "for spine in ['right', 'top']:\n",
    "        ax.spines[spine].set_visible(False)\n",
    "ax.legend(edgecolor='white')\n",
    "fig.suptitle(\"Resampling Techniques-Oversampling\", size=15, y=0.9, weight='bold')\n",
    "plt.xticks(rotation=45, fontsize=12)\n",
    "plt.show()"
   ]
  },
  {
   "cell_type": "markdown",
   "metadata": {},
   "source": [
    "#### Undersampling"
   ]
  },
  {
   "cell_type": "code",
   "execution_count": 11,
   "metadata": {
    "ExecuteTime": {
     "end_time": "2022-06-25T18:40:04.141335Z",
     "start_time": "2022-06-25T18:09:12.815457Z"
    }
   },
   "outputs": [
    {
     "name": "stdout",
     "output_type": "stream",
     "text": [
      "------------------------------------------------\u001b[1m\u001b[31mTomekLinks\u001b[0m-------------------------------------------------\n"
     ]
    },
    {
     "data": {
      "application/vnd.jupyter.widget-view+json": {
       "model_id": "fe9b51865f6b4239b1db6e9344c52aab",
       "version_major": 2,
       "version_minor": 0
      },
      "text/plain": [
       "  0%|          | 0/1 [00:00<?, ?it/s]"
      ]
     },
     "metadata": {},
     "output_type": "display_data"
    },
    {
     "data": {
      "application/vnd.jupyter.widget-view+json": {
       "model_id": "c033460c3ffb45909640d7af3701c7b9",
       "version_major": 2,
       "version_minor": 0
      },
      "text/plain": [
       "0it [00:00, ?it/s]"
      ]
     },
     "metadata": {},
     "output_type": "display_data"
    },
    {
     "name": "stdout",
     "output_type": "stream",
     "text": [
      "Resampling done in 3.9438130855560303\n",
      "Resampling done in 3.5826809406280518\n",
      "Resampling done in 3.592317819595337\n",
      "Resampling done in 3.725853443145752\n",
      "Resampling done in 4.409320116043091\n"
     ]
    },
    {
     "data": {
      "text/html": [
       "<div>\n",
       "<style scoped>\n",
       "    .dataframe tbody tr th:only-of-type {\n",
       "        vertical-align: middle;\n",
       "    }\n",
       "\n",
       "    .dataframe tbody tr th {\n",
       "        vertical-align: top;\n",
       "    }\n",
       "\n",
       "    .dataframe thead th {\n",
       "        text-align: right;\n",
       "    }\n",
       "</style>\n",
       "<table border=\"1\" class=\"dataframe\">\n",
       "  <thead>\n",
       "    <tr style=\"text-align: right;\">\n",
       "      <th></th>\n",
       "      <th>Run Time</th>\n",
       "      <th>Train Accuracy</th>\n",
       "      <th>Train Recall</th>\n",
       "      <th>Val Accuracy</th>\n",
       "      <th>Val Recall</th>\n",
       "    </tr>\n",
       "  </thead>\n",
       "  <tbody>\n",
       "    <tr>\n",
       "      <th>LogisticRegression</th>\n",
       "      <td>2.390545</td>\n",
       "      <td>99.38%</td>\n",
       "      <td>40.33%</td>\n",
       "      <td>99.28%</td>\n",
       "      <td>32.00%</td>\n",
       "    </tr>\n",
       "  </tbody>\n",
       "</table>\n",
       "</div>"
      ],
      "text/plain": [
       "                    Run Time Train Accuracy Train Recall Val Accuracy  \\\n",
       "LogisticRegression  2.390545         99.38%       40.33%       99.28%   \n",
       "\n",
       "                   Val Recall  \n",
       "LogisticRegression     32.00%  "
      ]
     },
     "metadata": {},
     "output_type": "display_data"
    },
    {
     "name": "stdout",
     "output_type": "stream",
     "text": [
      "-------------------------------------------------\u001b[1m\u001b[31mNearMiss\u001b[0m--------------------------------------------------\n"
     ]
    },
    {
     "data": {
      "application/vnd.jupyter.widget-view+json": {
       "model_id": "ea2149d621ac419db50bb6a94264b98f",
       "version_major": 2,
       "version_minor": 0
      },
      "text/plain": [
       "  0%|          | 0/1 [00:00<?, ?it/s]"
      ]
     },
     "metadata": {},
     "output_type": "display_data"
    },
    {
     "data": {
      "application/vnd.jupyter.widget-view+json": {
       "model_id": "43e1654418d04cb4a6f11e219a430cce",
       "version_major": 2,
       "version_minor": 0
      },
      "text/plain": [
       "0it [00:00, ?it/s]"
      ]
     },
     "metadata": {},
     "output_type": "display_data"
    },
    {
     "name": "stdout",
     "output_type": "stream",
     "text": [
      "Resampling done in 4.6530702114105225\n",
      "Resampling done in 1.0212326049804688\n",
      "Resampling done in 0.5351221561431885\n",
      "Resampling done in 0.8627161979675293\n",
      "Resampling done in 0.5773634910583496\n"
     ]
    },
    {
     "data": {
      "text/html": [
       "<div>\n",
       "<style scoped>\n",
       "    .dataframe tbody tr th:only-of-type {\n",
       "        vertical-align: middle;\n",
       "    }\n",
       "\n",
       "    .dataframe tbody tr th {\n",
       "        vertical-align: top;\n",
       "    }\n",
       "\n",
       "    .dataframe thead th {\n",
       "        text-align: right;\n",
       "    }\n",
       "</style>\n",
       "<table border=\"1\" class=\"dataframe\">\n",
       "  <thead>\n",
       "    <tr style=\"text-align: right;\">\n",
       "      <th></th>\n",
       "      <th>Run Time</th>\n",
       "      <th>Train Accuracy</th>\n",
       "      <th>Train Recall</th>\n",
       "      <th>Val Accuracy</th>\n",
       "      <th>Val Recall</th>\n",
       "    </tr>\n",
       "  </thead>\n",
       "  <tbody>\n",
       "    <tr>\n",
       "      <th>LogisticRegression</th>\n",
       "      <td>0.087848</td>\n",
       "      <td>87.06%</td>\n",
       "      <td>79.22%</td>\n",
       "      <td>52.04%</td>\n",
       "      <td>77.33%</td>\n",
       "    </tr>\n",
       "  </tbody>\n",
       "</table>\n",
       "</div>"
      ],
      "text/plain": [
       "                    Run Time Train Accuracy Train Recall Val Accuracy  \\\n",
       "LogisticRegression  0.087848         87.06%       79.22%       52.04%   \n",
       "\n",
       "                   Val Recall  \n",
       "LogisticRegression     77.33%  "
      ]
     },
     "metadata": {},
     "output_type": "display_data"
    },
    {
     "name": "stdout",
     "output_type": "stream",
     "text": [
      "------------------------------------------\u001b[1m\u001b[31mEditedNearestNeighbours\u001b[0m------------------------------------------\n"
     ]
    },
    {
     "data": {
      "application/vnd.jupyter.widget-view+json": {
       "model_id": "68d8489cf42841d0ba33c6303621700d",
       "version_major": 2,
       "version_minor": 0
      },
      "text/plain": [
       "  0%|          | 0/1 [00:00<?, ?it/s]"
      ]
     },
     "metadata": {},
     "output_type": "display_data"
    },
    {
     "data": {
      "application/vnd.jupyter.widget-view+json": {
       "model_id": "2d90faeb2bed4d69a3cba2c30dfe50a5",
       "version_major": 2,
       "version_minor": 0
      },
      "text/plain": [
       "0it [00:00, ?it/s]"
      ]
     },
     "metadata": {},
     "output_type": "display_data"
    },
    {
     "name": "stdout",
     "output_type": "stream",
     "text": [
      "Resampling done in 1.9671077728271484\n",
      "Resampling done in 1.647951364517212\n",
      "Resampling done in 1.4983370304107666\n",
      "Resampling done in 1.4673311710357666\n",
      "Resampling done in 1.543661117553711\n"
     ]
    },
    {
     "data": {
      "text/html": [
       "<div>\n",
       "<style scoped>\n",
       "    .dataframe tbody tr th:only-of-type {\n",
       "        vertical-align: middle;\n",
       "    }\n",
       "\n",
       "    .dataframe tbody tr th {\n",
       "        vertical-align: top;\n",
       "    }\n",
       "\n",
       "    .dataframe thead th {\n",
       "        text-align: right;\n",
       "    }\n",
       "</style>\n",
       "<table border=\"1\" class=\"dataframe\">\n",
       "  <thead>\n",
       "    <tr style=\"text-align: right;\">\n",
       "      <th></th>\n",
       "      <th>Run Time</th>\n",
       "      <th>Train Accuracy</th>\n",
       "      <th>Train Recall</th>\n",
       "      <th>Val Accuracy</th>\n",
       "      <th>Val Recall</th>\n",
       "    </tr>\n",
       "  </thead>\n",
       "  <tbody>\n",
       "    <tr>\n",
       "      <th>LogisticRegression</th>\n",
       "      <td>0.932405</td>\n",
       "      <td>99.38%</td>\n",
       "      <td>40.78%</td>\n",
       "      <td>99.28%</td>\n",
       "      <td>32.00%</td>\n",
       "    </tr>\n",
       "  </tbody>\n",
       "</table>\n",
       "</div>"
      ],
      "text/plain": [
       "                    Run Time Train Accuracy Train Recall Val Accuracy  \\\n",
       "LogisticRegression  0.932405         99.38%       40.78%       99.28%   \n",
       "\n",
       "                   Val Recall  \n",
       "LogisticRegression     32.00%  "
      ]
     },
     "metadata": {},
     "output_type": "display_data"
    },
    {
     "name": "stdout",
     "output_type": "stream",
     "text": [
      "--------------------------------------------------\u001b[1m\u001b[31mAllKNN\u001b[0m---------------------------------------------------\n"
     ]
    },
    {
     "data": {
      "application/vnd.jupyter.widget-view+json": {
       "model_id": "6ebfe005a01741bc93ba5a49d356b907",
       "version_major": 2,
       "version_minor": 0
      },
      "text/plain": [
       "  0%|          | 0/1 [00:00<?, ?it/s]"
      ]
     },
     "metadata": {},
     "output_type": "display_data"
    },
    {
     "data": {
      "application/vnd.jupyter.widget-view+json": {
       "model_id": "de9b373abfac4a86aa7cd37c18f4ef49",
       "version_major": 2,
       "version_minor": 0
      },
      "text/plain": [
       "0it [00:00, ?it/s]"
      ]
     },
     "metadata": {},
     "output_type": "display_data"
    },
    {
     "name": "stdout",
     "output_type": "stream",
     "text": [
      "Resampling done in 3.9960713386535645\n",
      "Resampling done in 7.899340867996216\n",
      "Resampling done in 10.364962816238403\n",
      "Resampling done in 9.87842607498169\n",
      "Resampling done in 9.829288244247437\n"
     ]
    },
    {
     "data": {
      "text/html": [
       "<div>\n",
       "<style scoped>\n",
       "    .dataframe tbody tr th:only-of-type {\n",
       "        vertical-align: middle;\n",
       "    }\n",
       "\n",
       "    .dataframe tbody tr th {\n",
       "        vertical-align: top;\n",
       "    }\n",
       "\n",
       "    .dataframe thead th {\n",
       "        text-align: right;\n",
       "    }\n",
       "</style>\n",
       "<table border=\"1\" class=\"dataframe\">\n",
       "  <thead>\n",
       "    <tr style=\"text-align: right;\">\n",
       "      <th></th>\n",
       "      <th>Run Time</th>\n",
       "      <th>Train Accuracy</th>\n",
       "      <th>Train Recall</th>\n",
       "      <th>Val Accuracy</th>\n",
       "      <th>Val Recall</th>\n",
       "    </tr>\n",
       "  </thead>\n",
       "  <tbody>\n",
       "    <tr>\n",
       "      <th>LogisticRegression</th>\n",
       "      <td>2.067579</td>\n",
       "      <td>99.38%</td>\n",
       "      <td>40.67%</td>\n",
       "      <td>99.28%</td>\n",
       "      <td>32.44%</td>\n",
       "    </tr>\n",
       "  </tbody>\n",
       "</table>\n",
       "</div>"
      ],
      "text/plain": [
       "                    Run Time Train Accuracy Train Recall Val Accuracy  \\\n",
       "LogisticRegression  2.067579         99.38%       40.67%       99.28%   \n",
       "\n",
       "                   Val Recall  \n",
       "LogisticRegression     32.44%  "
      ]
     },
     "metadata": {},
     "output_type": "display_data"
    }
   ],
   "source": [
    "res_list = [('TomekLinks', TomekLinks()),\n",
    "            ('NearMiss', NearMiss()),('EditedNearestNeighbours', EditedNearestNeighbours()),('AllKNN', AllKNN())]\n",
    "\n",
    "outputs_u = []\n",
    "for title, res in res_list:\n",
    "    print(colored(title, 'red', attrs=['bold']).center(120, \"-\"))\n",
    "    var = auto_ml(X_trainval, y_trainval, models_dict, scaler=MinMaxScaler(),\n",
    "                  cv=StratifiedKFold(n_splits=5), res_t=res)\n",
    "    outputs_u.append(var[0])\n",
    "    display(var[1])"
   ]
  },
  {
   "cell_type": "code",
   "execution_count": 12,
   "metadata": {
    "ExecuteTime": {
     "end_time": "2022-06-25T18:40:06.676847Z",
     "start_time": "2022-06-25T18:40:04.293020Z"
    }
   },
   "outputs": [
    {
     "data": {
      "image/png": "[encoded data removed]",
      "text/plain": [
       "<Figure size 2000x800 with 1 Axes>"
      ]
     },
     "metadata": {},
     "output_type": "display_data"
    }
   ],
   "source": [
    "ps_under = pd.DataFrame(index=models_dict.keys())\n",
    "ps_under['NoResampling Val Recall'] = auto_run[1]['Val Recall']\n",
    "ps_under['TomekLinks Val Recall'] = outputs_u[0]['Val Recall']\n",
    "ps_under['NearMiss Val Recall'] = outputs_u[1]['Val Recall']\n",
    "ps_under['EditedNearestNeighbours'] = outputs_u[2]['Val Recall']\n",
    "ps_under['AllKNN'] = outputs_u[3]['Val Recall']\n",
    "\n",
    "fig, ax = plt.subplots(figsize=(20, 8))\n",
    "ps_under.plot.bar(ax=ax)\n",
    "ax.set_ylabel('Recall Score', fontsize=12)\n",
    "for spine in ['right', 'top']:\n",
    "        ax.spines[spine].set_visible(False)\n",
    "ax.legend(edgecolor='white')\n",
    "fig.suptitle(\"Resampling Techniques-Undersampling\", size=15, y=0.9, weight='bold')\n",
    "plt.xticks(rotation=45, fontsize=12)\n",
    "plt.show()"
   ]
  },
  {
   "cell_type": "markdown",
   "metadata": {},
   "source": [
    "<div><span style=\"background-color: #ff0257; padding-top: 100px; padding-right: 20px; padding-bottom: 50px; padding-left: 20px; color: #FFFAF0; font-size: 18px; font-weight: bold\">Grid-Search and Randomized Search Cross Validation </span></div>"
   ]
  },
  {
   "cell_type": "markdown",
   "metadata": {},
   "source": [
    "[Grid Search](https://scikit-learn.org/stable/modules/generated/sklearn.model_selection.GridSearchCV.html) and [Randomized Search Cross Validation](https://scikit-learn.org/stable/modules/generated/sklearn.model_selection.RandomizedSearchCV.html) are commonly used to hypertune models across multiple parameters"
   ]
  },
  {
   "cell_type": "code",
   "execution_count": 13,
   "metadata": {
    "ExecuteTime": {
     "end_time": "2022-06-25T18:44:46.659479Z",
     "start_time": "2022-06-25T18:44:46.643942Z"
    }
   },
   "outputs": [],
   "source": [
    "#Grid search iterates all combination of your paramaters\n",
    "#Randomized Search CV what would be the random combination of the variables that I would need to try to get the best \n",
    "    #(need to input number of iteration; different combination yung gagawin niya per iteration)\n",
    "\n",
    "def train_rf(X, y, metric, res_t=None, hypertune=False, resample=False):\n",
    "    \"\"\"Hypertune Logistic Regression and apply ADASYN()\"\"\"\n",
    "    params = {'C': [1e-8, 1e-5, 1e-3, 0.1, 0.2, 0.4, 0.75, 1]\n",
    "              }\n",
    "    new_params = {'logisticregression__' +   #make sure to properly state this (model you are trying)\n",
    "                  key: params[key] for key in params}\n",
    "\n",
    "    skf = StratifiedKFold(n_splits=5)\n",
    "    if resample is True:\n",
    "        imba_pipeline = make_pipeline(MinMaxScaler(),\n",
    "                                      res_t,\n",
    "                                      LogisticRegression(random_state=143))\n",
    "    else:\n",
    "        imba_pipeline = make_pipeline(MinMaxScaler(),\n",
    "                                      LogisticRegression(random_state=143))\n",
    "\n",
    "    if hypertune is True:\n",
    "        clf = GridSearchCV(imba_pipeline, param_grid=new_params,\n",
    "                           cv=skf, scoring=metric, return_train_score=True,\n",
    "                          verbose=10) #verbose = 10 means you can see the whole picture of each iteration; if 1 ang makikita lang ay \"fitting 120 fits\"\n",
    "        start_time = time.time()\n",
    "        clf.fit(X, y)\n",
    "        run_time = (time.time() - start_time)\n",
    "        model = clf.best_estimator_.fit(X, y)\n",
    "        return ['LogisticRegression', np.mean(clf.cv_results_['mean_train_score']),\n",
    "                clf.best_score_, 'Best parameters = {0}'.format(\n",
    "                    clf.best_params_),\n",
    "                run_time, model]\n",
    "    else:\n",
    "        clf = imba_pipeline #not the hypertuned result\n",
    "        start_time = time.time()\n",
    "        clf.fit(X, y)\n",
    "        run_time = (time.time() - start_time)\n",
    "        cv_scores = cross_validate(estimator=clf, X=X, y=y,\n",
    "                                   scoring=metric, cv=skf, n_jobs=-1,\n",
    "                                   return_train_score=True)\n",
    "\n",
    "        return ['LogisticRegression', np.mean(cv_scores['train_score']),\n",
    "                np.mean(cv_scores['test_score']), run_time, clf]"
   ]
  },
  {
   "cell_type": "code",
   "execution_count": 14,
   "metadata": {},
   "outputs": [
    {
     "name": "stdout",
     "output_type": "stream",
     "text": [
      "Fitting 5 folds for each of 8 candidates, totalling 40 fits\n",
      "[CV 1/5; 1/8] START logisticregression__C=1e-08.................................\n",
      "[CV 1/5; 1/8] END logisticregression__C=1e-08;, score=(train=1.000, test=1.000) total time=   1.8s\n",
      "[CV 2/5; 1/8] START logisticregression__C=1e-08.................................\n",
      "[CV 2/5; 1/8] END logisticregression__C=1e-08;, score=(train=0.983, test=0.978) total time=   0.7s\n",
      "[CV 3/5; 1/8] START logisticregression__C=1e-08.................................\n",
      "[CV 3/5; 1/8] END logisticregression__C=1e-08;, score=(train=0.000, test=0.000) total time=   0.6s\n",
      "[CV 4/5; 1/8] START logisticregression__C=1e-08.................................\n",
      "[CV 4/5; 1/8] END logisticregression__C=1e-08;, score=(train=0.972, test=0.956) total time=   0.5s\n",
      "[CV 5/5; 1/8] START logisticregression__C=1e-08.................................\n",
      "[CV 5/5; 1/8] END logisticregression__C=1e-08;, score=(train=1.000, test=1.000) total time=   0.4s\n",
      "[CV 1/5; 2/8] START logisticregression__C=1e-05.................................\n",
      "[CV 1/5; 2/8] END logisticregression__C=1e-05;, score=(train=0.789, test=0.756) total time=   0.5s\n",
      "[CV 2/5; 2/8] START logisticregression__C=1e-05.................................\n",
      "[CV 2/5; 2/8] END logisticregression__C=1e-05;, score=(train=0.833, test=0.800) total time=   0.4s\n",
      "[CV 3/5; 2/8] START logisticregression__C=1e-05.................................\n",
      "[CV 3/5; 2/8] END logisticregression__C=1e-05;, score=(train=0.783, test=0.800) total time=   0.4s\n",
      "[CV 4/5; 2/8] START logisticregression__C=1e-05.................................\n",
      "[CV 4/5; 2/8] END logisticregression__C=1e-05;, score=(train=0.761, test=0.667) total time=   0.4s\n",
      "[CV 5/5; 2/8] START logisticregression__C=1e-05.................................\n",
      "[CV 5/5; 2/8] END logisticregression__C=1e-05;, score=(train=0.817, test=0.622) total time=   0.4s\n",
      "[CV 1/5; 3/8] START logisticregression__C=0.001.................................\n",
      "[CV 1/5; 3/8] END logisticregression__C=0.001;, score=(train=0.878, test=0.867) total time=   0.6s\n",
      "[CV 2/5; 3/8] START logisticregression__C=0.001.................................\n",
      "[CV 2/5; 3/8] END logisticregression__C=0.001;, score=(train=0.894, test=0.911) total time=   0.7s\n",
      "[CV 3/5; 3/8] START logisticregression__C=0.001.................................\n",
      "[CV 3/5; 3/8] END logisticregression__C=0.001;, score=(train=0.878, test=0.933) total time=   0.7s\n",
      "[CV 4/5; 3/8] START logisticregression__C=0.001.................................\n",
      "[CV 4/5; 3/8] END logisticregression__C=0.001;, score=(train=0.883, test=0.800) total time=   0.6s\n",
      "[CV 5/5; 3/8] START logisticregression__C=0.001.................................\n",
      "[CV 5/5; 3/8] END logisticregression__C=0.001;, score=(train=0.894, test=0.778) total time=   0.6s\n",
      "[CV 1/5; 4/8] START logisticregression__C=0.1...................................\n",
      "[CV 1/5; 4/8] END logisticregression__C=0.1;, score=(train=0.933, test=0.844) total time=   2.2s\n",
      "[CV 2/5; 4/8] START logisticregression__C=0.1...................................\n",
      "[CV 2/5; 4/8] END logisticregression__C=0.1;, score=(train=0.944, test=0.800) total time=   4.9s\n",
      "[CV 3/5; 4/8] START logisticregression__C=0.1...................................\n",
      "[CV 3/5; 4/8] END logisticregression__C=0.1;, score=(train=0.939, test=0.933) total time=   6.5s\n",
      "[CV 4/5; 4/8] START logisticregression__C=0.1...................................\n",
      "[CV 4/5; 4/8] END logisticregression__C=0.1;, score=(train=0.956, test=0.778) total time=   6.3s\n",
      "[CV 5/5; 4/8] START logisticregression__C=0.1...................................\n",
      "[CV 5/5; 4/8] END logisticregression__C=0.1;, score=(train=0.950, test=0.822) total time=   6.0s\n",
      "[CV 1/5; 5/8] START logisticregression__C=0.2...................................\n",
      "[CV 1/5; 5/8] END logisticregression__C=0.2;, score=(train=0.944, test=0.844) total time=   7.4s\n",
      "[CV 2/5; 5/8] START logisticregression__C=0.2...................................\n",
      "[CV 2/5; 5/8] END logisticregression__C=0.2;, score=(train=0.933, test=0.822) total time=   7.5s\n",
      "[CV 3/5; 5/8] START logisticregression__C=0.2...................................\n",
      "[CV 3/5; 5/8] END logisticregression__C=0.2;, score=(train=0.944, test=0.933) total time=   6.8s\n",
      "[CV 4/5; 5/8] START logisticregression__C=0.2...................................\n",
      "[CV 4/5; 5/8] END logisticregression__C=0.2;, score=(train=0.967, test=0.733) total time=   6.6s\n",
      "[CV 5/5; 5/8] START logisticregression__C=0.2...................................\n",
      "[CV 5/5; 5/8] END logisticregression__C=0.2;, score=(train=0.939, test=0.800) total time=   5.5s\n",
      "[CV 1/5; 6/8] START logisticregression__C=0.4...................................\n",
      "[CV 1/5; 6/8] END logisticregression__C=0.4;, score=(train=0.944, test=0.822) total time=   2.9s\n",
      "[CV 2/5; 6/8] START logisticregression__C=0.4...................................\n",
      "[CV 2/5; 6/8] END logisticregression__C=0.4;, score=(train=0.944, test=0.800) total time=   2.5s\n",
      "[CV 3/5; 6/8] START logisticregression__C=0.4...................................\n",
      "[CV 3/5; 6/8] END logisticregression__C=0.4;, score=(train=0.956, test=0.889) total time=   2.2s\n",
      "[CV 4/5; 6/8] START logisticregression__C=0.4...................................\n",
      "[CV 4/5; 6/8] END logisticregression__C=0.4;, score=(train=0.961, test=0.733) total time=   2.1s\n",
      "[CV 5/5; 6/8] START logisticregression__C=0.4...................................\n",
      "[CV 5/5; 6/8] END logisticregression__C=0.4;, score=(train=0.956, test=0.800) total time=   2.0s\n",
      "[CV 1/5; 7/8] START logisticregression__C=0.75..................................\n",
      "[CV 1/5; 7/8] END logisticregression__C=0.75;, score=(train=0.944, test=0.822) total time=   2.3s\n",
      "[CV 2/5; 7/8] START logisticregression__C=0.75..................................\n",
      "[CV 2/5; 7/8] END logisticregression__C=0.75;, score=(train=0.944, test=0.822) total time=   2.0s\n",
      "[CV 3/5; 7/8] START logisticregression__C=0.75..................................\n",
      "[CV 3/5; 7/8] END logisticregression__C=0.75;, score=(train=0.950, test=0.889) total time=   2.5s\n",
      "[CV 4/5; 7/8] START logisticregression__C=0.75..................................\n",
      "[CV 4/5; 7/8] END logisticregression__C=0.75;, score=(train=0.972, test=0.733) total time=   4.1s\n",
      "[CV 5/5; 7/8] START logisticregression__C=0.75..................................\n",
      "[CV 5/5; 7/8] END logisticregression__C=0.75;, score=(train=0.939, test=0.778) total time=   6.9s\n",
      "[CV 1/5; 8/8] START logisticregression__C=1.....................................\n",
      "[CV 1/5; 8/8] END logisticregression__C=1;, score=(train=0.950, test=0.822) total time=   7.2s\n",
      "[CV 2/5; 8/8] START logisticregression__C=1.....................................\n",
      "[CV 2/5; 8/8] END logisticregression__C=1;, score=(train=0.939, test=0.822) total time=   6.7s\n",
      "[CV 3/5; 8/8] START logisticregression__C=1.....................................\n",
      "[CV 3/5; 8/8] END logisticregression__C=1;, score=(train=0.961, test=0.889) total time=   7.1s\n",
      "[CV 4/5; 8/8] START logisticregression__C=1.....................................\n",
      "[CV 4/5; 8/8] END logisticregression__C=1;, score=(train=0.961, test=0.733) total time=   7.2s\n",
      "[CV 5/5; 8/8] START logisticregression__C=1.....................................\n",
      "[CV 5/5; 8/8] END logisticregression__C=1;, score=(train=0.956, test=0.778) total time=   6.6s\n",
      "Fitting 5 folds for each of 8 candidates, totalling 40 fits\n",
      "[CV 1/5; 1/8] START logisticregression__C=1e-08.................................\n",
      "[CV 1/5; 1/8] END logisticregression__C=1e-08;, score=(train=0.010, test=0.010) total time=   3.1s\n",
      "[CV 2/5; 1/8] START logisticregression__C=1e-08.................................\n",
      "[CV 2/5; 1/8] END logisticregression__C=1e-08;, score=(train=0.471, test=0.460) total time=   1.3s\n",
      "[CV 3/5; 1/8] START logisticregression__C=1e-08.................................\n",
      "[CV 3/5; 1/8] END logisticregression__C=1e-08;, score=(train=0.990, test=0.990) total time=   1.2s\n",
      "[CV 4/5; 1/8] START logisticregression__C=1e-08.................................\n",
      "[CV 4/5; 1/8] END logisticregression__C=1e-08;, score=(train=0.381, test=0.387) total time=   0.6s\n",
      "[CV 5/5; 1/8] START logisticregression__C=1e-08.................................\n",
      "[CV 5/5; 1/8] END logisticregression__C=1e-08;, score=(train=0.010, test=0.010) total time=   0.6s\n",
      "[CV 1/5; 2/8] START logisticregression__C=1e-05.................................\n"
     ]
    },
    {
     "name": "stdout",
     "output_type": "stream",
     "text": [
      "[CV 1/5; 2/8] END logisticregression__C=1e-05;, score=(train=0.724, test=0.722) total time=   0.6s\n",
      "[CV 2/5; 2/8] START logisticregression__C=1e-05.................................\n",
      "[CV 2/5; 2/8] END logisticregression__C=1e-05;, score=(train=0.740, test=0.738) total time=   0.6s\n",
      "[CV 3/5; 2/8] START logisticregression__C=1e-05.................................\n",
      "[CV 3/5; 2/8] END logisticregression__C=1e-05;, score=(train=0.768, test=0.762) total time=   0.5s\n",
      "[CV 4/5; 2/8] START logisticregression__C=1e-05.................................\n",
      "[CV 4/5; 2/8] END logisticregression__C=1e-05;, score=(train=0.741, test=0.745) total time=   0.5s\n",
      "[CV 5/5; 2/8] START logisticregression__C=1e-05.................................\n",
      "[CV 5/5; 2/8] END logisticregression__C=1e-05;, score=(train=0.736, test=0.734) total time=   0.5s\n",
      "[CV 1/5; 3/8] START logisticregression__C=0.001.................................\n",
      "[CV 1/5; 3/8] END logisticregression__C=0.001;, score=(train=0.802, test=0.802) total time=   0.7s\n",
      "[CV 2/5; 3/8] START logisticregression__C=0.001.................................\n",
      "[CV 2/5; 3/8] END logisticregression__C=0.001;, score=(train=0.792, test=0.795) total time=   0.7s\n",
      "[CV 3/5; 3/8] START logisticregression__C=0.001.................................\n",
      "[CV 3/5; 3/8] END logisticregression__C=0.001;, score=(train=0.811, test=0.801) total time=   0.7s\n",
      "[CV 4/5; 3/8] START logisticregression__C=0.001.................................\n",
      "[CV 4/5; 3/8] END logisticregression__C=0.001;, score=(train=0.817, test=0.818) total time=   0.7s\n",
      "[CV 5/5; 3/8] START logisticregression__C=0.001.................................\n",
      "[CV 5/5; 3/8] END logisticregression__C=0.001;, score=(train=0.808, test=0.810) total time=   0.7s\n",
      "[CV 1/5; 4/8] START logisticregression__C=0.1...................................\n",
      "[CV 1/5; 4/8] END logisticregression__C=0.1;, score=(train=0.929, test=0.930) total time=   2.4s\n",
      "[CV 2/5; 4/8] START logisticregression__C=0.1...................................\n",
      "[CV 2/5; 4/8] END logisticregression__C=0.1;, score=(train=0.924, test=0.925) total time=   2.3s\n",
      "[CV 3/5; 4/8] START logisticregression__C=0.1...................................\n",
      "[CV 3/5; 4/8] END logisticregression__C=0.1;, score=(train=0.926, test=0.921) total time=   2.4s\n",
      "[CV 4/5; 4/8] START logisticregression__C=0.1...................................\n",
      "[CV 4/5; 4/8] END logisticregression__C=0.1;, score=(train=0.935, test=0.931) total time=   4.3s\n",
      "[CV 5/5; 4/8] START logisticregression__C=0.1...................................\n",
      "[CV 5/5; 4/8] END logisticregression__C=0.1;, score=(train=0.931, test=0.927) total time=   6.5s\n",
      "[CV 1/5; 5/8] START logisticregression__C=0.2...................................\n",
      "[CV 1/5; 5/8] END logisticregression__C=0.2;, score=(train=0.936, test=0.938) total time=   7.0s\n",
      "[CV 2/5; 5/8] START logisticregression__C=0.2...................................\n",
      "[CV 2/5; 5/8] END logisticregression__C=0.2;, score=(train=0.933, test=0.933) total time=   6.7s\n",
      "[CV 3/5; 5/8] START logisticregression__C=0.2...................................\n",
      "[CV 3/5; 5/8] END logisticregression__C=0.2;, score=(train=0.933, test=0.928) total time=   7.3s\n",
      "[CV 4/5; 5/8] START logisticregression__C=0.2...................................\n",
      "[CV 4/5; 5/8] END logisticregression__C=0.2;, score=(train=0.943, test=0.940) total time=   6.9s\n",
      "[CV 5/5; 5/8] START logisticregression__C=0.2...................................\n",
      "[CV 5/5; 5/8] END logisticregression__C=0.2;, score=(train=0.939, test=0.936) total time=   7.0s\n",
      "[CV 1/5; 6/8] START logisticregression__C=0.4...................................\n",
      "[CV 1/5; 6/8] END logisticregression__C=0.4;, score=(train=0.943, test=0.945) total time=   6.6s\n",
      "[CV 2/5; 6/8] START logisticregression__C=0.4...................................\n",
      "[CV 2/5; 6/8] END logisticregression__C=0.4;, score=(train=0.938, test=0.937) total time=   6.9s\n",
      "[CV 3/5; 6/8] START logisticregression__C=0.4...................................\n",
      "[CV 3/5; 6/8] END logisticregression__C=0.4;, score=(train=0.940, test=0.933) total time=   4.1s\n",
      "[CV 4/5; 6/8] START logisticregression__C=0.4...................................\n",
      "[CV 4/5; 6/8] END logisticregression__C=0.4;, score=(train=0.948, test=0.946) total time=   3.1s\n",
      "[CV 5/5; 6/8] START logisticregression__C=0.4...................................\n",
      "[CV 5/5; 6/8] END logisticregression__C=0.4;, score=(train=0.944, test=0.941) total time=   2.4s\n",
      "[CV 1/5; 7/8] START logisticregression__C=0.75..................................\n",
      "[CV 1/5; 7/8] END logisticregression__C=0.75;, score=(train=0.947, test=0.950) total time=   2.2s\n",
      "[CV 2/5; 7/8] START logisticregression__C=0.75..................................\n",
      "[CV 2/5; 7/8] END logisticregression__C=0.75;, score=(train=0.941, test=0.942) total time=   2.2s\n",
      "[CV 3/5; 7/8] START logisticregression__C=0.75..................................\n",
      "[CV 3/5; 7/8] END logisticregression__C=0.75;, score=(train=0.944, test=0.938) total time=   2.1s\n",
      "[CV 4/5; 7/8] START logisticregression__C=0.75..................................\n",
      "[CV 4/5; 7/8] END logisticregression__C=0.75;, score=(train=0.953, test=0.949) total time=   2.2s\n",
      "[CV 5/5; 7/8] START logisticregression__C=0.75..................................\n",
      "[CV 5/5; 7/8] END logisticregression__C=0.75;, score=(train=0.947, test=0.944) total time=   2.0s\n",
      "[CV 1/5; 8/8] START logisticregression__C=1.....................................\n",
      "[CV 1/5; 8/8] END logisticregression__C=1;, score=(train=0.948, test=0.952) total time=   2.2s\n",
      "[CV 2/5; 8/8] START logisticregression__C=1.....................................\n",
      "[CV 2/5; 8/8] END logisticregression__C=1;, score=(train=0.942, test=0.943) total time=   6.4s\n",
      "[CV 3/5; 8/8] START logisticregression__C=1.....................................\n",
      "[CV 3/5; 8/8] END logisticregression__C=1;, score=(train=0.945, test=0.939) total time=   6.3s\n",
      "[CV 4/5; 8/8] START logisticregression__C=1.....................................\n",
      "[CV 4/5; 8/8] END logisticregression__C=1;, score=(train=0.955, test=0.952) total time=   6.2s\n",
      "[CV 5/5; 8/8] START logisticregression__C=1.....................................\n",
      "[CV 5/5; 8/8] END logisticregression__C=1;, score=(train=0.949, test=0.948) total time=   6.3s\n"
     ]
    }
   ],
   "source": [
    "#Oversampling: ADASYN\n",
    "\n",
    "start_time = time.time()\n",
    "rf_tmk_rec = train_rf(X_trainval, y_trainval, 'recall', ADASYN(),\n",
    "                       hypertune=True, resample=True)\n",
    "start_time = time.time()\n",
    "rf_tmk_acc = train_rf(X_trainval, y_trainval, 'accuracy', ADASYN(),\n",
    "                      hypertune=True, resample=True)"
   ]
  },
  {
   "cell_type": "code",
   "execution_count": 15,
   "metadata": {},
   "outputs": [
    {
     "data": {
      "text/html": [
       "<style type=\"text/css\">\n",
       "</style>\n",
       "<table id=\"T_ed756_\">\n",
       "  <thead>\n",
       "    <tr>\n",
       "      <th class=\"col_heading level0 col0\" ></th>\n",
       "      <th class=\"col_heading level0 col1\" >Train Accuracy</th>\n",
       "      <th class=\"col_heading level0 col2\" >Val Accuracy</th>\n",
       "      <th class=\"col_heading level0 col3\" >Train Recall</th>\n",
       "      <th class=\"col_heading level0 col4\" >Val Recall</th>\n",
       "    </tr>\n",
       "  </thead>\n",
       "  <tbody>\n",
       "    <tr>\n",
       "      <td id=\"T_ed756_row0_col0\" class=\"data row0 col0\" >LogisticRegression</td>\n",
       "      <td id=\"T_ed756_row0_col1\" class=\"data row0 col1\" >82.79%</td>\n",
       "      <td id=\"T_ed756_row0_col2\" class=\"data row0 col2\" >94.67%</td>\n",
       "      <td id=\"T_ed756_row0_col3\" class=\"data row0 col3\" >90.24%</td>\n",
       "      <td id=\"T_ed756_row0_col4\" class=\"data row0 col4\" >85.78%</td>\n",
       "    </tr>\n",
       "  </tbody>\n",
       "</table>\n"
      ],
      "text/plain": [
       "<pandas.io.formats.style.Styler at 0x24e81537f70>"
      ]
     },
     "execution_count": 15,
     "metadata": {},
     "output_type": "execute_result"
    }
   ],
   "source": [
    "cols = ['', 'Train Accuracy', 'Val Accuracy',\n",
    "        'Train Recall', 'Val Recall']\n",
    "hyper = pd.DataFrame(columns=cols)\n",
    "hyper.loc[0] = [rf_tmk_rec[0], #name of model\n",
    "                np.round(rf_tmk_acc[1]*100, 6), #train_accuracy\n",
    "                np.round(rf_tmk_acc[2]*100, 6), #test accuracy\n",
    "                np.round(rf_tmk_rec[1]*100, 6), #train recall\n",
    "                np.round(rf_tmk_rec[2]*100, 6)] #test recall\n",
    "hyper2 = pd.DataFrame(columns=cols)\n",
    "hyper2.loc[0] = [rf_tmk_rec[0],\n",
    "                 '{:.2f}%'.format(np.round(rf_tmk_acc[1]*100, 2)),\n",
    "                 '{:.2f}%'.format(np.round(rf_tmk_acc[2]*100, 2)),\n",
    "                 '{:.2f}%'.format(np.round(rf_tmk_rec[1]*100, 2)),\n",
    "                 '{:.2f}%'.format(np.round(rf_tmk_rec[2]*100, 2))]\n",
    "hyper2.style.hide_index()"
   ]
  },
  {
   "cell_type": "code",
   "execution_count": 16,
   "metadata": {},
   "outputs": [],
   "source": [
    "#best model among hypertuned and resampled models\n",
    "# re-fitting for the holdout \n",
    "rh = rf_tmk_rec[-1] #kaya nilalabas yung model is to know yung perf ng mdoel sa hold out data set (dulo kaya -1)\n",
    "rh.fit(X_trainval, y_trainval) #fit to trainval \n",
    "y_preds = rh.predict(X_holdout) #predict using holdout (unseen data)\n",
    "rh_holdout_score = recall_score(y_holdout, y_preds) "
   ]
  },
  {
   "cell_type": "markdown",
   "metadata": {},
   "source": [
    "#### Base-case"
   ]
  },
  {
   "cell_type": "code",
   "execution_count": 17,
   "metadata": {
    "ExecuteTime": {
     "end_time": "2022-06-25T18:48:02.907470Z",
     "start_time": "2022-06-25T18:44:52.169864Z"
    }
   },
   "outputs": [],
   "source": [
    "#behaviour of model without hypertuning or resampling\n",
    "# cross-validation\n",
    "base_var = train_rf(X_trainval, y_trainval, 'recall', hypertune=False, resample=False) \n",
    "\n",
    "# re-fitting for the holdout\n",
    "base_model = base_var[-1]\n",
    "base_model.fit(X_trainval, y_trainval)\n",
    "y_preds = base_model.predict(X_holdout)\n",
    "holdout_score = recall_score(y_holdout, y_preds)"
   ]
  },
  {
   "cell_type": "code",
   "execution_count": 18,
   "metadata": {
    "ExecuteTime": {
     "end_time": "2022-06-25T18:48:26.485006Z",
     "start_time": "2022-06-25T18:48:26.111606Z"
    }
   },
   "outputs": [
    {
     "data": {
      "text/plain": [
       "0.41333333333333333"
      ]
     },
     "execution_count": 18,
     "metadata": {},
     "output_type": "execute_result"
    }
   ],
   "source": [
    "holdout_score"
   ]
  },
  {
   "cell_type": "code",
   "execution_count": 19,
   "metadata": {},
   "outputs": [
    {
     "data": {
      "text/html": [
       "<style type=\"text/css\">\n",
       "</style>\n",
       "<table id=\"T_6ab58_\">\n",
       "  <thead>\n",
       "    <tr>\n",
       "      <th class=\"col_heading level0 col0\" >Method</th>\n",
       "      <th class=\"col_heading level0 col1\" >Train Recall</th>\n",
       "      <th class=\"col_heading level0 col2\" >Val Recall</th>\n",
       "      <th class=\"col_heading level0 col3\" >Holdout Recall</th>\n",
       "    </tr>\n",
       "  </thead>\n",
       "  <tbody>\n",
       "    <tr>\n",
       "      <td id=\"T_6ab58_row0_col0\" class=\"data row0 col0\" >No Resampling</td>\n",
       "      <td id=\"T_6ab58_row0_col1\" class=\"data row0 col1\" >40.22%</td>\n",
       "      <td id=\"T_6ab58_row0_col2\" class=\"data row0 col2\" >32.00%</td>\n",
       "      <td id=\"T_6ab58_row0_col3\" class=\"data row0 col3\" >41.33%</td>\n",
       "    </tr>\n",
       "    <tr>\n",
       "      <td id=\"T_6ab58_row1_col0\" class=\"data row1 col0\" >Resampling x Hypertune</td>\n",
       "      <td id=\"T_6ab58_row1_col1\" class=\"data row1 col1\" >90.24%</td>\n",
       "      <td id=\"T_6ab58_row1_col2\" class=\"data row1 col2\" >85.78%</td>\n",
       "      <td id=\"T_6ab58_row1_col3\" class=\"data row1 col3\" >84.00%</td>\n",
       "    </tr>\n",
       "  </tbody>\n",
       "</table>\n"
      ],
      "text/plain": [
       "<pandas.io.formats.style.Styler at 0x24e817ae2e0>"
      ]
     },
     "execution_count": 19,
     "metadata": {},
     "output_type": "execute_result"
    }
   ],
   "source": [
    "cols = ['Method', 'Train Recall', 'Val Recall', 'Holdout Recall']\n",
    "summary = pd.DataFrame(columns=cols)\n",
    "summary.loc[0] = ['No Resampling',\n",
    "                 '{:.2f}%'.format(np.round(base_var[1]*100, 2)),\n",
    "                 '{:.2f}%'.format(np.round(base_var[2]*100, 2)),\n",
    "                 '{:.2f}%'.format(np.round(holdout_score*100, 2))]\n",
    "summary.loc[3] = ['Resampling x Hypertune',\n",
    "                 '{:.2f}%'.format(np.round(rf_tmk_rec[1]*100, 2)),\n",
    "                 '{:.2f}%'.format(np.round(rf_tmk_rec[2]*100, 2)),\n",
    "                 '{:.2f}%'.format(np.round(rh_holdout_score*100, 2))]\n",
    "summary.style.hide_index()\n",
    "\n",
    "#dataframe containing all the results"
   ]
  },
  {
   "cell_type": "code",
   "execution_count": 20,
   "metadata": {},
   "outputs": [
    {
     "ename": "Exception",
     "evalue": "Model type not yet supported by TreeExplainer: <class 'imblearn.pipeline.Pipeline'>",
     "output_type": "error",
     "traceback": [
      "\u001b[1;31m---------------------------------------------------------------------------\u001b[0m",
      "\u001b[1;31mException\u001b[0m                                 Traceback (most recent call last)",
      "Cell \u001b[1;32mIn [20], line 1\u001b[0m\n\u001b[1;32m----> 1\u001b[0m explainer \u001b[38;5;241m=\u001b[39m \u001b[43mshap\u001b[49m\u001b[38;5;241;43m.\u001b[39;49m\u001b[43mTreeExplainer\u001b[49m\u001b[43m(\u001b[49m\u001b[43mrh\u001b[49m\u001b[43m,\u001b[49m\u001b[43m \u001b[49m\u001b[43mfeature_names\u001b[49m\u001b[38;5;241;43m=\u001b[39;49m\u001b[43mX_holdout\u001b[49m\u001b[38;5;241;43m.\u001b[39;49m\u001b[43mcolumns\u001b[49m\u001b[43m)\u001b[49m\n\u001b[0;32m      2\u001b[0m shap_values \u001b[38;5;241m=\u001b[39m explainer\u001b[38;5;241m.\u001b[39mshap_values(X_holdout) \u001b[38;5;66;03m#input should be unseen data\u001b[39;00m\n\u001b[0;32m      3\u001b[0m model\u001b[38;5;241m.\u001b[39mpredict(X_holdout\u001b[38;5;241m.\u001b[39mloc[[\u001b[38;5;241m8\u001b[39m]])\n",
      "File \u001b[1;32m~\\anaconda3\\envs\\sprint1\\lib\\site-packages\\shap\\explainers\\_tree.py:148\u001b[0m, in \u001b[0;36mTree.__init__\u001b[1;34m(self, model, data, model_output, feature_perturbation, feature_names, approximate, **deprecated_options)\u001b[0m\n\u001b[0;32m    146\u001b[0m \u001b[38;5;28mself\u001b[39m\u001b[38;5;241m.\u001b[39mfeature_perturbation \u001b[38;5;241m=\u001b[39m feature_perturbation\n\u001b[0;32m    147\u001b[0m \u001b[38;5;28mself\u001b[39m\u001b[38;5;241m.\u001b[39mexpected_value \u001b[38;5;241m=\u001b[39m \u001b[38;5;28;01mNone\u001b[39;00m\n\u001b[1;32m--> 148\u001b[0m \u001b[38;5;28mself\u001b[39m\u001b[38;5;241m.\u001b[39mmodel \u001b[38;5;241m=\u001b[39m \u001b[43mTreeEnsemble\u001b[49m\u001b[43m(\u001b[49m\u001b[43mmodel\u001b[49m\u001b[43m,\u001b[49m\u001b[43m \u001b[49m\u001b[38;5;28;43mself\u001b[39;49m\u001b[38;5;241;43m.\u001b[39;49m\u001b[43mdata\u001b[49m\u001b[43m,\u001b[49m\u001b[43m \u001b[49m\u001b[38;5;28;43mself\u001b[39;49m\u001b[38;5;241;43m.\u001b[39;49m\u001b[43mdata_missing\u001b[49m\u001b[43m,\u001b[49m\u001b[43m \u001b[49m\u001b[43mmodel_output\u001b[49m\u001b[43m)\u001b[49m\n\u001b[0;32m    149\u001b[0m \u001b[38;5;28mself\u001b[39m\u001b[38;5;241m.\u001b[39mmodel_output \u001b[38;5;241m=\u001b[39m model_output\n\u001b[0;32m    150\u001b[0m \u001b[38;5;66;03m#self.model_output = self.model.model_output # this allows the TreeEnsemble to translate model outputs types by how it loads the model\u001b[39;00m\n",
      "File \u001b[1;32m~\\anaconda3\\envs\\sprint1\\lib\\site-packages\\shap\\explainers\\_tree.py:979\u001b[0m, in \u001b[0;36mTreeEnsemble.__init__\u001b[1;34m(self, model, data, data_missing, model_output)\u001b[0m\n\u001b[0;32m    977\u001b[0m     \u001b[38;5;28mself\u001b[39m\u001b[38;5;241m.\u001b[39mbase_offset \u001b[38;5;241m=\u001b[39m model\u001b[38;5;241m.\u001b[39minit_params[param_idx]\n\u001b[0;32m    978\u001b[0m \u001b[38;5;28;01melse\u001b[39;00m:\n\u001b[1;32m--> 979\u001b[0m     \u001b[38;5;28;01mraise\u001b[39;00m \u001b[38;5;167;01mException\u001b[39;00m(\u001b[38;5;124m\"\u001b[39m\u001b[38;5;124mModel type not yet supported by TreeExplainer: \u001b[39m\u001b[38;5;124m\"\u001b[39m \u001b[38;5;241m+\u001b[39m \u001b[38;5;28mstr\u001b[39m(\u001b[38;5;28mtype\u001b[39m(model)))\n\u001b[0;32m    981\u001b[0m \u001b[38;5;66;03m# build a dense numpy version of all the tree objects\u001b[39;00m\n\u001b[0;32m    982\u001b[0m \u001b[38;5;28;01mif\u001b[39;00m \u001b[38;5;28mself\u001b[39m\u001b[38;5;241m.\u001b[39mtrees \u001b[38;5;129;01mis\u001b[39;00m \u001b[38;5;129;01mnot\u001b[39;00m \u001b[38;5;28;01mNone\u001b[39;00m \u001b[38;5;129;01mand\u001b[39;00m \u001b[38;5;28mself\u001b[39m\u001b[38;5;241m.\u001b[39mtrees:\n",
      "\u001b[1;31mException\u001b[0m: Model type not yet supported by TreeExplainer: <class 'imblearn.pipeline.Pipeline'>"
     ]
    }
   ],
   "source": [
    "explainer = shap.TreeExplainer(rh, feature_names=X_holdout.columns)\n",
    "shap_values = explainer.shap_values(X_holdout) #input should be unseen data\n",
    "model.predict(X_holdout.loc[[8]])\n",
    "# find the location\n",
    "loc_df = X_holdout.reset_index()\n",
    "loc_df[loc_df['index'] == 8]"
   ]
  },
  {
   "cell_type": "code",
   "execution_count": null,
   "metadata": {},
   "outputs": [],
   "source": []
  }
 ],
 "metadata": {
  "kernelspec": {
   "display_name": "Python 3 (ipykernel)",
   "language": "python",
   "name": "python3"
  },
  "language_info": {
   "codemirror_mode": {
    "name": "ipython",
    "version": 3
   },
   "file_extension": ".py",
   "mimetype": "text/x-python",
   "name": "python",
   "nbconvert_exporter": "python",
   "pygments_lexer": "ipython3",
   "version": "3.9.13"
  },
  "toc": {
   "base_numbering": 1,
   "nav_menu": {},
   "number_sections": true,
   "sideBar": true,
   "skip_h1_title": false,
   "title_cell": "Table of Contents",
   "title_sidebar": "Contents",
   "toc_cell": false,
   "toc_position": {},
   "toc_section_display": true,
   "toc_window_display": false
  }
 },
 "nbformat": 4,
 "nbformat_minor": 4
}

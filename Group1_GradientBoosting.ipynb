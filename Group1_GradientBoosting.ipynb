{
 "cells": [
  {
   "cell_type": "code",
   "execution_count": 17,
   "id": "5d01f3b7",
   "metadata": {},
   "outputs": [],
   "source": [
    "# General Libraries\n",
    "import re\n",
    "import time\n",
    "import warnings\n",
    "import numpy as np\n",
    "import pandas as pd\n",
    "from tqdm.notebook import tqdm\n",
    "from collections import Counter\n",
    "warnings.filterwarnings(\"ignore\")\n",
    "\n",
    "# Visualizations\n",
    "import seaborn as sns\n",
    "from termcolor import colored\n",
    "import matplotlib.pyplot as plt\n",
    "import plotly.graph_objects as go\n",
    "\n",
    "# Sklearn\n",
    "from sklearn.preprocessing import MinMaxScaler\n",
    "from sklearn.model_selection import (train_test_split, GridSearchCV,\n",
    "                                     StratifiedKFold)\n",
    "from sklearn.neighbors import KNeighborsClassifier\n",
    "from sklearn.svm import SVC\n",
    "from sklearn.linear_model import LogisticRegression\n",
    "from sklearn.naive_bayes import GaussianNB\n",
    "from sklearn.tree import DecisionTreeClassifier\n",
    "from sklearn.ensemble import (RandomForestClassifier,  \n",
    "                              GradientBoostingClassifier)\n",
    "from sklearn.model_selection import cross_validate\n",
    "from sklearn.metrics import (ConfusionMatrixDisplay, precision_score, recall_score)\n",
    "\n",
    "# Imblearn\n",
    "from imblearn.pipeline import Pipeline, make_pipeline\n",
    "from imblearn.over_sampling import (SMOTE, ADASYN, BorderlineSMOTE, SVMSMOTE)\n",
    "from imblearn.under_sampling import (TomekLinks, NearMiss, AllKNN,\n",
    "                                     EditedNearestNeighbours, \n",
    "                                     RepeatedEditedNearestNeighbours) \n",
    "from imblearn.combine import SMOTETomek, SMOTEENN\n",
    "\n",
    "# SHAP\n",
    "import shap"
   ]
  },
  {
   "cell_type": "code",
   "execution_count": 22,
   "id": "f285abae",
   "metadata": {},
   "outputs": [
    {
     "data": {
      "text/html": [
       "<div>\n",
       "<style scoped>\n",
       "    .dataframe tbody tr th:only-of-type {\n",
       "        vertical-align: middle;\n",
       "    }\n",
       "\n",
       "    .dataframe tbody tr th {\n",
       "        vertical-align: top;\n",
       "    }\n",
       "\n",
       "    .dataframe thead th {\n",
       "        text-align: right;\n",
       "    }\n",
       "</style>\n",
       "<table border=\"1\" class=\"dataframe\">\n",
       "  <thead>\n",
       "    <tr style=\"text-align: right;\">\n",
       "      <th></th>\n",
       "      <th>lat</th>\n",
       "      <th>long</th>\n",
       "      <th>city_pop</th>\n",
       "      <th>amt</th>\n",
       "      <th>is_fraud</th>\n",
       "      <th>merch_lat</th>\n",
       "      <th>merch_long</th>\n",
       "      <th>trans_day</th>\n",
       "      <th>city_Angeles City</th>\n",
       "      <th>city_Antipolo</th>\n",
       "      <th>...</th>\n",
       "      <th>part_of_day_lunch</th>\n",
       "      <th>region_CALABARZON</th>\n",
       "      <th>region_NCR</th>\n",
       "      <th>region_Region 3</th>\n",
       "      <th>quarantine_status_ECQ</th>\n",
       "      <th>quarantine_status_GCQ</th>\n",
       "      <th>quarantine_status_MECQ</th>\n",
       "      <th>quarantine_status_Normal</th>\n",
       "      <th>QL_Extreme QL</th>\n",
       "      <th>QL_Moderate-Low QL</th>\n",
       "    </tr>\n",
       "  </thead>\n",
       "  <tbody>\n",
       "    <tr>\n",
       "      <th>0</th>\n",
       "      <td>14.5958</td>\n",
       "      <td>120.9772</td>\n",
       "      <td>23088000</td>\n",
       "      <td>966.24</td>\n",
       "      <td>1</td>\n",
       "      <td>14.133430</td>\n",
       "      <td>121.223118</td>\n",
       "      <td>13</td>\n",
       "      <td>0</td>\n",
       "      <td>0</td>\n",
       "      <td>...</td>\n",
       "      <td>1</td>\n",
       "      <td>0</td>\n",
       "      <td>1</td>\n",
       "      <td>0</td>\n",
       "      <td>0</td>\n",
       "      <td>1</td>\n",
       "      <td>0</td>\n",
       "      <td>0</td>\n",
       "      <td>0</td>\n",
       "      <td>1</td>\n",
       "    </tr>\n",
       "    <tr>\n",
       "      <th>1</th>\n",
       "      <td>14.5958</td>\n",
       "      <td>120.9772</td>\n",
       "      <td>23088000</td>\n",
       "      <td>275.37</td>\n",
       "      <td>1</td>\n",
       "      <td>15.290354</td>\n",
       "      <td>120.246084</td>\n",
       "      <td>13</td>\n",
       "      <td>0</td>\n",
       "      <td>0</td>\n",
       "      <td>...</td>\n",
       "      <td>0</td>\n",
       "      <td>0</td>\n",
       "      <td>1</td>\n",
       "      <td>0</td>\n",
       "      <td>0</td>\n",
       "      <td>1</td>\n",
       "      <td>0</td>\n",
       "      <td>0</td>\n",
       "      <td>0</td>\n",
       "      <td>1</td>\n",
       "    </tr>\n",
       "    <tr>\n",
       "      <th>2</th>\n",
       "      <td>14.5958</td>\n",
       "      <td>120.9772</td>\n",
       "      <td>23088000</td>\n",
       "      <td>326.96</td>\n",
       "      <td>1</td>\n",
       "      <td>15.402101</td>\n",
       "      <td>121.332516</td>\n",
       "      <td>14</td>\n",
       "      <td>0</td>\n",
       "      <td>0</td>\n",
       "      <td>...</td>\n",
       "      <td>0</td>\n",
       "      <td>0</td>\n",
       "      <td>1</td>\n",
       "      <td>0</td>\n",
       "      <td>0</td>\n",
       "      <td>1</td>\n",
       "      <td>0</td>\n",
       "      <td>0</td>\n",
       "      <td>0</td>\n",
       "      <td>1</td>\n",
       "    </tr>\n",
       "    <tr>\n",
       "      <th>3</th>\n",
       "      <td>14.5958</td>\n",
       "      <td>120.9772</td>\n",
       "      <td>23088000</td>\n",
       "      <td>1047.59</td>\n",
       "      <td>1</td>\n",
       "      <td>15.166276</td>\n",
       "      <td>121.955649</td>\n",
       "      <td>14</td>\n",
       "      <td>0</td>\n",
       "      <td>0</td>\n",
       "      <td>...</td>\n",
       "      <td>0</td>\n",
       "      <td>0</td>\n",
       "      <td>1</td>\n",
       "      <td>0</td>\n",
       "      <td>0</td>\n",
       "      <td>1</td>\n",
       "      <td>0</td>\n",
       "      <td>0</td>\n",
       "      <td>0</td>\n",
       "      <td>1</td>\n",
       "    </tr>\n",
       "    <tr>\n",
       "      <th>4</th>\n",
       "      <td>14.5958</td>\n",
       "      <td>120.9772</td>\n",
       "      <td>23088000</td>\n",
       "      <td>286.34</td>\n",
       "      <td>1</td>\n",
       "      <td>15.149144</td>\n",
       "      <td>121.696662</td>\n",
       "      <td>14</td>\n",
       "      <td>0</td>\n",
       "      <td>0</td>\n",
       "      <td>...</td>\n",
       "      <td>0</td>\n",
       "      <td>0</td>\n",
       "      <td>1</td>\n",
       "      <td>0</td>\n",
       "      <td>0</td>\n",
       "      <td>1</td>\n",
       "      <td>0</td>\n",
       "      <td>0</td>\n",
       "      <td>0</td>\n",
       "      <td>1</td>\n",
       "    </tr>\n",
       "    <tr>\n",
       "      <th>5</th>\n",
       "      <td>14.5958</td>\n",
       "      <td>120.9772</td>\n",
       "      <td>23088000</td>\n",
       "      <td>1004.66</td>\n",
       "      <td>1</td>\n",
       "      <td>14.824212</td>\n",
       "      <td>120.504185</td>\n",
       "      <td>13</td>\n",
       "      <td>0</td>\n",
       "      <td>0</td>\n",
       "      <td>...</td>\n",
       "      <td>0</td>\n",
       "      <td>0</td>\n",
       "      <td>1</td>\n",
       "      <td>0</td>\n",
       "      <td>0</td>\n",
       "      <td>1</td>\n",
       "      <td>0</td>\n",
       "      <td>0</td>\n",
       "      <td>0</td>\n",
       "      <td>1</td>\n",
       "    </tr>\n",
       "    <tr>\n",
       "      <th>6</th>\n",
       "      <td>14.5958</td>\n",
       "      <td>120.9772</td>\n",
       "      <td>23088000</td>\n",
       "      <td>14.54</td>\n",
       "      <td>0</td>\n",
       "      <td>15.011848</td>\n",
       "      <td>119.983598</td>\n",
       "      <td>4</td>\n",
       "      <td>0</td>\n",
       "      <td>0</td>\n",
       "      <td>...</td>\n",
       "      <td>0</td>\n",
       "      <td>0</td>\n",
       "      <td>1</td>\n",
       "      <td>0</td>\n",
       "      <td>0</td>\n",
       "      <td>1</td>\n",
       "      <td>0</td>\n",
       "      <td>0</td>\n",
       "      <td>0</td>\n",
       "      <td>1</td>\n",
       "    </tr>\n",
       "    <tr>\n",
       "      <th>7</th>\n",
       "      <td>14.5958</td>\n",
       "      <td>120.9772</td>\n",
       "      <td>23088000</td>\n",
       "      <td>35.84</td>\n",
       "      <td>0</td>\n",
       "      <td>14.108576</td>\n",
       "      <td>121.278285</td>\n",
       "      <td>23</td>\n",
       "      <td>0</td>\n",
       "      <td>0</td>\n",
       "      <td>...</td>\n",
       "      <td>0</td>\n",
       "      <td>0</td>\n",
       "      <td>1</td>\n",
       "      <td>0</td>\n",
       "      <td>0</td>\n",
       "      <td>1</td>\n",
       "      <td>0</td>\n",
       "      <td>0</td>\n",
       "      <td>0</td>\n",
       "      <td>1</td>\n",
       "    </tr>\n",
       "    <tr>\n",
       "      <th>8</th>\n",
       "      <td>14.5958</td>\n",
       "      <td>120.9772</td>\n",
       "      <td>23088000</td>\n",
       "      <td>46.69</td>\n",
       "      <td>0</td>\n",
       "      <td>15.235022</td>\n",
       "      <td>121.319209</td>\n",
       "      <td>14</td>\n",
       "      <td>0</td>\n",
       "      <td>0</td>\n",
       "      <td>...</td>\n",
       "      <td>0</td>\n",
       "      <td>0</td>\n",
       "      <td>1</td>\n",
       "      <td>0</td>\n",
       "      <td>0</td>\n",
       "      <td>1</td>\n",
       "      <td>0</td>\n",
       "      <td>0</td>\n",
       "      <td>0</td>\n",
       "      <td>1</td>\n",
       "    </tr>\n",
       "    <tr>\n",
       "      <th>9</th>\n",
       "      <td>14.5958</td>\n",
       "      <td>120.9772</td>\n",
       "      <td>23088000</td>\n",
       "      <td>83.26</td>\n",
       "      <td>0</td>\n",
       "      <td>15.275801</td>\n",
       "      <td>121.480398</td>\n",
       "      <td>6</td>\n",
       "      <td>0</td>\n",
       "      <td>0</td>\n",
       "      <td>...</td>\n",
       "      <td>0</td>\n",
       "      <td>0</td>\n",
       "      <td>1</td>\n",
       "      <td>0</td>\n",
       "      <td>1</td>\n",
       "      <td>0</td>\n",
       "      <td>0</td>\n",
       "      <td>0</td>\n",
       "      <td>1</td>\n",
       "      <td>0</td>\n",
       "    </tr>\n",
       "  </tbody>\n",
       "</table>\n",
       "<p>10 rows × 242 columns</p>\n",
       "</div>"
      ],
      "text/plain": [
       "       lat      long  city_pop      amt  is_fraud  merch_lat  merch_long  \\\n",
       "0  14.5958  120.9772  23088000   966.24         1  14.133430  121.223118   \n",
       "1  14.5958  120.9772  23088000   275.37         1  15.290354  120.246084   \n",
       "2  14.5958  120.9772  23088000   326.96         1  15.402101  121.332516   \n",
       "3  14.5958  120.9772  23088000  1047.59         1  15.166276  121.955649   \n",
       "4  14.5958  120.9772  23088000   286.34         1  15.149144  121.696662   \n",
       "5  14.5958  120.9772  23088000  1004.66         1  14.824212  120.504185   \n",
       "6  14.5958  120.9772  23088000    14.54         0  15.011848  119.983598   \n",
       "7  14.5958  120.9772  23088000    35.84         0  14.108576  121.278285   \n",
       "8  14.5958  120.9772  23088000    46.69         0  15.235022  121.319209   \n",
       "9  14.5958  120.9772  23088000    83.26         0  15.275801  121.480398   \n",
       "\n",
       "   trans_day  city_Angeles City  city_Antipolo  ...  part_of_day_lunch  \\\n",
       "0         13                  0              0  ...                  1   \n",
       "1         13                  0              0  ...                  0   \n",
       "2         14                  0              0  ...                  0   \n",
       "3         14                  0              0  ...                  0   \n",
       "4         14                  0              0  ...                  0   \n",
       "5         13                  0              0  ...                  0   \n",
       "6          4                  0              0  ...                  0   \n",
       "7         23                  0              0  ...                  0   \n",
       "8         14                  0              0  ...                  0   \n",
       "9          6                  0              0  ...                  0   \n",
       "\n",
       "   region_CALABARZON  region_NCR  region_Region 3  quarantine_status_ECQ  \\\n",
       "0                  0           1                0                      0   \n",
       "1                  0           1                0                      0   \n",
       "2                  0           1                0                      0   \n",
       "3                  0           1                0                      0   \n",
       "4                  0           1                0                      0   \n",
       "5                  0           1                0                      0   \n",
       "6                  0           1                0                      0   \n",
       "7                  0           1                0                      0   \n",
       "8                  0           1                0                      0   \n",
       "9                  0           1                0                      1   \n",
       "\n",
       "   quarantine_status_GCQ  quarantine_status_MECQ  quarantine_status_Normal  \\\n",
       "0                      1                       0                         0   \n",
       "1                      1                       0                         0   \n",
       "2                      1                       0                         0   \n",
       "3                      1                       0                         0   \n",
       "4                      1                       0                         0   \n",
       "5                      1                       0                         0   \n",
       "6                      1                       0                         0   \n",
       "7                      1                       0                         0   \n",
       "8                      1                       0                         0   \n",
       "9                      0                       0                         0   \n",
       "\n",
       "   QL_Extreme QL  QL_Moderate-Low QL  \n",
       "0              0                   1  \n",
       "1              0                   1  \n",
       "2              0                   1  \n",
       "3              0                   1  \n",
       "4              0                   1  \n",
       "5              0                   1  \n",
       "6              0                   1  \n",
       "7              0                   1  \n",
       "8              0                   1  \n",
       "9              1                   0  \n",
       "\n",
       "[10 rows x 242 columns]"
      ]
     },
     "execution_count": 22,
     "metadata": {},
     "output_type": "execute_result"
    }
   ],
   "source": [
    "cc_df = pd.read_csv(\"cc_df_group1_version2.csv\")\n",
    "\n",
    "cc_df = cc_df.drop(['trans_date'], axis=1)\n",
    "cc_df.head(10)"
   ]
  },
  {
   "cell_type": "code",
   "execution_count": 23,
   "id": "7c5c96e8",
   "metadata": {},
   "outputs": [],
   "source": [
    "X = cc_df.drop(['is_fraud'], axis=1)\n",
    "y = cc_df['is_fraud']\n",
    "(X_trainval, X_holdout, y_trainval, y_holdout) = train_test_split(X, y, \n",
    "                                                                  random_state=11, test_size=0.25,\n",
    "                                                                  stratify=y)"
   ]
  },
  {
   "cell_type": "code",
   "execution_count": 24,
   "id": "da865b2c",
   "metadata": {},
   "outputs": [],
   "source": [
    "def auto_ml(X, y, models_dict, scaler=None, cv=None, res_t=None):\n",
    "    \"\"\"Apply resampling for imbalanced data\"\"\"\n",
    "    results = {}\n",
    "    results2 = {}\n",
    "\n",
    "    # log start time\n",
    "    total_start = time.time()\n",
    "\n",
    "    for model_name, model in tqdm(models_dict.items()):\n",
    "        \n",
    "        ################# this portion can be edited ###############\n",
    "        train_scores = []\n",
    "        val_scores = []\n",
    "\n",
    "        train_recall = []\n",
    "        val_recall = []\n",
    "\n",
    "        ###########################################################\n",
    "\n",
    "        for train_index, val_index in tqdm(cv.split(X, y)):\n",
    "\n",
    "            X_train, X_val = X.iloc[train_index], X.iloc[val_index]\n",
    "            y_train, y_val = y.iloc[train_index], y.iloc[val_index]\n",
    "\n",
    "            # Apply scaling\n",
    "            if scaler is not None:\n",
    "                X_train = scaler.fit_transform(X_train)\n",
    "                X_val = scaler.transform(X_val)\n",
    "            else:\n",
    "                pass\n",
    "\n",
    "            # Apply resampling\n",
    "            if res_t is not None:\n",
    "                s = time.time()\n",
    "                X_train, y_train = res_t.fit_resample(X_train, y_train)\n",
    "                print(f'Resampling done in {time.time() - s}')\n",
    "            else:\n",
    "                pass\n",
    "\n",
    "            start_time = time.time()\n",
    "\n",
    "            # fit\n",
    "            model.fit(X_train, y_train)\n",
    "\n",
    "            # predict\n",
    "            train_preds = model.predict(X_train)\n",
    "            val_preds = model.predict(X_val)\n",
    "            \n",
    "            ################# this portion can be edited ###############\n",
    "\n",
    "            # classification accuracy\n",
    "            train_scores.append(model.score(X_train, y_train))\n",
    "            val_scores.append(model.score(X_val, y_val))\n",
    "\n",
    "            # recall\n",
    "            train_recall.append(recall_score(y_train, train_preds))\n",
    "            val_recall.append(recall_score(y_val, val_preds))\n",
    "\n",
    "            end_time = time.time()\n",
    "\n",
    "            results[model_name] = {\n",
    "                'Train Accuracy': np.round(np.mean(train_scores) * 100, 2),\n",
    "                'Val Accuracy': np.round(np.mean(val_scores) * 100, 2),\n",
    "                'Train Recall': np.round(np.mean(train_recall) * 100, 2),\n",
    "                'Val Recall': np.round(np.mean(val_recall) * 100, 2),\n",
    "                'Run Time': end_time - start_time\n",
    "            }\n",
    "\n",
    "            results2[model_name] = {\n",
    "                'Train Accuracy': '{:.2f}%'.format(np.round(np.mean(train_scores)*100, 2)),\n",
    "                'Val Accuracy': '{:.2f}%'.format(np.round(np.mean(val_scores)*100, 2)),\n",
    "                'Train Recall': '{:.2f}%'.format(np.round(np.mean(train_recall)*100, 2)),\n",
    "                'Val Recall': '{:.2f}%'.format(np.round(np.mean(val_recall)*100, 2)),\n",
    "                'Run Time': end_time - start_time\n",
    "            }\n",
    "            \n",
    "            ###########################################################\n",
    "\n",
    "    results = pd.DataFrame(results).T\n",
    "    results2 = pd.DataFrame(results2).T\n",
    "    return [results, results2]"
   ]
  },
  {
   "cell_type": "code",
   "execution_count": 25,
   "id": "bcf5b917",
   "metadata": {},
   "outputs": [
    {
     "data": {
      "application/vnd.jupyter.widget-view+json": {
       "model_id": "39ed1fa78f264725b4971f308e296a27",
       "version_major": 2,
       "version_minor": 0
      },
      "text/plain": [
       "  0%|          | 0/1 [00:00<?, ?it/s]"
      ]
     },
     "metadata": {},
     "output_type": "display_data"
    },
    {
     "data": {
      "application/vnd.jupyter.widget-view+json": {
       "model_id": "7e523c2e4e8f4be7be0e78218f0c1f47",
       "version_major": 2,
       "version_minor": 0
      },
      "text/plain": [
       "0it [00:00, ?it/s]"
      ]
     },
     "metadata": {},
     "output_type": "display_data"
    },
    {
     "data": {
      "text/html": [
       "<div>\n",
       "<style scoped>\n",
       "    .dataframe tbody tr th:only-of-type {\n",
       "        vertical-align: middle;\n",
       "    }\n",
       "\n",
       "    .dataframe tbody tr th {\n",
       "        vertical-align: top;\n",
       "    }\n",
       "\n",
       "    .dataframe thead th {\n",
       "        text-align: right;\n",
       "    }\n",
       "</style>\n",
       "<table border=\"1\" class=\"dataframe\">\n",
       "  <thead>\n",
       "    <tr style=\"text-align: right;\">\n",
       "      <th></th>\n",
       "      <th>Run Time</th>\n",
       "      <th>Train Accuracy</th>\n",
       "      <th>Train Recall</th>\n",
       "      <th>Val Accuracy</th>\n",
       "      <th>Val Recall</th>\n",
       "    </tr>\n",
       "  </thead>\n",
       "  <tbody>\n",
       "    <tr>\n",
       "      <th>GradientBoostingClassifier</th>\n",
       "      <td>6.288205</td>\n",
       "      <td>99.98%</td>\n",
       "      <td>99.11%</td>\n",
       "      <td>99.79%</td>\n",
       "      <td>91.11%</td>\n",
       "    </tr>\n",
       "  </tbody>\n",
       "</table>\n",
       "</div>"
      ],
      "text/plain": [
       "                            Run Time Train Accuracy Train Recall Val Accuracy  \\\n",
       "GradientBoostingClassifier  6.288205         99.98%       99.11%       99.79%   \n",
       "\n",
       "                           Val Recall  \n",
       "GradientBoostingClassifier     91.11%  "
      ]
     },
     "execution_count": 25,
     "metadata": {},
     "output_type": "execute_result"
    }
   ],
   "source": [
    "models_dict = {'GradientBoostingClassifier': GradientBoostingClassifier(random_state=143)}\n",
    "\n",
    "auto_run = auto_ml(X_trainval, y_trainval, models_dict, scaler=MinMaxScaler(),\n",
    "               cv=StratifiedKFold(n_splits=5))\n",
    "auto = auto_run[0]\n",
    "auto_run[1]"
   ]
  },
  {
   "cell_type": "code",
   "execution_count": 26,
   "id": "d9fbc654",
   "metadata": {},
   "outputs": [
    {
     "name": "stdout",
     "output_type": "stream",
     "text": [
      "---------------------------------------------------\u001b[1m\u001b[31mSMOTE\u001b[0m---------------------------------------------------\n"
     ]
    },
    {
     "data": {
      "application/vnd.jupyter.widget-view+json": {
       "model_id": "53b439f929724450b7eaf590e60877ed",
       "version_major": 2,
       "version_minor": 0
      },
      "text/plain": [
       "  0%|          | 0/1 [00:00<?, ?it/s]"
      ]
     },
     "metadata": {},
     "output_type": "display_data"
    },
    {
     "data": {
      "application/vnd.jupyter.widget-view+json": {
       "model_id": "83de54d51e234bcea91c8ba58b896bd8",
       "version_major": 2,
       "version_minor": 0
      },
      "text/plain": [
       "0it [00:00, ?it/s]"
      ]
     },
     "metadata": {},
     "output_type": "display_data"
    },
    {
     "name": "stdout",
     "output_type": "stream",
     "text": [
      "Resampling done in 0.10846328735351562\n",
      "Resampling done in 0.08298230171203613\n",
      "Resampling done in 0.08604049682617188\n",
      "Resampling done in 0.09255719184875488\n",
      "Resampling done in 0.0778956413269043\n"
     ]
    },
    {
     "data": {
      "text/html": [
       "<div>\n",
       "<style scoped>\n",
       "    .dataframe tbody tr th:only-of-type {\n",
       "        vertical-align: middle;\n",
       "    }\n",
       "\n",
       "    .dataframe tbody tr th {\n",
       "        vertical-align: top;\n",
       "    }\n",
       "\n",
       "    .dataframe thead th {\n",
       "        text-align: right;\n",
       "    }\n",
       "</style>\n",
       "<table border=\"1\" class=\"dataframe\">\n",
       "  <thead>\n",
       "    <tr style=\"text-align: right;\">\n",
       "      <th></th>\n",
       "      <th>Run Time</th>\n",
       "      <th>Train Accuracy</th>\n",
       "      <th>Train Recall</th>\n",
       "      <th>Val Accuracy</th>\n",
       "      <th>Val Recall</th>\n",
       "    </tr>\n",
       "  </thead>\n",
       "  <tbody>\n",
       "    <tr>\n",
       "      <th>GradientBoostingClassifier</th>\n",
       "      <td>29.309688</td>\n",
       "      <td>99.71%</td>\n",
       "      <td>99.93%</td>\n",
       "      <td>99.31%</td>\n",
       "      <td>95.56%</td>\n",
       "    </tr>\n",
       "  </tbody>\n",
       "</table>\n",
       "</div>"
      ],
      "text/plain": [
       "                             Run Time Train Accuracy Train Recall  \\\n",
       "GradientBoostingClassifier  29.309688         99.71%       99.93%   \n",
       "\n",
       "                           Val Accuracy Val Recall  \n",
       "GradientBoostingClassifier       99.31%     95.56%  "
      ]
     },
     "metadata": {},
     "output_type": "display_data"
    },
    {
     "name": "stdout",
     "output_type": "stream",
     "text": [
      "--------------------------------------------------\u001b[1m\u001b[31mADASYN\u001b[0m---------------------------------------------------\n"
     ]
    },
    {
     "data": {
      "application/vnd.jupyter.widget-view+json": {
       "model_id": "d3bd3e0f91f144d98c87d31661f68e9f",
       "version_major": 2,
       "version_minor": 0
      },
      "text/plain": [
       "  0%|          | 0/1 [00:00<?, ?it/s]"
      ]
     },
     "metadata": {},
     "output_type": "display_data"
    },
    {
     "data": {
      "application/vnd.jupyter.widget-view+json": {
       "model_id": "9f528d0a173d40a680c757ff3fb2ce9b",
       "version_major": 2,
       "version_minor": 0
      },
      "text/plain": [
       "0it [00:00, ?it/s]"
      ]
     },
     "metadata": {},
     "output_type": "display_data"
    },
    {
     "name": "stdout",
     "output_type": "stream",
     "text": [
      "Resampling done in 0.16542363166809082\n",
      "Resampling done in 0.2021174430847168\n",
      "Resampling done in 0.1912860870361328\n",
      "Resampling done in 0.16155648231506348\n",
      "Resampling done in 0.1742856502532959\n"
     ]
    },
    {
     "data": {
      "text/html": [
       "<div>\n",
       "<style scoped>\n",
       "    .dataframe tbody tr th:only-of-type {\n",
       "        vertical-align: middle;\n",
       "    }\n",
       "\n",
       "    .dataframe tbody tr th {\n",
       "        vertical-align: top;\n",
       "    }\n",
       "\n",
       "    .dataframe thead th {\n",
       "        text-align: right;\n",
       "    }\n",
       "</style>\n",
       "<table border=\"1\" class=\"dataframe\">\n",
       "  <thead>\n",
       "    <tr style=\"text-align: right;\">\n",
       "      <th></th>\n",
       "      <th>Run Time</th>\n",
       "      <th>Train Accuracy</th>\n",
       "      <th>Train Recall</th>\n",
       "      <th>Val Accuracy</th>\n",
       "      <th>Val Recall</th>\n",
       "    </tr>\n",
       "  </thead>\n",
       "  <tbody>\n",
       "    <tr>\n",
       "      <th>GradientBoostingClassifier</th>\n",
       "      <td>28.4282</td>\n",
       "      <td>99.68%</td>\n",
       "      <td>99.89%</td>\n",
       "      <td>99.33%</td>\n",
       "      <td>95.11%</td>\n",
       "    </tr>\n",
       "  </tbody>\n",
       "</table>\n",
       "</div>"
      ],
      "text/plain": [
       "                           Run Time Train Accuracy Train Recall Val Accuracy  \\\n",
       "GradientBoostingClassifier  28.4282         99.68%       99.89%       99.33%   \n",
       "\n",
       "                           Val Recall  \n",
       "GradientBoostingClassifier     95.11%  "
      ]
     },
     "metadata": {},
     "output_type": "display_data"
    },
    {
     "name": "stdout",
     "output_type": "stream",
     "text": [
      "----------------------------------------------\u001b[1m\u001b[31mBorderlineSMOTE\u001b[0m----------------------------------------------\n"
     ]
    },
    {
     "data": {
      "application/vnd.jupyter.widget-view+json": {
       "model_id": "2757f92aca7c46ae961e701b45fe3a42",
       "version_major": 2,
       "version_minor": 0
      },
      "text/plain": [
       "  0%|          | 0/1 [00:00<?, ?it/s]"
      ]
     },
     "metadata": {},
     "output_type": "display_data"
    },
    {
     "data": {
      "application/vnd.jupyter.widget-view+json": {
       "model_id": "da740c9fae894c519755710fcd0c2fa7",
       "version_major": 2,
       "version_minor": 0
      },
      "text/plain": [
       "0it [00:00, ?it/s]"
      ]
     },
     "metadata": {},
     "output_type": "display_data"
    },
    {
     "name": "stdout",
     "output_type": "stream",
     "text": [
      "Resampling done in 0.16459155082702637\n",
      "Resampling done in 0.16720938682556152\n",
      "Resampling done in 0.1532135009765625\n",
      "Resampling done in 0.1988077163696289\n",
      "Resampling done in 0.20103859901428223\n"
     ]
    },
    {
     "data": {
      "text/html": [
       "<div>\n",
       "<style scoped>\n",
       "    .dataframe tbody tr th:only-of-type {\n",
       "        vertical-align: middle;\n",
       "    }\n",
       "\n",
       "    .dataframe tbody tr th {\n",
       "        vertical-align: top;\n",
       "    }\n",
       "\n",
       "    .dataframe thead th {\n",
       "        text-align: right;\n",
       "    }\n",
       "</style>\n",
       "<table border=\"1\" class=\"dataframe\">\n",
       "  <thead>\n",
       "    <tr style=\"text-align: right;\">\n",
       "      <th></th>\n",
       "      <th>Run Time</th>\n",
       "      <th>Train Accuracy</th>\n",
       "      <th>Train Recall</th>\n",
       "      <th>Val Accuracy</th>\n",
       "      <th>Val Recall</th>\n",
       "    </tr>\n",
       "  </thead>\n",
       "  <tbody>\n",
       "    <tr>\n",
       "      <th>GradientBoostingClassifier</th>\n",
       "      <td>30.237097</td>\n",
       "      <td>99.76%</td>\n",
       "      <td>99.96%</td>\n",
       "      <td>99.41%</td>\n",
       "      <td>95.56%</td>\n",
       "    </tr>\n",
       "  </tbody>\n",
       "</table>\n",
       "</div>"
      ],
      "text/plain": [
       "                             Run Time Train Accuracy Train Recall  \\\n",
       "GradientBoostingClassifier  30.237097         99.76%       99.96%   \n",
       "\n",
       "                           Val Accuracy Val Recall  \n",
       "GradientBoostingClassifier       99.41%     95.56%  "
      ]
     },
     "metadata": {},
     "output_type": "display_data"
    },
    {
     "name": "stdout",
     "output_type": "stream",
     "text": [
      "-------------------------------------------------\u001b[1m\u001b[31mSVMSMOTE\u001b[0m--------------------------------------------------\n"
     ]
    },
    {
     "data": {
      "application/vnd.jupyter.widget-view+json": {
       "model_id": "ef7946486c7246ebac17a7113cc1c507",
       "version_major": 2,
       "version_minor": 0
      },
      "text/plain": [
       "  0%|          | 0/1 [00:00<?, ?it/s]"
      ]
     },
     "metadata": {},
     "output_type": "display_data"
    },
    {
     "data": {
      "application/vnd.jupyter.widget-view+json": {
       "model_id": "f48fe3088e804e83b8c77be753ad0bf2",
       "version_major": 2,
       "version_minor": 0
      },
      "text/plain": [
       "0it [00:00, ?it/s]"
      ]
     },
     "metadata": {},
     "output_type": "display_data"
    },
    {
     "name": "stdout",
     "output_type": "stream",
     "text": [
      "Resampling done in 2.7291440963745117\n",
      "Resampling done in 2.9176416397094727\n",
      "Resampling done in 2.400744676589966\n",
      "Resampling done in 2.309436082839966\n",
      "Resampling done in 2.2955875396728516\n"
     ]
    },
    {
     "data": {
      "text/html": [
       "<div>\n",
       "<style scoped>\n",
       "    .dataframe tbody tr th:only-of-type {\n",
       "        vertical-align: middle;\n",
       "    }\n",
       "\n",
       "    .dataframe tbody tr th {\n",
       "        vertical-align: top;\n",
       "    }\n",
       "\n",
       "    .dataframe thead th {\n",
       "        text-align: right;\n",
       "    }\n",
       "</style>\n",
       "<table border=\"1\" class=\"dataframe\">\n",
       "  <thead>\n",
       "    <tr style=\"text-align: right;\">\n",
       "      <th></th>\n",
       "      <th>Run Time</th>\n",
       "      <th>Train Accuracy</th>\n",
       "      <th>Train Recall</th>\n",
       "      <th>Val Accuracy</th>\n",
       "      <th>Val Recall</th>\n",
       "    </tr>\n",
       "  </thead>\n",
       "  <tbody>\n",
       "    <tr>\n",
       "      <th>GradientBoostingClassifier</th>\n",
       "      <td>31.567078</td>\n",
       "      <td>99.71%</td>\n",
       "      <td>99.90%</td>\n",
       "      <td>99.36%</td>\n",
       "      <td>95.56%</td>\n",
       "    </tr>\n",
       "  </tbody>\n",
       "</table>\n",
       "</div>"
      ],
      "text/plain": [
       "                             Run Time Train Accuracy Train Recall  \\\n",
       "GradientBoostingClassifier  31.567078         99.71%       99.90%   \n",
       "\n",
       "                           Val Accuracy Val Recall  \n",
       "GradientBoostingClassifier       99.36%     95.56%  "
      ]
     },
     "metadata": {},
     "output_type": "display_data"
    }
   ],
   "source": [
    "res_list = [('SMOTE', SMOTE()),\n",
    "            ('ADASYN', ADASYN()),\n",
    "           ('BorderlineSMOTE', BorderlineSMOTE()),\n",
    "           ('SVMSMOTE', SVMSMOTE())]\n",
    "\n",
    "outputs = []\n",
    "for title, res in res_list:\n",
    "    print(colored(title, 'red', attrs=['bold']).center(120, \"-\"))\n",
    "    var = auto_ml(X_trainval, y_trainval, models_dict, scaler=MinMaxScaler(),\n",
    "                    cv=StratifiedKFold(n_splits=5), res_t=res)\n",
    "    outputs.append(var[0])\n",
    "    display(var[1])"
   ]
  },
  {
   "cell_type": "code",
   "execution_count": 31,
   "id": "5a3c1697",
   "metadata": {},
   "outputs": [
    {
     "name": "stdout",
     "output_type": "stream",
     "text": [
      "------------------------------------------------\u001b[1m\u001b[31mTomekLinks\u001b[0m-------------------------------------------------\n"
     ]
    },
    {
     "data": {
      "application/vnd.jupyter.widget-view+json": {
       "model_id": "99f0857e55e242899833badbed839470",
       "version_major": 2,
       "version_minor": 0
      },
      "text/plain": [
       "  0%|          | 0/1 [00:00<?, ?it/s]"
      ]
     },
     "metadata": {},
     "output_type": "display_data"
    },
    {
     "data": {
      "application/vnd.jupyter.widget-view+json": {
       "model_id": "bd482da5cc9a42d2bf28979c72bdeee7",
       "version_major": 2,
       "version_minor": 0
      },
      "text/plain": [
       "0it [00:00, ?it/s]"
      ]
     },
     "metadata": {},
     "output_type": "display_data"
    },
    {
     "name": "stdout",
     "output_type": "stream",
     "text": [
      "Resampling done in 5.615335941314697\n",
      "Resampling done in 4.25487494468689\n",
      "Resampling done in 5.0258989334106445\n",
      "Resampling done in 3.927220582962036\n",
      "Resampling done in 4.770754814147949\n"
     ]
    },
    {
     "data": {
      "text/html": [
       "<div>\n",
       "<style scoped>\n",
       "    .dataframe tbody tr th:only-of-type {\n",
       "        vertical-align: middle;\n",
       "    }\n",
       "\n",
       "    .dataframe tbody tr th {\n",
       "        vertical-align: top;\n",
       "    }\n",
       "\n",
       "    .dataframe thead th {\n",
       "        text-align: right;\n",
       "    }\n",
       "</style>\n",
       "<table border=\"1\" class=\"dataframe\">\n",
       "  <thead>\n",
       "    <tr style=\"text-align: right;\">\n",
       "      <th></th>\n",
       "      <th>Run Time</th>\n",
       "      <th>Train Accuracy</th>\n",
       "      <th>Train Recall</th>\n",
       "      <th>Val Accuracy</th>\n",
       "      <th>Val Recall</th>\n",
       "    </tr>\n",
       "  </thead>\n",
       "  <tbody>\n",
       "    <tr>\n",
       "      <th>GradientBoostingClassifier</th>\n",
       "      <td>16.039583</td>\n",
       "      <td>99.98%</td>\n",
       "      <td>99.33%</td>\n",
       "      <td>99.78%</td>\n",
       "      <td>92.00%</td>\n",
       "    </tr>\n",
       "  </tbody>\n",
       "</table>\n",
       "</div>"
      ],
      "text/plain": [
       "                             Run Time Train Accuracy Train Recall  \\\n",
       "GradientBoostingClassifier  16.039583         99.98%       99.33%   \n",
       "\n",
       "                           Val Accuracy Val Recall  \n",
       "GradientBoostingClassifier       99.78%     92.00%  "
      ]
     },
     "metadata": {},
     "output_type": "display_data"
    },
    {
     "name": "stdout",
     "output_type": "stream",
     "text": [
      "-------------------------------------------------\u001b[1m\u001b[31mNearMiss\u001b[0m--------------------------------------------------\n"
     ]
    },
    {
     "data": {
      "application/vnd.jupyter.widget-view+json": {
       "model_id": "767387e5ebdd4e6d8529322984f1996b",
       "version_major": 2,
       "version_minor": 0
      },
      "text/plain": [
       "  0%|          | 0/1 [00:00<?, ?it/s]"
      ]
     },
     "metadata": {},
     "output_type": "display_data"
    },
    {
     "data": {
      "application/vnd.jupyter.widget-view+json": {
       "model_id": "776ee34c68504a6b99747e6fb2b4256b",
       "version_major": 2,
       "version_minor": 0
      },
      "text/plain": [
       "0it [00:00, ?it/s]"
      ]
     },
     "metadata": {},
     "output_type": "display_data"
    },
    {
     "name": "stdout",
     "output_type": "stream",
     "text": [
      "Resampling done in 0.11785316467285156\n",
      "Resampling done in 0.1071479320526123\n",
      "Resampling done in 0.12683677673339844\n",
      "Resampling done in 0.11449790000915527\n",
      "Resampling done in 0.10682368278503418\n"
     ]
    },
    {
     "data": {
      "text/html": [
       "<div>\n",
       "<style scoped>\n",
       "    .dataframe tbody tr th:only-of-type {\n",
       "        vertical-align: middle;\n",
       "    }\n",
       "\n",
       "    .dataframe tbody tr th {\n",
       "        vertical-align: top;\n",
       "    }\n",
       "\n",
       "    .dataframe thead th {\n",
       "        text-align: right;\n",
       "    }\n",
       "</style>\n",
       "<table border=\"1\" class=\"dataframe\">\n",
       "  <thead>\n",
       "    <tr style=\"text-align: right;\">\n",
       "      <th></th>\n",
       "      <th>Run Time</th>\n",
       "      <th>Train Accuracy</th>\n",
       "      <th>Train Recall</th>\n",
       "      <th>Val Accuracy</th>\n",
       "      <th>Val Recall</th>\n",
       "    </tr>\n",
       "  </thead>\n",
       "  <tbody>\n",
       "    <tr>\n",
       "      <th>GradientBoostingClassifier</th>\n",
       "      <td>0.168575</td>\n",
       "      <td>100.00%</td>\n",
       "      <td>100.00%</td>\n",
       "      <td>93.97%</td>\n",
       "      <td>96.00%</td>\n",
       "    </tr>\n",
       "  </tbody>\n",
       "</table>\n",
       "</div>"
      ],
      "text/plain": [
       "                            Run Time Train Accuracy Train Recall Val Accuracy  \\\n",
       "GradientBoostingClassifier  0.168575        100.00%      100.00%       93.97%   \n",
       "\n",
       "                           Val Recall  \n",
       "GradientBoostingClassifier     96.00%  "
      ]
     },
     "metadata": {},
     "output_type": "display_data"
    },
    {
     "name": "stdout",
     "output_type": "stream",
     "text": [
      "------------------------------------------\u001b[1m\u001b[31mEditedNearestNeighbours\u001b[0m------------------------------------------\n"
     ]
    },
    {
     "data": {
      "application/vnd.jupyter.widget-view+json": {
       "model_id": "215f92ab1fe84c6b879c404c9ed39421",
       "version_major": 2,
       "version_minor": 0
      },
      "text/plain": [
       "  0%|          | 0/1 [00:00<?, ?it/s]"
      ]
     },
     "metadata": {},
     "output_type": "display_data"
    },
    {
     "data": {
      "application/vnd.jupyter.widget-view+json": {
       "model_id": "f7ae2d220b8a42099b0e23c82845bb1b",
       "version_major": 2,
       "version_minor": 0
      },
      "text/plain": [
       "0it [00:00, ?it/s]"
      ]
     },
     "metadata": {},
     "output_type": "display_data"
    },
    {
     "name": "stdout",
     "output_type": "stream",
     "text": [
      "Resampling done in 6.9539220333099365\n",
      "Resampling done in 6.492815732955933\n",
      "Resampling done in 6.112780809402466\n",
      "Resampling done in 6.32309627532959\n",
      "Resampling done in 6.290825128555298\n"
     ]
    },
    {
     "data": {
      "text/html": [
       "<div>\n",
       "<style scoped>\n",
       "    .dataframe tbody tr th:only-of-type {\n",
       "        vertical-align: middle;\n",
       "    }\n",
       "\n",
       "    .dataframe tbody tr th {\n",
       "        vertical-align: top;\n",
       "    }\n",
       "\n",
       "    .dataframe thead th {\n",
       "        text-align: right;\n",
       "    }\n",
       "</style>\n",
       "<table border=\"1\" class=\"dataframe\">\n",
       "  <thead>\n",
       "    <tr style=\"text-align: right;\">\n",
       "      <th></th>\n",
       "      <th>Run Time</th>\n",
       "      <th>Train Accuracy</th>\n",
       "      <th>Train Recall</th>\n",
       "      <th>Val Accuracy</th>\n",
       "      <th>Val Recall</th>\n",
       "    </tr>\n",
       "  </thead>\n",
       "  <tbody>\n",
       "    <tr>\n",
       "      <th>GradientBoostingClassifier</th>\n",
       "      <td>13.747526</td>\n",
       "      <td>99.99%</td>\n",
       "      <td>99.44%</td>\n",
       "      <td>99.79%</td>\n",
       "      <td>92.00%</td>\n",
       "    </tr>\n",
       "  </tbody>\n",
       "</table>\n",
       "</div>"
      ],
      "text/plain": [
       "                             Run Time Train Accuracy Train Recall  \\\n",
       "GradientBoostingClassifier  13.747526         99.99%       99.44%   \n",
       "\n",
       "                           Val Accuracy Val Recall  \n",
       "GradientBoostingClassifier       99.79%     92.00%  "
      ]
     },
     "metadata": {},
     "output_type": "display_data"
    },
    {
     "name": "stdout",
     "output_type": "stream",
     "text": [
      "--------------------------------------------------\u001b[1m\u001b[31mAllKNN\u001b[0m---------------------------------------------------\n"
     ]
    },
    {
     "data": {
      "application/vnd.jupyter.widget-view+json": {
       "model_id": "f49345a2f92042779a79a65377257e11",
       "version_major": 2,
       "version_minor": 0
      },
      "text/plain": [
       "  0%|          | 0/1 [00:00<?, ?it/s]"
      ]
     },
     "metadata": {},
     "output_type": "display_data"
    },
    {
     "data": {
      "application/vnd.jupyter.widget-view+json": {
       "model_id": "c7ee1d9599954ad0a0c9b4b1f7ecda3d",
       "version_major": 2,
       "version_minor": 0
      },
      "text/plain": [
       "0it [00:00, ?it/s]"
      ]
     },
     "metadata": {},
     "output_type": "display_data"
    },
    {
     "name": "stdout",
     "output_type": "stream",
     "text": [
      "Resampling done in 15.970970630645752\n",
      "Resampling done in 15.109300136566162\n",
      "Resampling done in 15.219838380813599\n",
      "Resampling done in 13.710755109786987\n",
      "Resampling done in 15.814285039901733\n"
     ]
    },
    {
     "data": {
      "text/html": [
       "<div>\n",
       "<style scoped>\n",
       "    .dataframe tbody tr th:only-of-type {\n",
       "        vertical-align: middle;\n",
       "    }\n",
       "\n",
       "    .dataframe tbody tr th {\n",
       "        vertical-align: top;\n",
       "    }\n",
       "\n",
       "    .dataframe thead th {\n",
       "        text-align: right;\n",
       "    }\n",
       "</style>\n",
       "<table border=\"1\" class=\"dataframe\">\n",
       "  <thead>\n",
       "    <tr style=\"text-align: right;\">\n",
       "      <th></th>\n",
       "      <th>Run Time</th>\n",
       "      <th>Train Accuracy</th>\n",
       "      <th>Train Recall</th>\n",
       "      <th>Val Accuracy</th>\n",
       "      <th>Val Recall</th>\n",
       "    </tr>\n",
       "  </thead>\n",
       "  <tbody>\n",
       "    <tr>\n",
       "      <th>GradientBoostingClassifier</th>\n",
       "      <td>12.591095</td>\n",
       "      <td>99.99%</td>\n",
       "      <td>99.44%</td>\n",
       "      <td>99.80%</td>\n",
       "      <td>92.00%</td>\n",
       "    </tr>\n",
       "  </tbody>\n",
       "</table>\n",
       "</div>"
      ],
      "text/plain": [
       "                             Run Time Train Accuracy Train Recall  \\\n",
       "GradientBoostingClassifier  12.591095         99.99%       99.44%   \n",
       "\n",
       "                           Val Accuracy Val Recall  \n",
       "GradientBoostingClassifier       99.80%     92.00%  "
      ]
     },
     "metadata": {},
     "output_type": "display_data"
    },
    {
     "name": "stdout",
     "output_type": "stream",
     "text": [
      "--------------------------------------\u001b[1m\u001b[31mRepeatedEditedNearestNeighbours\u001b[0m--------------------------------------\n"
     ]
    },
    {
     "data": {
      "application/vnd.jupyter.widget-view+json": {
       "model_id": "a646dcd8df4d4cafab380e060f5081ca",
       "version_major": 2,
       "version_minor": 0
      },
      "text/plain": [
       "  0%|          | 0/1 [00:00<?, ?it/s]"
      ]
     },
     "metadata": {},
     "output_type": "display_data"
    },
    {
     "data": {
      "application/vnd.jupyter.widget-view+json": {
       "model_id": "234d610dc0a24dbcb334f2c024326243",
       "version_major": 2,
       "version_minor": 0
      },
      "text/plain": [
       "0it [00:00, ?it/s]"
      ]
     },
     "metadata": {},
     "output_type": "display_data"
    },
    {
     "name": "stdout",
     "output_type": "stream",
     "text": [
      "Resampling done in 22.978089094161987\n",
      "Resampling done in 29.636507749557495\n",
      "Resampling done in 27.01902484893799\n",
      "Resampling done in 21.4951434135437\n",
      "Resampling done in 27.8022141456604\n"
     ]
    },
    {
     "data": {
      "text/html": [
       "<div>\n",
       "<style scoped>\n",
       "    .dataframe tbody tr th:only-of-type {\n",
       "        vertical-align: middle;\n",
       "    }\n",
       "\n",
       "    .dataframe tbody tr th {\n",
       "        vertical-align: top;\n",
       "    }\n",
       "\n",
       "    .dataframe thead th {\n",
       "        text-align: right;\n",
       "    }\n",
       "</style>\n",
       "<table border=\"1\" class=\"dataframe\">\n",
       "  <thead>\n",
       "    <tr style=\"text-align: right;\">\n",
       "      <th></th>\n",
       "      <th>Run Time</th>\n",
       "      <th>Train Accuracy</th>\n",
       "      <th>Train Recall</th>\n",
       "      <th>Val Accuracy</th>\n",
       "      <th>Val Recall</th>\n",
       "    </tr>\n",
       "  </thead>\n",
       "  <tbody>\n",
       "    <tr>\n",
       "      <th>GradientBoostingClassifier</th>\n",
       "      <td>11.405863</td>\n",
       "      <td>99.99%</td>\n",
       "      <td>99.56%</td>\n",
       "      <td>99.81%</td>\n",
       "      <td>92.44%</td>\n",
       "    </tr>\n",
       "  </tbody>\n",
       "</table>\n",
       "</div>"
      ],
      "text/plain": [
       "                             Run Time Train Accuracy Train Recall  \\\n",
       "GradientBoostingClassifier  11.405863         99.99%       99.56%   \n",
       "\n",
       "                           Val Accuracy Val Recall  \n",
       "GradientBoostingClassifier       99.81%     92.44%  "
      ]
     },
     "metadata": {},
     "output_type": "display_data"
    }
   ],
   "source": [
    "# Undersampling\n",
    "\n",
    "\n",
    "res_list = [('TomekLinks', TomekLinks()),\n",
    "            ('NearMiss', NearMiss()),\n",
    "           ('EditedNearestNeighbours', EditedNearestNeighbours()),\n",
    "           ('AllKNN', AllKNN()),\n",
    "           ('RepeatedEditedNearestNeighbours', RepeatedEditedNearestNeighbours())]\n",
    "\n",
    "outputs_u = []\n",
    "for title, res in res_list:\n",
    "    print(colored(title, 'red', attrs=['bold']).center(120, \"-\"))\n",
    "    var = auto_ml(X_trainval, y_trainval, models_dict, scaler=MinMaxScaler(),\n",
    "                  cv=StratifiedKFold(n_splits=5), res_t=res)\n",
    "    outputs_u.append(var[0])\n",
    "    display(var[1])"
   ]
  },
  {
   "cell_type": "code",
   "execution_count": 32,
   "id": "113a7d2b",
   "metadata": {},
   "outputs": [
    {
     "name": "stdout",
     "output_type": "stream",
     "text": [
      "------------------------------------------------\u001b[1m\u001b[31mSMOTETomek\u001b[0m-------------------------------------------------\n"
     ]
    },
    {
     "data": {
      "application/vnd.jupyter.widget-view+json": {
       "model_id": "a48d5f76f72c4dc3a9f39b7019b20795",
       "version_major": 2,
       "version_minor": 0
      },
      "text/plain": [
       "  0%|          | 0/1 [00:00<?, ?it/s]"
      ]
     },
     "metadata": {},
     "output_type": "display_data"
    },
    {
     "data": {
      "application/vnd.jupyter.widget-view+json": {
       "model_id": "02471f9839614b8a81f0de0dbea516dc",
       "version_major": 2,
       "version_minor": 0
      },
      "text/plain": [
       "0it [00:00, ?it/s]"
      ]
     },
     "metadata": {},
     "output_type": "display_data"
    },
    {
     "name": "stdout",
     "output_type": "stream",
     "text": [
      "Resampling done in 15.827311038970947\n",
      "Resampling done in 15.023146390914917\n",
      "Resampling done in 15.030317544937134\n",
      "Resampling done in 15.62339448928833\n",
      "Resampling done in 16.001643180847168\n"
     ]
    },
    {
     "data": {
      "text/html": [
       "<div>\n",
       "<style scoped>\n",
       "    .dataframe tbody tr th:only-of-type {\n",
       "        vertical-align: middle;\n",
       "    }\n",
       "\n",
       "    .dataframe tbody tr th {\n",
       "        vertical-align: top;\n",
       "    }\n",
       "\n",
       "    .dataframe thead th {\n",
       "        text-align: right;\n",
       "    }\n",
       "</style>\n",
       "<table border=\"1\" class=\"dataframe\">\n",
       "  <thead>\n",
       "    <tr style=\"text-align: right;\">\n",
       "      <th></th>\n",
       "      <th>Run Time</th>\n",
       "      <th>Train Accuracy</th>\n",
       "      <th>Train Recall</th>\n",
       "      <th>Val Accuracy</th>\n",
       "      <th>Val Recall</th>\n",
       "    </tr>\n",
       "  </thead>\n",
       "  <tbody>\n",
       "    <tr>\n",
       "      <th>GradientBoostingClassifier</th>\n",
       "      <td>28.607187</td>\n",
       "      <td>99.69%</td>\n",
       "      <td>99.92%</td>\n",
       "      <td>99.29%</td>\n",
       "      <td>95.11%</td>\n",
       "    </tr>\n",
       "  </tbody>\n",
       "</table>\n",
       "</div>"
      ],
      "text/plain": [
       "                             Run Time Train Accuracy Train Recall  \\\n",
       "GradientBoostingClassifier  28.607187         99.69%       99.92%   \n",
       "\n",
       "                           Val Accuracy Val Recall  \n",
       "GradientBoostingClassifier       99.29%     95.11%  "
      ]
     },
     "metadata": {},
     "output_type": "display_data"
    },
    {
     "name": "stdout",
     "output_type": "stream",
     "text": [
      "-------------------------------------------------\u001b[1m\u001b[31mSMOTEENN\u001b[0m--------------------------------------------------\n"
     ]
    },
    {
     "data": {
      "application/vnd.jupyter.widget-view+json": {
       "model_id": "8a126de1f401480494b1581fc75f83c2",
       "version_major": 2,
       "version_minor": 0
      },
      "text/plain": [
       "  0%|          | 0/1 [00:00<?, ?it/s]"
      ]
     },
     "metadata": {},
     "output_type": "display_data"
    },
    {
     "data": {
      "application/vnd.jupyter.widget-view+json": {
       "model_id": "dbeb29b9682b418ba62cbd20eb4745b8",
       "version_major": 2,
       "version_minor": 0
      },
      "text/plain": [
       "0it [00:00, ?it/s]"
      ]
     },
     "metadata": {},
     "output_type": "display_data"
    },
    {
     "name": "stdout",
     "output_type": "stream",
     "text": [
      "Resampling done in 21.62845778465271\n",
      "Resampling done in 22.807477951049805\n",
      "Resampling done in 20.844133853912354\n",
      "Resampling done in 22.298982858657837\n",
      "Resampling done in 22.134552240371704\n"
     ]
    },
    {
     "data": {
      "text/html": [
       "<div>\n",
       "<style scoped>\n",
       "    .dataframe tbody tr th:only-of-type {\n",
       "        vertical-align: middle;\n",
       "    }\n",
       "\n",
       "    .dataframe tbody tr th {\n",
       "        vertical-align: top;\n",
       "    }\n",
       "\n",
       "    .dataframe thead th {\n",
       "        text-align: right;\n",
       "    }\n",
       "</style>\n",
       "<table border=\"1\" class=\"dataframe\">\n",
       "  <thead>\n",
       "    <tr style=\"text-align: right;\">\n",
       "      <th></th>\n",
       "      <th>Run Time</th>\n",
       "      <th>Train Accuracy</th>\n",
       "      <th>Train Recall</th>\n",
       "      <th>Val Accuracy</th>\n",
       "      <th>Val Recall</th>\n",
       "    </tr>\n",
       "  </thead>\n",
       "  <tbody>\n",
       "    <tr>\n",
       "      <th>GradientBoostingClassifier</th>\n",
       "      <td>27.329381</td>\n",
       "      <td>99.70%</td>\n",
       "      <td>99.91%</td>\n",
       "      <td>99.27%</td>\n",
       "      <td>95.56%</td>\n",
       "    </tr>\n",
       "  </tbody>\n",
       "</table>\n",
       "</div>"
      ],
      "text/plain": [
       "                             Run Time Train Accuracy Train Recall  \\\n",
       "GradientBoostingClassifier  27.329381         99.70%       99.91%   \n",
       "\n",
       "                           Val Accuracy Val Recall  \n",
       "GradientBoostingClassifier       99.27%     95.56%  "
      ]
     },
     "metadata": {},
     "output_type": "display_data"
    }
   ],
   "source": [
    "# Combined Resampling\n",
    "\n",
    "\n",
    "res_list = [('SMOTETomek', SMOTETomek()),\n",
    "           ('SMOTEENN', SMOTEENN())]\n",
    "\n",
    "outputs_u = []\n",
    "for title, res in res_list:\n",
    "    print(colored(title, 'red', attrs=['bold']).center(120, \"-\"))\n",
    "    var = auto_ml(X_trainval, y_trainval, models_dict, scaler=MinMaxScaler(),\n",
    "                  cv=StratifiedKFold(n_splits=5), res_t=res)\n",
    "    outputs_u.append(var[0])\n",
    "    display(var[1])"
   ]
  },
  {
   "cell_type": "code",
   "execution_count": null,
   "id": "c91d6d41",
   "metadata": {},
   "outputs": [],
   "source": []
  }
 ],
 "metadata": {
  "kernelspec": {
   "display_name": "Python 3 (ipykernel)",
   "language": "python",
   "name": "python3"
  },
  "language_info": {
   "codemirror_mode": {
    "name": "ipython",
    "version": 3
   },
   "file_extension": ".py",
   "mimetype": "text/x-python",
   "name": "python",
   "nbconvert_exporter": "python",
   "pygments_lexer": "ipython3",
   "version": "3.9.12"
  }
 },
 "nbformat": 4,
 "nbformat_minor": 5
}

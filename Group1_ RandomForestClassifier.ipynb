{
 "cells": [
  {
   "cell_type": "markdown",
   "metadata": {},
   "source": [
    "<div><span style=\"background-color: #9e4244; padding-top: 80px; padding-right: 20px; padding-bottom: 50px; padding-left: 20px; color: white; font-size: 22px; font-weight: bold\">Random Forest with Resampling</span></div>"
   ]
  },
  {
   "cell_type": "code",
   "execution_count": 1,
   "metadata": {
    "ExecuteTime": {
     "end_time": "2022-06-25T17:06:40.840624Z",
     "start_time": "2022-06-25T17:06:26.941745Z"
    }
   },
   "outputs": [],
   "source": [
    "# General Libraries\n",
    "import re\n",
    "import time\n",
    "import warnings\n",
    "import numpy as np\n",
    "import pandas as pd\n",
    "from tqdm.notebook import tqdm\n",
    "from collections import Counter\n",
    "warnings.filterwarnings(\"ignore\")\n",
    "\n",
    "# Visualizations\n",
    "import seaborn as sns\n",
    "from termcolor import colored\n",
    "import matplotlib.pyplot as plt\n",
    "import plotly.graph_objects as go\n",
    "\n",
    "# Sklearn\n",
    "from sklearn.preprocessing import MinMaxScaler\n",
    "from sklearn.model_selection import (train_test_split, GridSearchCV,\n",
    "                                     StratifiedKFold)\n",
    "from sklearn.neighbors import KNeighborsClassifier\n",
    "from sklearn.svm import SVC\n",
    "from sklearn.linear_model import LogisticRegression\n",
    "from sklearn.naive_bayes import GaussianNB\n",
    "from sklearn.tree import DecisionTreeClassifier\n",
    "from sklearn.ensemble import (RandomForestClassifier,  \n",
    "                              GradientBoostingClassifier)\n",
    "from sklearn.model_selection import cross_validate\n",
    "from sklearn.metrics import (ConfusionMatrixDisplay, precision_score, recall_score)\n",
    "\n",
    "# Imblearn\n",
    "from imblearn.pipeline import Pipeline, make_pipeline\n",
    "from imblearn.over_sampling import (SMOTE, ADASYN, BorderlineSMOTE, SVMSMOTE)\n",
    "from imblearn.under_sampling import (TomekLinks, NearMiss, AllKNN,\n",
    "                                     EditedNearestNeighbours, \n",
    "                                     RepeatedEditedNearestNeighbours) \n",
    "from imblearn.combine import SMOTETomek, SMOTEENN\n",
    "\n",
    "# SHAP\n",
    "import shap"
   ]
  },
  {
   "cell_type": "code",
   "execution_count": 2,
   "metadata": {},
   "outputs": [
    {
     "name": "stdout",
     "output_type": "stream",
     "text": [
      "Requirement already satisfied: termcolor in c:\\users\\rex fuentes\\venv\\lib\\site-packages (2.0.1)\n"
     ]
    },
    {
     "name": "stderr",
     "output_type": "stream",
     "text": [
      "\n",
      "[notice] A new release of pip available: 22.2.2 -> 22.3\n",
      "[notice] To update, run: python.exe -m pip install --upgrade pip\n"
     ]
    }
   ],
   "source": [
    "!pip install termcolor"
   ]
  },
  {
   "cell_type": "code",
   "execution_count": 2,
   "metadata": {
    "ExecuteTime": {
     "end_time": "2022-06-25T17:06:47.142146Z",
     "start_time": "2022-06-25T17:06:40.843628Z"
    }
   },
   "outputs": [
    {
     "data": {
      "text/html": [
       "<div>\n",
       "<style scoped>\n",
       "    .dataframe tbody tr th:only-of-type {\n",
       "        vertical-align: middle;\n",
       "    }\n",
       "\n",
       "    .dataframe tbody tr th {\n",
       "        vertical-align: top;\n",
       "    }\n",
       "\n",
       "    .dataframe thead th {\n",
       "        text-align: right;\n",
       "    }\n",
       "</style>\n",
       "<table border=\"1\" class=\"dataframe\">\n",
       "  <thead>\n",
       "    <tr style=\"text-align: right;\">\n",
       "      <th></th>\n",
       "      <th>lat</th>\n",
       "      <th>long</th>\n",
       "      <th>city_pop</th>\n",
       "      <th>trans_date</th>\n",
       "      <th>amt</th>\n",
       "      <th>is_fraud</th>\n",
       "      <th>merch_lat</th>\n",
       "      <th>merch_long</th>\n",
       "      <th>trans_day</th>\n",
       "      <th>city_Angeles City</th>\n",
       "      <th>...</th>\n",
       "      <th>part_of_day_lunch</th>\n",
       "      <th>region_CALABARZON</th>\n",
       "      <th>region_NCR</th>\n",
       "      <th>region_Region 3</th>\n",
       "      <th>quarantine_status_ECQ</th>\n",
       "      <th>quarantine_status_GCQ</th>\n",
       "      <th>quarantine_status_MECQ</th>\n",
       "      <th>quarantine_status_Normal</th>\n",
       "      <th>QL_Extreme QL</th>\n",
       "      <th>QL_Moderate-Low QL</th>\n",
       "    </tr>\n",
       "  </thead>\n",
       "  <tbody>\n",
       "    <tr>\n",
       "      <th>0</th>\n",
       "      <td>14.5958</td>\n",
       "      <td>120.9772</td>\n",
       "      <td>23088000</td>\n",
       "      <td>2020-09-13</td>\n",
       "      <td>966.24</td>\n",
       "      <td>1</td>\n",
       "      <td>14.133430</td>\n",
       "      <td>121.223118</td>\n",
       "      <td>13</td>\n",
       "      <td>0</td>\n",
       "      <td>...</td>\n",
       "      <td>1</td>\n",
       "      <td>0</td>\n",
       "      <td>1</td>\n",
       "      <td>0</td>\n",
       "      <td>0</td>\n",
       "      <td>1</td>\n",
       "      <td>0</td>\n",
       "      <td>0</td>\n",
       "      <td>0</td>\n",
       "      <td>1</td>\n",
       "    </tr>\n",
       "    <tr>\n",
       "      <th>1</th>\n",
       "      <td>14.5958</td>\n",
       "      <td>120.9772</td>\n",
       "      <td>23088000</td>\n",
       "      <td>2020-09-13</td>\n",
       "      <td>275.37</td>\n",
       "      <td>1</td>\n",
       "      <td>15.290354</td>\n",
       "      <td>120.246084</td>\n",
       "      <td>13</td>\n",
       "      <td>0</td>\n",
       "      <td>...</td>\n",
       "      <td>0</td>\n",
       "      <td>0</td>\n",
       "      <td>1</td>\n",
       "      <td>0</td>\n",
       "      <td>0</td>\n",
       "      <td>1</td>\n",
       "      <td>0</td>\n",
       "      <td>0</td>\n",
       "      <td>0</td>\n",
       "      <td>1</td>\n",
       "    </tr>\n",
       "    <tr>\n",
       "      <th>2</th>\n",
       "      <td>14.5958</td>\n",
       "      <td>120.9772</td>\n",
       "      <td>23088000</td>\n",
       "      <td>2020-09-14</td>\n",
       "      <td>326.96</td>\n",
       "      <td>1</td>\n",
       "      <td>15.402101</td>\n",
       "      <td>121.332516</td>\n",
       "      <td>14</td>\n",
       "      <td>0</td>\n",
       "      <td>...</td>\n",
       "      <td>0</td>\n",
       "      <td>0</td>\n",
       "      <td>1</td>\n",
       "      <td>0</td>\n",
       "      <td>0</td>\n",
       "      <td>1</td>\n",
       "      <td>0</td>\n",
       "      <td>0</td>\n",
       "      <td>0</td>\n",
       "      <td>1</td>\n",
       "    </tr>\n",
       "    <tr>\n",
       "      <th>3</th>\n",
       "      <td>14.5958</td>\n",
       "      <td>120.9772</td>\n",
       "      <td>23088000</td>\n",
       "      <td>2020-09-14</td>\n",
       "      <td>1047.59</td>\n",
       "      <td>1</td>\n",
       "      <td>15.166276</td>\n",
       "      <td>121.955649</td>\n",
       "      <td>14</td>\n",
       "      <td>0</td>\n",
       "      <td>...</td>\n",
       "      <td>0</td>\n",
       "      <td>0</td>\n",
       "      <td>1</td>\n",
       "      <td>0</td>\n",
       "      <td>0</td>\n",
       "      <td>1</td>\n",
       "      <td>0</td>\n",
       "      <td>0</td>\n",
       "      <td>0</td>\n",
       "      <td>1</td>\n",
       "    </tr>\n",
       "    <tr>\n",
       "      <th>4</th>\n",
       "      <td>14.5958</td>\n",
       "      <td>120.9772</td>\n",
       "      <td>23088000</td>\n",
       "      <td>2020-09-14</td>\n",
       "      <td>286.34</td>\n",
       "      <td>1</td>\n",
       "      <td>15.149144</td>\n",
       "      <td>121.696662</td>\n",
       "      <td>14</td>\n",
       "      <td>0</td>\n",
       "      <td>...</td>\n",
       "      <td>0</td>\n",
       "      <td>0</td>\n",
       "      <td>1</td>\n",
       "      <td>0</td>\n",
       "      <td>0</td>\n",
       "      <td>1</td>\n",
       "      <td>0</td>\n",
       "      <td>0</td>\n",
       "      <td>0</td>\n",
       "      <td>1</td>\n",
       "    </tr>\n",
       "  </tbody>\n",
       "</table>\n",
       "<p>5 rows × 243 columns</p>\n",
       "</div>"
      ],
      "text/plain": [
       "       lat      long  city_pop  trans_date      amt  is_fraud  merch_lat  \\\n",
       "0  14.5958  120.9772  23088000  2020-09-13   966.24         1  14.133430   \n",
       "1  14.5958  120.9772  23088000  2020-09-13   275.37         1  15.290354   \n",
       "2  14.5958  120.9772  23088000  2020-09-14   326.96         1  15.402101   \n",
       "3  14.5958  120.9772  23088000  2020-09-14  1047.59         1  15.166276   \n",
       "4  14.5958  120.9772  23088000  2020-09-14   286.34         1  15.149144   \n",
       "\n",
       "   merch_long  trans_day  city_Angeles City  ...  part_of_day_lunch  \\\n",
       "0  121.223118         13                  0  ...                  1   \n",
       "1  120.246084         13                  0  ...                  0   \n",
       "2  121.332516         14                  0  ...                  0   \n",
       "3  121.955649         14                  0  ...                  0   \n",
       "4  121.696662         14                  0  ...                  0   \n",
       "\n",
       "   region_CALABARZON  region_NCR  region_Region 3  quarantine_status_ECQ  \\\n",
       "0                  0           1                0                      0   \n",
       "1                  0           1                0                      0   \n",
       "2                  0           1                0                      0   \n",
       "3                  0           1                0                      0   \n",
       "4                  0           1                0                      0   \n",
       "\n",
       "   quarantine_status_GCQ  quarantine_status_MECQ  quarantine_status_Normal  \\\n",
       "0                      1                       0                         0   \n",
       "1                      1                       0                         0   \n",
       "2                      1                       0                         0   \n",
       "3                      1                       0                         0   \n",
       "4                      1                       0                         0   \n",
       "\n",
       "   QL_Extreme QL  QL_Moderate-Low QL  \n",
       "0              0                   1  \n",
       "1              0                   1  \n",
       "2              0                   1  \n",
       "3              0                   1  \n",
       "4              0                   1  \n",
       "\n",
       "[5 rows x 243 columns]"
      ]
     },
     "execution_count": 2,
     "metadata": {},
     "output_type": "execute_result"
    }
   ],
   "source": [
    "df = pd.read_csv('cc_df.csv', nrows=100000)\n",
    "df.head()"
   ]
  },
  {
   "cell_type": "code",
   "execution_count": 10,
   "metadata": {},
   "outputs": [],
   "source": [
    "df = df.drop(['trans_date'], axis=1)"
   ]
  },
  {
   "cell_type": "code",
   "execution_count": 11,
   "metadata": {},
   "outputs": [
    {
     "data": {
      "text/html": [
       "<div>\n",
       "<style scoped>\n",
       "    .dataframe tbody tr th:only-of-type {\n",
       "        vertical-align: middle;\n",
       "    }\n",
       "\n",
       "    .dataframe tbody tr th {\n",
       "        vertical-align: top;\n",
       "    }\n",
       "\n",
       "    .dataframe thead th {\n",
       "        text-align: right;\n",
       "    }\n",
       "</style>\n",
       "<table border=\"1\" class=\"dataframe\">\n",
       "  <thead>\n",
       "    <tr style=\"text-align: right;\">\n",
       "      <th></th>\n",
       "      <th>lat</th>\n",
       "      <th>long</th>\n",
       "      <th>city_pop</th>\n",
       "      <th>amt</th>\n",
       "      <th>is_fraud</th>\n",
       "      <th>merch_lat</th>\n",
       "      <th>merch_long</th>\n",
       "      <th>trans_day</th>\n",
       "      <th>city_Angeles City</th>\n",
       "      <th>city_Antipolo</th>\n",
       "      <th>...</th>\n",
       "      <th>part_of_day_lunch</th>\n",
       "      <th>region_CALABARZON</th>\n",
       "      <th>region_NCR</th>\n",
       "      <th>region_Region 3</th>\n",
       "      <th>quarantine_status_ECQ</th>\n",
       "      <th>quarantine_status_GCQ</th>\n",
       "      <th>quarantine_status_MECQ</th>\n",
       "      <th>quarantine_status_Normal</th>\n",
       "      <th>QL_Extreme QL</th>\n",
       "      <th>QL_Moderate-Low QL</th>\n",
       "    </tr>\n",
       "  </thead>\n",
       "  <tbody>\n",
       "    <tr>\n",
       "      <th>0</th>\n",
       "      <td>14.5958</td>\n",
       "      <td>120.9772</td>\n",
       "      <td>23088000</td>\n",
       "      <td>966.24</td>\n",
       "      <td>1</td>\n",
       "      <td>14.133430</td>\n",
       "      <td>121.223118</td>\n",
       "      <td>13</td>\n",
       "      <td>0</td>\n",
       "      <td>0</td>\n",
       "      <td>...</td>\n",
       "      <td>1</td>\n",
       "      <td>0</td>\n",
       "      <td>1</td>\n",
       "      <td>0</td>\n",
       "      <td>0</td>\n",
       "      <td>1</td>\n",
       "      <td>0</td>\n",
       "      <td>0</td>\n",
       "      <td>0</td>\n",
       "      <td>1</td>\n",
       "    </tr>\n",
       "    <tr>\n",
       "      <th>1</th>\n",
       "      <td>14.5958</td>\n",
       "      <td>120.9772</td>\n",
       "      <td>23088000</td>\n",
       "      <td>275.37</td>\n",
       "      <td>1</td>\n",
       "      <td>15.290354</td>\n",
       "      <td>120.246084</td>\n",
       "      <td>13</td>\n",
       "      <td>0</td>\n",
       "      <td>0</td>\n",
       "      <td>...</td>\n",
       "      <td>0</td>\n",
       "      <td>0</td>\n",
       "      <td>1</td>\n",
       "      <td>0</td>\n",
       "      <td>0</td>\n",
       "      <td>1</td>\n",
       "      <td>0</td>\n",
       "      <td>0</td>\n",
       "      <td>0</td>\n",
       "      <td>1</td>\n",
       "    </tr>\n",
       "    <tr>\n",
       "      <th>2</th>\n",
       "      <td>14.5958</td>\n",
       "      <td>120.9772</td>\n",
       "      <td>23088000</td>\n",
       "      <td>326.96</td>\n",
       "      <td>1</td>\n",
       "      <td>15.402101</td>\n",
       "      <td>121.332516</td>\n",
       "      <td>14</td>\n",
       "      <td>0</td>\n",
       "      <td>0</td>\n",
       "      <td>...</td>\n",
       "      <td>0</td>\n",
       "      <td>0</td>\n",
       "      <td>1</td>\n",
       "      <td>0</td>\n",
       "      <td>0</td>\n",
       "      <td>1</td>\n",
       "      <td>0</td>\n",
       "      <td>0</td>\n",
       "      <td>0</td>\n",
       "      <td>1</td>\n",
       "    </tr>\n",
       "    <tr>\n",
       "      <th>3</th>\n",
       "      <td>14.5958</td>\n",
       "      <td>120.9772</td>\n",
       "      <td>23088000</td>\n",
       "      <td>1047.59</td>\n",
       "      <td>1</td>\n",
       "      <td>15.166276</td>\n",
       "      <td>121.955649</td>\n",
       "      <td>14</td>\n",
       "      <td>0</td>\n",
       "      <td>0</td>\n",
       "      <td>...</td>\n",
       "      <td>0</td>\n",
       "      <td>0</td>\n",
       "      <td>1</td>\n",
       "      <td>0</td>\n",
       "      <td>0</td>\n",
       "      <td>1</td>\n",
       "      <td>0</td>\n",
       "      <td>0</td>\n",
       "      <td>0</td>\n",
       "      <td>1</td>\n",
       "    </tr>\n",
       "    <tr>\n",
       "      <th>4</th>\n",
       "      <td>14.5958</td>\n",
       "      <td>120.9772</td>\n",
       "      <td>23088000</td>\n",
       "      <td>286.34</td>\n",
       "      <td>1</td>\n",
       "      <td>15.149144</td>\n",
       "      <td>121.696662</td>\n",
       "      <td>14</td>\n",
       "      <td>0</td>\n",
       "      <td>0</td>\n",
       "      <td>...</td>\n",
       "      <td>0</td>\n",
       "      <td>0</td>\n",
       "      <td>1</td>\n",
       "      <td>0</td>\n",
       "      <td>0</td>\n",
       "      <td>1</td>\n",
       "      <td>0</td>\n",
       "      <td>0</td>\n",
       "      <td>0</td>\n",
       "      <td>1</td>\n",
       "    </tr>\n",
       "  </tbody>\n",
       "</table>\n",
       "<p>5 rows × 242 columns</p>\n",
       "</div>"
      ],
      "text/plain": [
       "       lat      long  city_pop      amt  is_fraud  merch_lat  merch_long  \\\n",
       "0  14.5958  120.9772  23088000   966.24         1  14.133430  121.223118   \n",
       "1  14.5958  120.9772  23088000   275.37         1  15.290354  120.246084   \n",
       "2  14.5958  120.9772  23088000   326.96         1  15.402101  121.332516   \n",
       "3  14.5958  120.9772  23088000  1047.59         1  15.166276  121.955649   \n",
       "4  14.5958  120.9772  23088000   286.34         1  15.149144  121.696662   \n",
       "\n",
       "   trans_day  city_Angeles City  city_Antipolo  ...  part_of_day_lunch  \\\n",
       "0         13                  0              0  ...                  1   \n",
       "1         13                  0              0  ...                  0   \n",
       "2         14                  0              0  ...                  0   \n",
       "3         14                  0              0  ...                  0   \n",
       "4         14                  0              0  ...                  0   \n",
       "\n",
       "   region_CALABARZON  region_NCR  region_Region 3  quarantine_status_ECQ  \\\n",
       "0                  0           1                0                      0   \n",
       "1                  0           1                0                      0   \n",
       "2                  0           1                0                      0   \n",
       "3                  0           1                0                      0   \n",
       "4                  0           1                0                      0   \n",
       "\n",
       "   quarantine_status_GCQ  quarantine_status_MECQ  quarantine_status_Normal  \\\n",
       "0                      1                       0                         0   \n",
       "1                      1                       0                         0   \n",
       "2                      1                       0                         0   \n",
       "3                      1                       0                         0   \n",
       "4                      1                       0                         0   \n",
       "\n",
       "   QL_Extreme QL  QL_Moderate-Low QL  \n",
       "0              0                   1  \n",
       "1              0                   1  \n",
       "2              0                   1  \n",
       "3              0                   1  \n",
       "4              0                   1  \n",
       "\n",
       "[5 rows x 242 columns]"
      ]
     },
     "execution_count": 11,
     "metadata": {},
     "output_type": "execute_result"
    }
   ],
   "source": [
    "df.head()"
   ]
  },
  {
   "cell_type": "code",
   "execution_count": 13,
   "metadata": {
    "ExecuteTime": {
     "end_time": "2022-06-25T17:06:59.724833Z",
     "start_time": "2022-06-25T17:06:59.489891Z"
    }
   },
   "outputs": [
    {
     "name": "stdout",
     "output_type": "stream",
     "text": [
      "Would Recommend:       0\n",
      "1    300\n",
      "0  29677\n",
      "Proportion Chance Criterion: 98.02%\n",
      "1.25 * Proportion Chance Criterion: 122.52%\n"
     ]
    },
    {
     "data": {
      "image/png": "[encoded data removed]",
      "text/plain": [
       "<Figure size 640x480 with 1 Axes>"
      ]
     },
     "metadata": {},
     "output_type": "display_data"
    }
   ],
   "source": [
    "state_counts = Counter(df['is_fraud'])\n",
    "df_state = pd.DataFrame.from_dict(state_counts, orient='index')\n",
    "df_state.plot(kind='bar', color='pink')\n",
    "\n",
    "num=(df_state[0]/df_state[0].sum())**2\n",
    "\n",
    "print(\"Would Recommend:{}\".format(df_state))\n",
    "\n",
    "print(\"Proportion Chance Criterion: {:0.2f}%\".format(100*num.sum()))\n",
    "print(\"1.25 * Proportion Chance Criterion: {:0.2f}%\".format(1.25*100*num.sum()))"
   ]
  },
  {
   "cell_type": "code",
   "execution_count": 14,
   "metadata": {
    "ExecuteTime": {
     "end_time": "2022-06-25T17:07:01.323651Z",
     "start_time": "2022-06-25T17:07:00.408410Z"
    }
   },
   "outputs": [],
   "source": [
    "X = df.drop(['is_fraud'], axis=1)\n",
    "y = df['is_fraud']\n",
    "(X_trainval, X_holdout, y_trainval, y_holdout) = train_test_split(X, y, \n",
    "                                                                  random_state=11, test_size=0.25,\n",
    "                                                                  stratify=y)"
   ]
  },
  {
   "cell_type": "markdown",
   "metadata": {},
   "source": [
    "<div><span style=\"background-color: #ff0257; padding-top: 100px; padding-right: 20px; padding-bottom: 50px; padding-left: 20px; color: #FFFAF0; font-size: 18px; font-weight: bold\">Auto-ML </span></div>"
   ]
  },
  {
   "cell_type": "code",
   "execution_count": 15,
   "metadata": {
    "ExecuteTime": {
     "end_time": "2022-06-25T17:07:04.220771Z",
     "start_time": "2022-06-25T17:07:04.197393Z"
    }
   },
   "outputs": [],
   "source": [
    "def auto_ml(X, y, models_dict, scaler=None, cv=None, res_t=None):\n",
    "    \"\"\"Apply resampling for imbalanced data\"\"\"\n",
    "    results = {}\n",
    "    results2 = {}\n",
    "\n",
    "    # log start time\n",
    "    total_start = time.time()\n",
    "\n",
    "    for model_name, model in tqdm(models_dict.items()):\n",
    "        \n",
    "        ################# this portion can be edited ###############\n",
    "        train_scores = []\n",
    "        val_scores = []\n",
    "\n",
    "        train_recall = []\n",
    "        val_recall = []\n",
    "\n",
    "        ###########################################################\n",
    "\n",
    "        for train_index, val_index in tqdm(cv.split(X, y)):\n",
    "\n",
    "            X_train, X_val = X.iloc[train_index], X.iloc[val_index]\n",
    "            y_train, y_val = y.iloc[train_index], y.iloc[val_index]\n",
    "\n",
    "            # Apply scaling\n",
    "            if scaler is not None:\n",
    "                X_train = scaler.fit_transform(X_train)\n",
    "                X_val = scaler.transform(X_val)\n",
    "            else:\n",
    "                pass\n",
    "\n",
    "            # Apply resampling\n",
    "            if res_t is not None:\n",
    "                s = time.time()\n",
    "                X_train, y_train = res_t.fit_resample(X_train, y_train)\n",
    "                print(f'Resampling done in {time.time() - s}')\n",
    "            else:\n",
    "                pass\n",
    "\n",
    "            start_time = time.time()\n",
    "\n",
    "            # fit\n",
    "            model.fit(X_train, y_train)\n",
    "\n",
    "            # predict\n",
    "            train_preds = model.predict(X_train)\n",
    "            val_preds = model.predict(X_val)\n",
    "            \n",
    "            ################# this portion can be edited ###############\n",
    "\n",
    "            # classification accuracy\n",
    "            train_scores.append(model.score(X_train, y_train))\n",
    "            val_scores.append(model.score(X_val, y_val))\n",
    "\n",
    "            # recall\n",
    "            train_recall.append(recall_score(y_train, train_preds))\n",
    "            val_recall.append(recall_score(y_val, val_preds))\n",
    "\n",
    "            end_time = time.time()\n",
    "\n",
    "            results[model_name] = {\n",
    "                'Train Accuracy': np.round(np.mean(train_scores) * 100, 2),\n",
    "                'Val Accuracy': np.round(np.mean(val_scores) * 100, 2),\n",
    "                'Train Recall': np.round(np.mean(train_recall) * 100, 2),\n",
    "                'Val Recall': np.round(np.mean(val_recall) * 100, 2),\n",
    "                'Run Time': end_time - start_time\n",
    "            }\n",
    "\n",
    "            results2[model_name] = {\n",
    "                'Train Accuracy': '{:.2f}%'.format(np.round(np.mean(train_scores)*100, 2)),\n",
    "                'Val Accuracy': '{:.2f}%'.format(np.round(np.mean(val_scores)*100, 2)),\n",
    "                'Train Recall': '{:.2f}%'.format(np.round(np.mean(train_recall)*100, 2)),\n",
    "                'Val Recall': '{:.2f}%'.format(np.round(np.mean(val_recall)*100, 2)),\n",
    "                'Run Time': end_time - start_time\n",
    "            }\n",
    "            \n",
    "            ###########################################################\n",
    "\n",
    "    results = pd.DataFrame(results).T\n",
    "    results2 = pd.DataFrame(results2).T\n",
    "    return [results, results2]\n"
   ]
  },
  {
   "cell_type": "markdown",
   "metadata": {},
   "source": [
    "### Baseline"
   ]
  },
  {
   "cell_type": "code",
   "execution_count": 16,
   "metadata": {
    "ExecuteTime": {
     "end_time": "2022-06-25T18:00:46.201827Z",
     "start_time": "2022-06-25T18:00:46.191744Z"
    }
   },
   "outputs": [],
   "source": [
    "models_dict = {'RandomForestClassifier': RandomForestClassifier(random_state=143)}\n",
    "\n",
    "# models_dict = {\n",
    "#     'KNeighborsClassifier': KNeighborsClassifier(),\n",
    "#     'LogisticRegressor': LogisticRegression(),\n",
    "#     'GaussianNB': GaussianNB(),\n",
    "#     'RandomForestClassifier': RandomForestClassifier(random_state=143),\n",
    "#     'DecisionTreeClassifier': DecisionTreeClassifier(random_state=143),\n",
    "#     'GradientBoostingClassifier': GradientBoostingClassifier(random_state=143)   \n",
    "# }"
   ]
  },
  {
   "cell_type": "code",
   "execution_count": 17,
   "metadata": {
    "scrolled": true
   },
   "outputs": [
    {
     "data": {
      "application/vnd.jupyter.widget-view+json": {
       "model_id": "1ccc47d2cec348d2bdda1ddc29361e72",
       "version_major": 2,
       "version_minor": 0
      },
      "text/plain": [
       "  0%|          | 0/1 [00:00<?, ?it/s]"
      ]
     },
     "metadata": {},
     "output_type": "display_data"
    },
    {
     "data": {
      "application/vnd.jupyter.widget-view+json": {
       "model_id": "37e989bdeb34455ab282eca28a36c390",
       "version_major": 2,
       "version_minor": 0
      },
      "text/plain": [
       "0it [00:00, ?it/s]"
      ]
     },
     "metadata": {},
     "output_type": "display_data"
    },
    {
     "data": {
      "text/html": [
       "<div>\n",
       "<style scoped>\n",
       "    .dataframe tbody tr th:only-of-type {\n",
       "        vertical-align: middle;\n",
       "    }\n",
       "\n",
       "    .dataframe tbody tr th {\n",
       "        vertical-align: top;\n",
       "    }\n",
       "\n",
       "    .dataframe thead th {\n",
       "        text-align: right;\n",
       "    }\n",
       "</style>\n",
       "<table border=\"1\" class=\"dataframe\">\n",
       "  <thead>\n",
       "    <tr style=\"text-align: right;\">\n",
       "      <th></th>\n",
       "      <th>Run Time</th>\n",
       "      <th>Train Accuracy</th>\n",
       "      <th>Train Recall</th>\n",
       "      <th>Val Accuracy</th>\n",
       "      <th>Val Recall</th>\n",
       "    </tr>\n",
       "  </thead>\n",
       "  <tbody>\n",
       "    <tr>\n",
       "      <th>RandomForestClassifier</th>\n",
       "      <td>2.389929</td>\n",
       "      <td>100.00%</td>\n",
       "      <td>100.00%</td>\n",
       "      <td>99.60%</td>\n",
       "      <td>60.89%</td>\n",
       "    </tr>\n",
       "  </tbody>\n",
       "</table>\n",
       "</div>"
      ],
      "text/plain": [
       "                        Run Time Train Accuracy Train Recall Val Accuracy  \\\n",
       "RandomForestClassifier  2.389929        100.00%      100.00%       99.60%   \n",
       "\n",
       "                       Val Recall  \n",
       "RandomForestClassifier     60.89%  "
      ]
     },
     "execution_count": 17,
     "metadata": {},
     "output_type": "execute_result"
    }
   ],
   "source": [
    "auto_run = auto_ml(X_trainval, y_trainval, models_dict, scaler=MinMaxScaler(),\n",
    "               cv=StratifiedKFold(n_splits=5))\n",
    "auto = auto_run[0]\n",
    "auto_run[1]"
   ]
  },
  {
   "cell_type": "markdown",
   "metadata": {},
   "source": [
    "### Applying resampling techniques"
   ]
  },
  {
   "cell_type": "markdown",
   "metadata": {},
   "source": [
    "#### Oversampling"
   ]
  },
  {
   "cell_type": "code",
   "execution_count": 19,
   "metadata": {
    "ExecuteTime": {
     "end_time": "2022-06-25T17:27:00.661394Z",
     "start_time": "2022-06-25T17:07:24.494356Z"
    },
    "scrolled": true
   },
   "outputs": [
    {
     "name": "stdout",
     "output_type": "stream",
     "text": [
      "---------------------------------------------------\u001b[1m\u001b[31mSMOTE\u001b[0m---------------------------------------------------\n"
     ]
    },
    {
     "data": {
      "application/vnd.jupyter.widget-view+json": {
       "model_id": "da62b86d941746ab87f0675694ef61d4",
       "version_major": 2,
       "version_minor": 0
      },
      "text/plain": [
       "  0%|          | 0/1 [00:00<?, ?it/s]"
      ]
     },
     "metadata": {},
     "output_type": "display_data"
    },
    {
     "data": {
      "application/vnd.jupyter.widget-view+json": {
       "model_id": "7eaf2f61799b4814b274878b3dc7adb3",
       "version_major": 2,
       "version_minor": 0
      },
      "text/plain": [
       "0it [00:00, ?it/s]"
      ]
     },
     "metadata": {},
     "output_type": "display_data"
    },
    {
     "name": "stdout",
     "output_type": "stream",
     "text": [
      "Resampling done in 0.15737247467041016\n",
      "Resampling done in 0.14631223678588867\n",
      "Resampling done in 0.14251708984375\n",
      "Resampling done in 0.1597888469696045\n",
      "Resampling done in 0.15678048133850098\n"
     ]
    },
    {
     "data": {
      "text/html": [
       "<div>\n",
       "<style scoped>\n",
       "    .dataframe tbody tr th:only-of-type {\n",
       "        vertical-align: middle;\n",
       "    }\n",
       "\n",
       "    .dataframe tbody tr th {\n",
       "        vertical-align: top;\n",
       "    }\n",
       "\n",
       "    .dataframe thead th {\n",
       "        text-align: right;\n",
       "    }\n",
       "</style>\n",
       "<table border=\"1\" class=\"dataframe\">\n",
       "  <thead>\n",
       "    <tr style=\"text-align: right;\">\n",
       "      <th></th>\n",
       "      <th>Run Time</th>\n",
       "      <th>Train Accuracy</th>\n",
       "      <th>Train Recall</th>\n",
       "      <th>Val Accuracy</th>\n",
       "      <th>Val Recall</th>\n",
       "    </tr>\n",
       "  </thead>\n",
       "  <tbody>\n",
       "    <tr>\n",
       "      <th>RandomForestClassifier</th>\n",
       "      <td>7.253619</td>\n",
       "      <td>100.00%</td>\n",
       "      <td>100.00%</td>\n",
       "      <td>99.58%</td>\n",
       "      <td>59.11%</td>\n",
       "    </tr>\n",
       "  </tbody>\n",
       "</table>\n",
       "</div>"
      ],
      "text/plain": [
       "                        Run Time Train Accuracy Train Recall Val Accuracy  \\\n",
       "RandomForestClassifier  7.253619        100.00%      100.00%       99.58%   \n",
       "\n",
       "                       Val Recall  \n",
       "RandomForestClassifier     59.11%  "
      ]
     },
     "metadata": {},
     "output_type": "display_data"
    },
    {
     "name": "stdout",
     "output_type": "stream",
     "text": [
      "--------------------------------------------------\u001b[1m\u001b[31mADASYN\u001b[0m---------------------------------------------------\n"
     ]
    },
    {
     "data": {
      "application/vnd.jupyter.widget-view+json": {
       "model_id": "46768962a4ff4d6c9890f5d307021877",
       "version_major": 2,
       "version_minor": 0
      },
      "text/plain": [
       "  0%|          | 0/1 [00:00<?, ?it/s]"
      ]
     },
     "metadata": {},
     "output_type": "display_data"
    },
    {
     "data": {
      "application/vnd.jupyter.widget-view+json": {
       "model_id": "7f1dff68a55c442eb016410709bc80bb",
       "version_major": 2,
       "version_minor": 0
      },
      "text/plain": [
       "0it [00:00, ?it/s]"
      ]
     },
     "metadata": {},
     "output_type": "display_data"
    },
    {
     "name": "stdout",
     "output_type": "stream",
     "text": [
      "Resampling done in 0.2029719352722168\n",
      "Resampling done in 0.20195794105529785\n",
      "Resampling done in 0.20296716690063477\n",
      "Resampling done in 0.22234392166137695\n",
      "Resampling done in 0.19800496101379395\n"
     ]
    },
    {
     "data": {
      "text/html": [
       "<div>\n",
       "<style scoped>\n",
       "    .dataframe tbody tr th:only-of-type {\n",
       "        vertical-align: middle;\n",
       "    }\n",
       "\n",
       "    .dataframe tbody tr th {\n",
       "        vertical-align: top;\n",
       "    }\n",
       "\n",
       "    .dataframe thead th {\n",
       "        text-align: right;\n",
       "    }\n",
       "</style>\n",
       "<table border=\"1\" class=\"dataframe\">\n",
       "  <thead>\n",
       "    <tr style=\"text-align: right;\">\n",
       "      <th></th>\n",
       "      <th>Run Time</th>\n",
       "      <th>Train Accuracy</th>\n",
       "      <th>Train Recall</th>\n",
       "      <th>Val Accuracy</th>\n",
       "      <th>Val Recall</th>\n",
       "    </tr>\n",
       "  </thead>\n",
       "  <tbody>\n",
       "    <tr>\n",
       "      <th>RandomForestClassifier</th>\n",
       "      <td>6.917126</td>\n",
       "      <td>100.00%</td>\n",
       "      <td>100.00%</td>\n",
       "      <td>99.60%</td>\n",
       "      <td>61.78%</td>\n",
       "    </tr>\n",
       "  </tbody>\n",
       "</table>\n",
       "</div>"
      ],
      "text/plain": [
       "                        Run Time Train Accuracy Train Recall Val Accuracy  \\\n",
       "RandomForestClassifier  6.917126        100.00%      100.00%       99.60%   \n",
       "\n",
       "                       Val Recall  \n",
       "RandomForestClassifier     61.78%  "
      ]
     },
     "metadata": {},
     "output_type": "display_data"
    },
    {
     "name": "stdout",
     "output_type": "stream",
     "text": [
      "----------------------------------------------\u001b[1m\u001b[31mBorderlineSMOTE\u001b[0m----------------------------------------------\n"
     ]
    },
    {
     "data": {
      "application/vnd.jupyter.widget-view+json": {
       "model_id": "85b409108b2b4728b55cc09c69fe041f",
       "version_major": 2,
       "version_minor": 0
      },
      "text/plain": [
       "  0%|          | 0/1 [00:00<?, ?it/s]"
      ]
     },
     "metadata": {},
     "output_type": "display_data"
    },
    {
     "data": {
      "application/vnd.jupyter.widget-view+json": {
       "model_id": "6f3ae71d675240318e9f4e6c7c516472",
       "version_major": 2,
       "version_minor": 0
      },
      "text/plain": [
       "0it [00:00, ?it/s]"
      ]
     },
     "metadata": {},
     "output_type": "display_data"
    },
    {
     "name": "stdout",
     "output_type": "stream",
     "text": [
      "Resampling done in 0.21108078956604004\n",
      "Resampling done in 0.19727277755737305\n",
      "Resampling done in 0.20151734352111816\n",
      "Resampling done in 0.21440339088439941\n",
      "Resampling done in 0.20045733451843262\n"
     ]
    },
    {
     "data": {
      "text/html": [
       "<div>\n",
       "<style scoped>\n",
       "    .dataframe tbody tr th:only-of-type {\n",
       "        vertical-align: middle;\n",
       "    }\n",
       "\n",
       "    .dataframe tbody tr th {\n",
       "        vertical-align: top;\n",
       "    }\n",
       "\n",
       "    .dataframe thead th {\n",
       "        text-align: right;\n",
       "    }\n",
       "</style>\n",
       "<table border=\"1\" class=\"dataframe\">\n",
       "  <thead>\n",
       "    <tr style=\"text-align: right;\">\n",
       "      <th></th>\n",
       "      <th>Run Time</th>\n",
       "      <th>Train Accuracy</th>\n",
       "      <th>Train Recall</th>\n",
       "      <th>Val Accuracy</th>\n",
       "      <th>Val Recall</th>\n",
       "    </tr>\n",
       "  </thead>\n",
       "  <tbody>\n",
       "    <tr>\n",
       "      <th>RandomForestClassifier</th>\n",
       "      <td>7.062443</td>\n",
       "      <td>100.00%</td>\n",
       "      <td>100.00%</td>\n",
       "      <td>99.60%</td>\n",
       "      <td>60.44%</td>\n",
       "    </tr>\n",
       "  </tbody>\n",
       "</table>\n",
       "</div>"
      ],
      "text/plain": [
       "                        Run Time Train Accuracy Train Recall Val Accuracy  \\\n",
       "RandomForestClassifier  7.062443        100.00%      100.00%       99.60%   \n",
       "\n",
       "                       Val Recall  \n",
       "RandomForestClassifier     60.44%  "
      ]
     },
     "metadata": {},
     "output_type": "display_data"
    },
    {
     "name": "stdout",
     "output_type": "stream",
     "text": [
      "-------------------------------------------------\u001b[1m\u001b[31mSVMSMOTE\u001b[0m--------------------------------------------------\n"
     ]
    },
    {
     "data": {
      "application/vnd.jupyter.widget-view+json": {
       "model_id": "1598599ca23a46c9afed97ac34ddc930",
       "version_major": 2,
       "version_minor": 0
      },
      "text/plain": [
       "  0%|          | 0/1 [00:00<?, ?it/s]"
      ]
     },
     "metadata": {},
     "output_type": "display_data"
    },
    {
     "data": {
      "application/vnd.jupyter.widget-view+json": {
       "model_id": "66ac4fbaf72249c1a646feacebc9d9ee",
       "version_major": 2,
       "version_minor": 0
      },
      "text/plain": [
       "0it [00:00, ?it/s]"
      ]
     },
     "metadata": {},
     "output_type": "display_data"
    },
    {
     "name": "stdout",
     "output_type": "stream",
     "text": [
      "Resampling done in 2.707989454269409\n",
      "Resampling done in 2.698535203933716\n",
      "Resampling done in 2.6147425174713135\n",
      "Resampling done in 2.7198069095611572\n",
      "Resampling done in 2.771730899810791\n"
     ]
    },
    {
     "data": {
      "text/html": [
       "<div>\n",
       "<style scoped>\n",
       "    .dataframe tbody tr th:only-of-type {\n",
       "        vertical-align: middle;\n",
       "    }\n",
       "\n",
       "    .dataframe tbody tr th {\n",
       "        vertical-align: top;\n",
       "    }\n",
       "\n",
       "    .dataframe thead th {\n",
       "        text-align: right;\n",
       "    }\n",
       "</style>\n",
       "<table border=\"1\" class=\"dataframe\">\n",
       "  <thead>\n",
       "    <tr style=\"text-align: right;\">\n",
       "      <th></th>\n",
       "      <th>Run Time</th>\n",
       "      <th>Train Accuracy</th>\n",
       "      <th>Train Recall</th>\n",
       "      <th>Val Accuracy</th>\n",
       "      <th>Val Recall</th>\n",
       "    </tr>\n",
       "  </thead>\n",
       "  <tbody>\n",
       "    <tr>\n",
       "      <th>RandomForestClassifier</th>\n",
       "      <td>6.550133</td>\n",
       "      <td>100.00%</td>\n",
       "      <td>100.00%</td>\n",
       "      <td>99.60%</td>\n",
       "      <td>60.44%</td>\n",
       "    </tr>\n",
       "  </tbody>\n",
       "</table>\n",
       "</div>"
      ],
      "text/plain": [
       "                        Run Time Train Accuracy Train Recall Val Accuracy  \\\n",
       "RandomForestClassifier  6.550133        100.00%      100.00%       99.60%   \n",
       "\n",
       "                       Val Recall  \n",
       "RandomForestClassifier     60.44%  "
      ]
     },
     "metadata": {},
     "output_type": "display_data"
    }
   ],
   "source": [
    "res_list = [('SMOTE', SMOTE()),\n",
    "            ('ADASYN', ADASYN()),\n",
    "           ('BorderlineSMOTE', BorderlineSMOTE()),\n",
    "           ('SVMSMOTE', SVMSMOTE())]\n",
    "\n",
    "outputs = []\n",
    "for title, res in res_list:\n",
    "    print(colored(title, 'red', attrs=['bold']).center(120, \"-\"))\n",
    "    var = auto_ml(X_trainval, y_trainval, models_dict, scaler=MinMaxScaler(),\n",
    "                    cv=StratifiedKFold(n_splits=5), res_t=res)\n",
    "    outputs.append(var[0])\n",
    "    display(var[1])"
   ]
  },
  {
   "cell_type": "markdown",
   "metadata": {},
   "source": [
    "#### Undersampling"
   ]
  },
  {
   "cell_type": "code",
   "execution_count": 26,
   "metadata": {
    "ExecuteTime": {
     "end_time": "2022-06-25T18:40:04.141335Z",
     "start_time": "2022-06-25T18:09:12.815457Z"
    },
    "scrolled": true
   },
   "outputs": [
    {
     "name": "stdout",
     "output_type": "stream",
     "text": [
      "------------------------------------------------\u001b[1m\u001b[31mTomekLinks\u001b[0m-------------------------------------------------\n"
     ]
    },
    {
     "data": {
      "application/vnd.jupyter.widget-view+json": {
       "model_id": "74246fafe60f4b888f5d33f4a0f4edb0",
       "version_major": 2,
       "version_minor": 0
      },
      "text/plain": [
       "  0%|          | 0/1 [00:00<?, ?it/s]"
      ]
     },
     "metadata": {},
     "output_type": "display_data"
    },
    {
     "data": {
      "application/vnd.jupyter.widget-view+json": {
       "model_id": "9c85470e7f834b59a232b076ed4c8dc3",
       "version_major": 2,
       "version_minor": 0
      },
      "text/plain": [
       "0it [00:00, ?it/s]"
      ]
     },
     "metadata": {},
     "output_type": "display_data"
    },
    {
     "name": "stdout",
     "output_type": "stream",
     "text": [
      "Resampling done in 2.046755075454712\n",
      "Resampling done in 1.9890012741088867\n",
      "Resampling done in 2.002711534500122\n",
      "Resampling done in 1.968385934829712\n",
      "Resampling done in 1.9833362102508545\n"
     ]
    },
    {
     "data": {
      "text/html": [
       "<div>\n",
       "<style scoped>\n",
       "    .dataframe tbody tr th:only-of-type {\n",
       "        vertical-align: middle;\n",
       "    }\n",
       "\n",
       "    .dataframe tbody tr th {\n",
       "        vertical-align: top;\n",
       "    }\n",
       "\n",
       "    .dataframe thead th {\n",
       "        text-align: right;\n",
       "    }\n",
       "</style>\n",
       "<table border=\"1\" class=\"dataframe\">\n",
       "  <thead>\n",
       "    <tr style=\"text-align: right;\">\n",
       "      <th></th>\n",
       "      <th>Run Time</th>\n",
       "      <th>Train Accuracy</th>\n",
       "      <th>Train Recall</th>\n",
       "      <th>Val Accuracy</th>\n",
       "      <th>Val Recall</th>\n",
       "    </tr>\n",
       "  </thead>\n",
       "  <tbody>\n",
       "    <tr>\n",
       "      <th>RandomForestClassifier</th>\n",
       "      <td>3.347823</td>\n",
       "      <td>100.00%</td>\n",
       "      <td>100.00%</td>\n",
       "      <td>99.59%</td>\n",
       "      <td>60.00%</td>\n",
       "    </tr>\n",
       "  </tbody>\n",
       "</table>\n",
       "</div>"
      ],
      "text/plain": [
       "                        Run Time Train Accuracy Train Recall Val Accuracy  \\\n",
       "RandomForestClassifier  3.347823        100.00%      100.00%       99.59%   \n",
       "\n",
       "                       Val Recall  \n",
       "RandomForestClassifier     60.00%  "
      ]
     },
     "metadata": {},
     "output_type": "display_data"
    },
    {
     "name": "stdout",
     "output_type": "stream",
     "text": [
      "-------------------------------------------------\u001b[1m\u001b[31mNearMiss\u001b[0m--------------------------------------------------\n"
     ]
    },
    {
     "data": {
      "application/vnd.jupyter.widget-view+json": {
       "model_id": "ff932336ece443478a2ac25517219dab",
       "version_major": 2,
       "version_minor": 0
      },
      "text/plain": [
       "  0%|          | 0/1 [00:00<?, ?it/s]"
      ]
     },
     "metadata": {},
     "output_type": "display_data"
    },
    {
     "data": {
      "application/vnd.jupyter.widget-view+json": {
       "model_id": "89268cbfcedd4489b49f022210284c34",
       "version_major": 2,
       "version_minor": 0
      },
      "text/plain": [
       "0it [00:00, ?it/s]"
      ]
     },
     "metadata": {},
     "output_type": "display_data"
    },
    {
     "name": "stdout",
     "output_type": "stream",
     "text": [
      "Resampling done in 0.10396862030029297\n",
      "Resampling done in 0.10485577583312988\n",
      "Resampling done in 0.09148192405700684\n",
      "Resampling done in 0.09246301651000977\n",
      "Resampling done in 0.09287238121032715\n"
     ]
    },
    {
     "data": {
      "text/html": [
       "<div>\n",
       "<style scoped>\n",
       "    .dataframe tbody tr th:only-of-type {\n",
       "        vertical-align: middle;\n",
       "    }\n",
       "\n",
       "    .dataframe tbody tr th {\n",
       "        vertical-align: top;\n",
       "    }\n",
       "\n",
       "    .dataframe thead th {\n",
       "        text-align: right;\n",
       "    }\n",
       "</style>\n",
       "<table border=\"1\" class=\"dataframe\">\n",
       "  <thead>\n",
       "    <tr style=\"text-align: right;\">\n",
       "      <th></th>\n",
       "      <th>Run Time</th>\n",
       "      <th>Train Accuracy</th>\n",
       "      <th>Train Recall</th>\n",
       "      <th>Val Accuracy</th>\n",
       "      <th>Val Recall</th>\n",
       "    </tr>\n",
       "  </thead>\n",
       "  <tbody>\n",
       "    <tr>\n",
       "      <th>RandomForestClassifier</th>\n",
       "      <td>0.22748</td>\n",
       "      <td>100.00%</td>\n",
       "      <td>100.00%</td>\n",
       "      <td>71.12%</td>\n",
       "      <td>92.44%</td>\n",
       "    </tr>\n",
       "  </tbody>\n",
       "</table>\n",
       "</div>"
      ],
      "text/plain": [
       "                       Run Time Train Accuracy Train Recall Val Accuracy  \\\n",
       "RandomForestClassifier  0.22748        100.00%      100.00%       71.12%   \n",
       "\n",
       "                       Val Recall  \n",
       "RandomForestClassifier     92.44%  "
      ]
     },
     "metadata": {},
     "output_type": "display_data"
    },
    {
     "name": "stdout",
     "output_type": "stream",
     "text": [
      "--------------------------------------------------\u001b[1m\u001b[31mAllKNN\u001b[0m---------------------------------------------------\n"
     ]
    },
    {
     "data": {
      "application/vnd.jupyter.widget-view+json": {
       "model_id": "2bb0b8ccbd80424d90ea619597d61c25",
       "version_major": 2,
       "version_minor": 0
      },
      "text/plain": [
       "  0%|          | 0/1 [00:00<?, ?it/s]"
      ]
     },
     "metadata": {},
     "output_type": "display_data"
    },
    {
     "data": {
      "application/vnd.jupyter.widget-view+json": {
       "model_id": "2849d5c0da4a458f8fef4f12e0012900",
       "version_major": 2,
       "version_minor": 0
      },
      "text/plain": [
       "0it [00:00, ?it/s]"
      ]
     },
     "metadata": {},
     "output_type": "display_data"
    },
    {
     "name": "stdout",
     "output_type": "stream",
     "text": [
      "Resampling done in 5.996028423309326\n",
      "Resampling done in 7.07584023475647\n",
      "Resampling done in 6.564208507537842\n",
      "Resampling done in 6.225716590881348\n",
      "Resampling done in 6.0755016803741455\n"
     ]
    },
    {
     "data": {
      "text/html": [
       "<div>\n",
       "<style scoped>\n",
       "    .dataframe tbody tr th:only-of-type {\n",
       "        vertical-align: middle;\n",
       "    }\n",
       "\n",
       "    .dataframe tbody tr th {\n",
       "        vertical-align: top;\n",
       "    }\n",
       "\n",
       "    .dataframe thead th {\n",
       "        text-align: right;\n",
       "    }\n",
       "</style>\n",
       "<table border=\"1\" class=\"dataframe\">\n",
       "  <thead>\n",
       "    <tr style=\"text-align: right;\">\n",
       "      <th></th>\n",
       "      <th>Run Time</th>\n",
       "      <th>Train Accuracy</th>\n",
       "      <th>Train Recall</th>\n",
       "      <th>Val Accuracy</th>\n",
       "      <th>Val Recall</th>\n",
       "    </tr>\n",
       "  </thead>\n",
       "  <tbody>\n",
       "    <tr>\n",
       "      <th>RandomForestClassifier</th>\n",
       "      <td>3.892331</td>\n",
       "      <td>100.00%</td>\n",
       "      <td>100.00%</td>\n",
       "      <td>99.60%</td>\n",
       "      <td>60.44%</td>\n",
       "    </tr>\n",
       "  </tbody>\n",
       "</table>\n",
       "</div>"
      ],
      "text/plain": [
       "                        Run Time Train Accuracy Train Recall Val Accuracy  \\\n",
       "RandomForestClassifier  3.892331        100.00%      100.00%       99.60%   \n",
       "\n",
       "                       Val Recall  \n",
       "RandomForestClassifier     60.44%  "
      ]
     },
     "metadata": {},
     "output_type": "display_data"
    },
    {
     "name": "stdout",
     "output_type": "stream",
     "text": [
      "----------------------------------------------------\u001b[1m\u001b[31mENN\u001b[0m----------------------------------------------------\n"
     ]
    },
    {
     "data": {
      "application/vnd.jupyter.widget-view+json": {
       "model_id": "9e82054d5ff8499b962361bac50e5fa6",
       "version_major": 2,
       "version_minor": 0
      },
      "text/plain": [
       "  0%|          | 0/1 [00:00<?, ?it/s]"
      ]
     },
     "metadata": {},
     "output_type": "display_data"
    },
    {
     "data": {
      "application/vnd.jupyter.widget-view+json": {
       "model_id": "0bf1aca2b6924f7cb69bb56367bb7fc6",
       "version_major": 2,
       "version_minor": 0
      },
      "text/plain": [
       "0it [00:00, ?it/s]"
      ]
     },
     "metadata": {},
     "output_type": "display_data"
    },
    {
     "name": "stdout",
     "output_type": "stream",
     "text": [
      "Resampling done in 2.1554272174835205\n",
      "Resampling done in 2.081875801086426\n",
      "Resampling done in 2.1999411582946777\n",
      "Resampling done in 2.1456964015960693\n",
      "Resampling done in 2.0781161785125732\n"
     ]
    },
    {
     "data": {
      "text/html": [
       "<div>\n",
       "<style scoped>\n",
       "    .dataframe tbody tr th:only-of-type {\n",
       "        vertical-align: middle;\n",
       "    }\n",
       "\n",
       "    .dataframe tbody tr th {\n",
       "        vertical-align: top;\n",
       "    }\n",
       "\n",
       "    .dataframe thead th {\n",
       "        text-align: right;\n",
       "    }\n",
       "</style>\n",
       "<table border=\"1\" class=\"dataframe\">\n",
       "  <thead>\n",
       "    <tr style=\"text-align: right;\">\n",
       "      <th></th>\n",
       "      <th>Run Time</th>\n",
       "      <th>Train Accuracy</th>\n",
       "      <th>Train Recall</th>\n",
       "      <th>Val Accuracy</th>\n",
       "      <th>Val Recall</th>\n",
       "    </tr>\n",
       "  </thead>\n",
       "  <tbody>\n",
       "    <tr>\n",
       "      <th>RandomForestClassifier</th>\n",
       "      <td>3.322835</td>\n",
       "      <td>100.00%</td>\n",
       "      <td>100.00%</td>\n",
       "      <td>99.56%</td>\n",
       "      <td>56.89%</td>\n",
       "    </tr>\n",
       "  </tbody>\n",
       "</table>\n",
       "</div>"
      ],
      "text/plain": [
       "                        Run Time Train Accuracy Train Recall Val Accuracy  \\\n",
       "RandomForestClassifier  3.322835        100.00%      100.00%       99.56%   \n",
       "\n",
       "                       Val Recall  \n",
       "RandomForestClassifier     56.89%  "
      ]
     },
     "metadata": {},
     "output_type": "display_data"
    },
    {
     "name": "stdout",
     "output_type": "stream",
     "text": [
      "---------------------------------------------------\u001b[1m\u001b[31mRENN\u001b[0m----------------------------------------------------\n"
     ]
    },
    {
     "data": {
      "application/vnd.jupyter.widget-view+json": {
       "model_id": "2ad04694ba4c4614a78659aac7bc8b9c",
       "version_major": 2,
       "version_minor": 0
      },
      "text/plain": [
       "  0%|          | 0/1 [00:00<?, ?it/s]"
      ]
     },
     "metadata": {},
     "output_type": "display_data"
    },
    {
     "data": {
      "application/vnd.jupyter.widget-view+json": {
       "model_id": "f8d2f54ba87541a7819b23272c4caecf",
       "version_major": 2,
       "version_minor": 0
      },
      "text/plain": [
       "0it [00:00, ?it/s]"
      ]
     },
     "metadata": {},
     "output_type": "display_data"
    },
    {
     "name": "stdout",
     "output_type": "stream",
     "text": [
      "Resampling done in 7.891374826431274\n",
      "Resampling done in 10.034526586532593\n",
      "Resampling done in 11.11079216003418\n",
      "Resampling done in 8.801775217056274\n",
      "Resampling done in 10.253798723220825\n"
     ]
    },
    {
     "data": {
      "text/html": [
       "<div>\n",
       "<style scoped>\n",
       "    .dataframe tbody tr th:only-of-type {\n",
       "        vertical-align: middle;\n",
       "    }\n",
       "\n",
       "    .dataframe tbody tr th {\n",
       "        vertical-align: top;\n",
       "    }\n",
       "\n",
       "    .dataframe thead th {\n",
       "        text-align: right;\n",
       "    }\n",
       "</style>\n",
       "<table border=\"1\" class=\"dataframe\">\n",
       "  <thead>\n",
       "    <tr style=\"text-align: right;\">\n",
       "      <th></th>\n",
       "      <th>Run Time</th>\n",
       "      <th>Train Accuracy</th>\n",
       "      <th>Train Recall</th>\n",
       "      <th>Val Accuracy</th>\n",
       "      <th>Val Recall</th>\n",
       "    </tr>\n",
       "  </thead>\n",
       "  <tbody>\n",
       "    <tr>\n",
       "      <th>RandomForestClassifier</th>\n",
       "      <td>3.19654</td>\n",
       "      <td>100.00%</td>\n",
       "      <td>100.00%</td>\n",
       "      <td>99.63%</td>\n",
       "      <td>62.67%</td>\n",
       "    </tr>\n",
       "  </tbody>\n",
       "</table>\n",
       "</div>"
      ],
      "text/plain": [
       "                       Run Time Train Accuracy Train Recall Val Accuracy  \\\n",
       "RandomForestClassifier  3.19654        100.00%      100.00%       99.63%   \n",
       "\n",
       "                       Val Recall  \n",
       "RandomForestClassifier     62.67%  "
      ]
     },
     "metadata": {},
     "output_type": "display_data"
    }
   ],
   "source": [
    "res_list = [('TomekLinks', TomekLinks()),\n",
    "            ('NearMiss', NearMiss()),\n",
    "            ('AllKNN', AllKNN()),\n",
    "            ('ENN', EditedNearestNeighbours()),\n",
    "            ('RENN', RepeatedEditedNearestNeighbours())\n",
    "           ]\n",
    "\n",
    "outputs_u = []\n",
    "for title, res in res_list:\n",
    "    print(colored(title, 'red', attrs=['bold']).center(120, \"-\"))\n",
    "    var = auto_ml(X_trainval, y_trainval, models_dict, scaler=MinMaxScaler(),\n",
    "                  cv=StratifiedKFold(n_splits=5), res_t=res)\n",
    "    outputs_u.append(var[0])\n",
    "    display(var[1])"
   ]
  },
  {
   "cell_type": "markdown",
   "metadata": {},
   "source": [
    "#### Combined Resampling"
   ]
  },
  {
   "cell_type": "code",
   "execution_count": 25,
   "metadata": {
    "scrolled": true
   },
   "outputs": [
    {
     "name": "stdout",
     "output_type": "stream",
     "text": [
      "------------------------------------------------\u001b[1m\u001b[31mSMOTETomek\u001b[0m-------------------------------------------------\n"
     ]
    },
    {
     "data": {
      "application/vnd.jupyter.widget-view+json": {
       "model_id": "967c7ad20ea54158bacc57140473f4e4",
       "version_major": 2,
       "version_minor": 0
      },
      "text/plain": [
       "  0%|          | 0/1 [00:00<?, ?it/s]"
      ]
     },
     "metadata": {},
     "output_type": "display_data"
    },
    {
     "data": {
      "application/vnd.jupyter.widget-view+json": {
       "model_id": "cd60f93c9a6747e3b9efc9c340f2ac0d",
       "version_major": 2,
       "version_minor": 0
      },
      "text/plain": [
       "0it [00:00, ?it/s]"
      ]
     },
     "metadata": {},
     "output_type": "display_data"
    },
    {
     "name": "stdout",
     "output_type": "stream",
     "text": [
      "Resampling done in 7.394899845123291\n",
      "Resampling done in 7.917503118515015\n",
      "Resampling done in 8.177938222885132\n",
      "Resampling done in 9.087428092956543\n",
      "Resampling done in 10.686429500579834\n"
     ]
    },
    {
     "data": {
      "text/html": [
       "<div>\n",
       "<style scoped>\n",
       "    .dataframe tbody tr th:only-of-type {\n",
       "        vertical-align: middle;\n",
       "    }\n",
       "\n",
       "    .dataframe tbody tr th {\n",
       "        vertical-align: top;\n",
       "    }\n",
       "\n",
       "    .dataframe thead th {\n",
       "        text-align: right;\n",
       "    }\n",
       "</style>\n",
       "<table border=\"1\" class=\"dataframe\">\n",
       "  <thead>\n",
       "    <tr style=\"text-align: right;\">\n",
       "      <th></th>\n",
       "      <th>Run Time</th>\n",
       "      <th>Train Accuracy</th>\n",
       "      <th>Train Recall</th>\n",
       "      <th>Val Accuracy</th>\n",
       "      <th>Val Recall</th>\n",
       "    </tr>\n",
       "  </thead>\n",
       "  <tbody>\n",
       "    <tr>\n",
       "      <th>RandomForestClassifier</th>\n",
       "      <td>7.832121</td>\n",
       "      <td>100.00%</td>\n",
       "      <td>100.00%</td>\n",
       "      <td>99.57%</td>\n",
       "      <td>58.22%</td>\n",
       "    </tr>\n",
       "  </tbody>\n",
       "</table>\n",
       "</div>"
      ],
      "text/plain": [
       "                        Run Time Train Accuracy Train Recall Val Accuracy  \\\n",
       "RandomForestClassifier  7.832121        100.00%      100.00%       99.57%   \n",
       "\n",
       "                       Val Recall  \n",
       "RandomForestClassifier     58.22%  "
      ]
     },
     "metadata": {},
     "output_type": "display_data"
    },
    {
     "name": "stdout",
     "output_type": "stream",
     "text": [
      "-------------------------------------------------\u001b[1m\u001b[31mSMOTEENN\u001b[0m--------------------------------------------------\n"
     ]
    },
    {
     "data": {
      "application/vnd.jupyter.widget-view+json": {
       "model_id": "04d7a1619a4a449297e41dc6ecf76e7a",
       "version_major": 2,
       "version_minor": 0
      },
      "text/plain": [
       "  0%|          | 0/1 [00:00<?, ?it/s]"
      ]
     },
     "metadata": {},
     "output_type": "display_data"
    },
    {
     "data": {
      "application/vnd.jupyter.widget-view+json": {
       "model_id": "e19241e8b72e43cdba3b6e07e5780460",
       "version_major": 2,
       "version_minor": 0
      },
      "text/plain": [
       "0it [00:00, ?it/s]"
      ]
     },
     "metadata": {},
     "output_type": "display_data"
    },
    {
     "name": "stdout",
     "output_type": "stream",
     "text": [
      "Resampling done in 8.066046237945557\n",
      "Resampling done in 8.847952604293823\n",
      "Resampling done in 8.599715948104858\n",
      "Resampling done in 8.61014699935913\n",
      "Resampling done in 8.006133317947388\n"
     ]
    },
    {
     "data": {
      "text/html": [
       "<div>\n",
       "<style scoped>\n",
       "    .dataframe tbody tr th:only-of-type {\n",
       "        vertical-align: middle;\n",
       "    }\n",
       "\n",
       "    .dataframe tbody tr th {\n",
       "        vertical-align: top;\n",
       "    }\n",
       "\n",
       "    .dataframe thead th {\n",
       "        text-align: right;\n",
       "    }\n",
       "</style>\n",
       "<table border=\"1\" class=\"dataframe\">\n",
       "  <thead>\n",
       "    <tr style=\"text-align: right;\">\n",
       "      <th></th>\n",
       "      <th>Run Time</th>\n",
       "      <th>Train Accuracy</th>\n",
       "      <th>Train Recall</th>\n",
       "      <th>Val Accuracy</th>\n",
       "      <th>Val Recall</th>\n",
       "    </tr>\n",
       "  </thead>\n",
       "  <tbody>\n",
       "    <tr>\n",
       "      <th>RandomForestClassifier</th>\n",
       "      <td>7.227464</td>\n",
       "      <td>100.00%</td>\n",
       "      <td>100.00%</td>\n",
       "      <td>99.62%</td>\n",
       "      <td>64.00%</td>\n",
       "    </tr>\n",
       "  </tbody>\n",
       "</table>\n",
       "</div>"
      ],
      "text/plain": [
       "                        Run Time Train Accuracy Train Recall Val Accuracy  \\\n",
       "RandomForestClassifier  7.227464        100.00%      100.00%       99.62%   \n",
       "\n",
       "                       Val Recall  \n",
       "RandomForestClassifier     64.00%  "
      ]
     },
     "metadata": {},
     "output_type": "display_data"
    }
   ],
   "source": [
    "res_list = [('SMOTETomek', SMOTETomek()),\n",
    "            ('SMOTEENN', SMOTEENN())]\n",
    "\n",
    "outputs_u = []\n",
    "for title, res in res_list:\n",
    "    print(colored(title, 'red', attrs=['bold']).center(120, \"-\"))\n",
    "    var = auto_ml(X_trainval, y_trainval, models_dict, scaler=MinMaxScaler(),\n",
    "                  cv=StratifiedKFold(n_splits=5), res_t=res)\n",
    "    outputs_u.append(var[0])\n",
    "    display(var[1])"
   ]
  },
  {
   "cell_type": "markdown",
   "metadata": {},
   "source": [
    "<div><span style=\"background-color: #ff0257; padding-top: 100px; padding-right: 20px; padding-bottom: 50px; padding-left: 20px; color: #FFFAF0; font-size: 18px; font-weight: bold\">Grid-Search and Randomized Search Cross Validation </span></div>"
   ]
  },
  {
   "cell_type": "markdown",
   "metadata": {},
   "source": [
    "[Grid Search](https://scikit-learn.org/stable/modules/generated/sklearn.model_selection.GridSearchCV.html) and [Randomized Search Cross Validation](https://scikit-learn.org/stable/modules/generated/sklearn.model_selection.RandomizedSearchCV.html) are commonly used to hypertune models across multiple parameters"
   ]
  },
  {
   "cell_type": "code",
   "execution_count": null,
   "metadata": {
    "ExecuteTime": {
     "end_time": "2022-06-25T18:44:46.659479Z",
     "start_time": "2022-06-25T18:44:46.643942Z"
    }
   },
   "outputs": [],
   "source": []
  },
  {
   "cell_type": "markdown",
   "metadata": {},
   "source": [
    "#### Base-case"
   ]
  },
  {
   "cell_type": "code",
   "execution_count": null,
   "metadata": {
    "ExecuteTime": {
     "end_time": "2022-06-25T18:48:02.907470Z",
     "start_time": "2022-06-25T18:44:52.169864Z"
    }
   },
   "outputs": [],
   "source": []
  }
 ],
 "metadata": {
  "kernelspec": {
   "display_name": "Python 3 (ipykernel)",
   "language": "python",
   "name": "python3"
  },
  "language_info": {
   "codemirror_mode": {
    "name": "ipython",
    "version": 3
   },
   "file_extension": ".py",
   "mimetype": "text/x-python",
   "name": "python",
   "nbconvert_exporter": "python",
   "pygments_lexer": "ipython3",
   "version": "3.9.0"
  },
  "toc": {
   "base_numbering": 1,
   "nav_menu": {},
   "number_sections": true,
   "sideBar": true,
   "skip_h1_title": false,
   "title_cell": "Table of Contents",
   "title_sidebar": "Contents",
   "toc_cell": false,
   "toc_position": {},
   "toc_section_display": true,
   "toc_window_display": false
  }
 },
 "nbformat": 4,
 "nbformat_minor": 4
}

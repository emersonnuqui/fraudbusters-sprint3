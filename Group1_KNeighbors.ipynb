{
 "cells": [
  {
   "cell_type": "markdown",
   "metadata": {},
   "source": [
    "<div><span style=\"background-color: #9e4244; padding-top: 80px; padding-right: 20px; padding-bottom: 50px; padding-left: 20px; color: white; font-size: 22px; font-weight: bold\">Session 8: Machine Learning Pipelines</span></div>"
   ]
  },
  {
   "cell_type": "markdown",
   "metadata": {},
   "source": [
    "by BYJ Cirio"
   ]
  },
  {
   "cell_type": "markdown",
   "metadata": {},
   "source": [
    "<div class=\"alert alert-danger alert-info\">\n",
    "     In this notebook you will learn how to automate your machine learning model pipelines. Specifically, the topics covered are as follows:<br>\n",
    "    <ol>\n",
    "        <li>Auto-ML</li>\n",
    "        <li>Grid-search CV/Randomized Search CV</li>\n",
    "        <li>Example project</li>\n",
    "    </ol>\n",
    "</div>"
   ]
  },
  {
   "cell_type": "code",
   "execution_count": 6,
   "metadata": {
    "ExecuteTime": {
     "end_time": "2022-06-25T17:06:40.840624Z",
     "start_time": "2022-06-25T17:06:26.941745Z"
    }
   },
   "outputs": [],
   "source": [
    "# General Libraries\n",
    "import re\n",
    "import time\n",
    "import warnings\n",
    "import numpy as np\n",
    "import pandas as pd\n",
    "from tqdm.notebook import tqdm\n",
    "from collections import Counter\n",
    "warnings.filterwarnings(\"ignore\")\n",
    "\n",
    "# Visualizations\n",
    "import seaborn as sns\n",
    "from termcolor import colored\n",
    "import matplotlib.pyplot as plt\n",
    "import plotly.graph_objects as go\n",
    "\n",
    "# Sklearn\n",
    "from sklearn.preprocessing import MinMaxScaler\n",
    "from sklearn.model_selection import (train_test_split, GridSearchCV,\n",
    "                                     StratifiedKFold)\n",
    "from sklearn.neighbors import KNeighborsClassifier\n",
    "from sklearn.svm import SVC\n",
    "from sklearn.linear_model import LogisticRegression\n",
    "from sklearn.naive_bayes import GaussianNB\n",
    "from sklearn.tree import DecisionTreeClassifier\n",
    "from sklearn.ensemble import (RandomForestClassifier,  \n",
    "                              GradientBoostingClassifier)\n",
    "from sklearn.model_selection import cross_validate\n",
    "from sklearn.metrics import (ConfusionMatrixDisplay, precision_score, recall_score)\n",
    "\n",
    "# Imblearn\n",
    "from imblearn.pipeline import Pipeline, make_pipeline\n",
    "from imblearn.over_sampling import (SMOTE, ADASYN, BorderlineSMOTE, SVMSMOTE)\n",
    "from imblearn.under_sampling import (TomekLinks, NearMiss, AllKNN,\n",
    "                                     EditedNearestNeighbours, \n",
    "                                     RepeatedEditedNearestNeighbours) \n",
    "from imblearn.combine import SMOTETomek, SMOTEENN\n",
    "\n",
    "# SHAP\n",
    "import shap"
   ]
  },
  {
   "cell_type": "code",
   "execution_count": 7,
   "metadata": {
    "ExecuteTime": {
     "end_time": "2022-06-25T17:06:47.142146Z",
     "start_time": "2022-06-25T17:06:40.843628Z"
    }
   },
   "outputs": [
    {
     "data": {
      "text/html": [
       "<div>\n",
       "<style scoped>\n",
       "    .dataframe tbody tr th:only-of-type {\n",
       "        vertical-align: middle;\n",
       "    }\n",
       "\n",
       "    .dataframe tbody tr th {\n",
       "        vertical-align: top;\n",
       "    }\n",
       "\n",
       "    .dataframe thead th {\n",
       "        text-align: right;\n",
       "    }\n",
       "</style>\n",
       "<table border=\"1\" class=\"dataframe\">\n",
       "  <thead>\n",
       "    <tr style=\"text-align: right;\">\n",
       "      <th></th>\n",
       "      <th>lat</th>\n",
       "      <th>long</th>\n",
       "      <th>city_pop</th>\n",
       "      <th>trans_date</th>\n",
       "      <th>amt</th>\n",
       "      <th>is_fraud</th>\n",
       "      <th>merch_lat</th>\n",
       "      <th>merch_long</th>\n",
       "      <th>trans_day</th>\n",
       "      <th>city_Angeles City</th>\n",
       "      <th>...</th>\n",
       "      <th>part_of_day_lunch</th>\n",
       "      <th>region_CALABARZON</th>\n",
       "      <th>region_NCR</th>\n",
       "      <th>region_Region 3</th>\n",
       "      <th>quarantine_status_ECQ</th>\n",
       "      <th>quarantine_status_GCQ</th>\n",
       "      <th>quarantine_status_MECQ</th>\n",
       "      <th>quarantine_status_Normal</th>\n",
       "      <th>QL_Extreme QL</th>\n",
       "      <th>QL_Moderate-Low QL</th>\n",
       "    </tr>\n",
       "  </thead>\n",
       "  <tbody>\n",
       "    <tr>\n",
       "      <th>0</th>\n",
       "      <td>14.5958</td>\n",
       "      <td>120.9772</td>\n",
       "      <td>23088000</td>\n",
       "      <td>2020-09-13</td>\n",
       "      <td>966.24</td>\n",
       "      <td>1</td>\n",
       "      <td>14.133430</td>\n",
       "      <td>121.223118</td>\n",
       "      <td>13</td>\n",
       "      <td>0</td>\n",
       "      <td>...</td>\n",
       "      <td>1</td>\n",
       "      <td>0</td>\n",
       "      <td>1</td>\n",
       "      <td>0</td>\n",
       "      <td>0</td>\n",
       "      <td>1</td>\n",
       "      <td>0</td>\n",
       "      <td>0</td>\n",
       "      <td>0</td>\n",
       "      <td>1</td>\n",
       "    </tr>\n",
       "    <tr>\n",
       "      <th>1</th>\n",
       "      <td>14.5958</td>\n",
       "      <td>120.9772</td>\n",
       "      <td>23088000</td>\n",
       "      <td>2020-09-13</td>\n",
       "      <td>275.37</td>\n",
       "      <td>1</td>\n",
       "      <td>15.290354</td>\n",
       "      <td>120.246084</td>\n",
       "      <td>13</td>\n",
       "      <td>0</td>\n",
       "      <td>...</td>\n",
       "      <td>0</td>\n",
       "      <td>0</td>\n",
       "      <td>1</td>\n",
       "      <td>0</td>\n",
       "      <td>0</td>\n",
       "      <td>1</td>\n",
       "      <td>0</td>\n",
       "      <td>0</td>\n",
       "      <td>0</td>\n",
       "      <td>1</td>\n",
       "    </tr>\n",
       "    <tr>\n",
       "      <th>2</th>\n",
       "      <td>14.5958</td>\n",
       "      <td>120.9772</td>\n",
       "      <td>23088000</td>\n",
       "      <td>2020-09-14</td>\n",
       "      <td>326.96</td>\n",
       "      <td>1</td>\n",
       "      <td>15.402101</td>\n",
       "      <td>121.332516</td>\n",
       "      <td>14</td>\n",
       "      <td>0</td>\n",
       "      <td>...</td>\n",
       "      <td>0</td>\n",
       "      <td>0</td>\n",
       "      <td>1</td>\n",
       "      <td>0</td>\n",
       "      <td>0</td>\n",
       "      <td>1</td>\n",
       "      <td>0</td>\n",
       "      <td>0</td>\n",
       "      <td>0</td>\n",
       "      <td>1</td>\n",
       "    </tr>\n",
       "    <tr>\n",
       "      <th>3</th>\n",
       "      <td>14.5958</td>\n",
       "      <td>120.9772</td>\n",
       "      <td>23088000</td>\n",
       "      <td>2020-09-14</td>\n",
       "      <td>1047.59</td>\n",
       "      <td>1</td>\n",
       "      <td>15.166276</td>\n",
       "      <td>121.955649</td>\n",
       "      <td>14</td>\n",
       "      <td>0</td>\n",
       "      <td>...</td>\n",
       "      <td>0</td>\n",
       "      <td>0</td>\n",
       "      <td>1</td>\n",
       "      <td>0</td>\n",
       "      <td>0</td>\n",
       "      <td>1</td>\n",
       "      <td>0</td>\n",
       "      <td>0</td>\n",
       "      <td>0</td>\n",
       "      <td>1</td>\n",
       "    </tr>\n",
       "    <tr>\n",
       "      <th>4</th>\n",
       "      <td>14.5958</td>\n",
       "      <td>120.9772</td>\n",
       "      <td>23088000</td>\n",
       "      <td>2020-09-14</td>\n",
       "      <td>286.34</td>\n",
       "      <td>1</td>\n",
       "      <td>15.149144</td>\n",
       "      <td>121.696662</td>\n",
       "      <td>14</td>\n",
       "      <td>0</td>\n",
       "      <td>...</td>\n",
       "      <td>0</td>\n",
       "      <td>0</td>\n",
       "      <td>1</td>\n",
       "      <td>0</td>\n",
       "      <td>0</td>\n",
       "      <td>1</td>\n",
       "      <td>0</td>\n",
       "      <td>0</td>\n",
       "      <td>0</td>\n",
       "      <td>1</td>\n",
       "    </tr>\n",
       "  </tbody>\n",
       "</table>\n",
       "<p>5 rows × 243 columns</p>\n",
       "</div>"
      ],
      "text/plain": [
       "       lat      long  city_pop  trans_date      amt  is_fraud  merch_lat  \\\n",
       "0  14.5958  120.9772  23088000  2020-09-13   966.24         1  14.133430   \n",
       "1  14.5958  120.9772  23088000  2020-09-13   275.37         1  15.290354   \n",
       "2  14.5958  120.9772  23088000  2020-09-14   326.96         1  15.402101   \n",
       "3  14.5958  120.9772  23088000  2020-09-14  1047.59         1  15.166276   \n",
       "4  14.5958  120.9772  23088000  2020-09-14   286.34         1  15.149144   \n",
       "\n",
       "   merch_long  trans_day  city_Angeles City  ...  part_of_day_lunch  \\\n",
       "0  121.223118         13                  0  ...                  1   \n",
       "1  120.246084         13                  0  ...                  0   \n",
       "2  121.332516         14                  0  ...                  0   \n",
       "3  121.955649         14                  0  ...                  0   \n",
       "4  121.696662         14                  0  ...                  0   \n",
       "\n",
       "   region_CALABARZON  region_NCR  region_Region 3  quarantine_status_ECQ  \\\n",
       "0                  0           1                0                      0   \n",
       "1                  0           1                0                      0   \n",
       "2                  0           1                0                      0   \n",
       "3                  0           1                0                      0   \n",
       "4                  0           1                0                      0   \n",
       "\n",
       "   quarantine_status_GCQ  quarantine_status_MECQ  quarantine_status_Normal  \\\n",
       "0                      1                       0                         0   \n",
       "1                      1                       0                         0   \n",
       "2                      1                       0                         0   \n",
       "3                      1                       0                         0   \n",
       "4                      1                       0                         0   \n",
       "\n",
       "   QL_Extreme QL  QL_Moderate-Low QL  \n",
       "0              0                   1  \n",
       "1              0                   1  \n",
       "2              0                   1  \n",
       "3              0                   1  \n",
       "4              0                   1  \n",
       "\n",
       "[5 rows x 243 columns]"
      ]
     },
     "execution_count": 7,
     "metadata": {},
     "output_type": "execute_result"
    }
   ],
   "source": [
    "df1 = pd.read_csv('cc_df_group1_version2.csv')\n",
    "df1.head()"
   ]
  },
  {
   "cell_type": "code",
   "execution_count": 8,
   "metadata": {},
   "outputs": [],
   "source": [
    "to_drop = ['trans_date']\n",
    "\n",
    "df = df1.drop(to_drop, axis=1)\n"
   ]
  },
  {
   "cell_type": "code",
   "execution_count": 9,
   "metadata": {},
   "outputs": [
    {
     "data": {
      "text/plain": [
       "Index(['lat', 'long', 'city_pop', 'amt', 'is_fraud', 'merch_lat', 'merch_long',\n",
       "       'trans_day', 'city_Angeles City', 'city_Antipolo',\n",
       "       ...\n",
       "       'part_of_day_lunch', 'region_CALABARZON', 'region_NCR',\n",
       "       'region_Region 3', 'quarantine_status_ECQ', 'quarantine_status_GCQ',\n",
       "       'quarantine_status_MECQ', 'quarantine_status_Normal', 'QL_Extreme QL',\n",
       "       'QL_Moderate-Low QL'],\n",
       "      dtype='object', length=242)"
      ]
     },
     "execution_count": 9,
     "metadata": {},
     "output_type": "execute_result"
    }
   ],
   "source": [
    "df.columns"
   ]
  },
  {
   "cell_type": "code",
   "execution_count": 10,
   "metadata": {
    "ExecuteTime": {
     "end_time": "2022-06-25T17:06:59.724833Z",
     "start_time": "2022-06-25T17:06:59.489891Z"
    }
   },
   "outputs": [
    {
     "name": "stdout",
     "output_type": "stream",
     "text": [
      "Would Recommend:       0\n",
      "1    300\n",
      "0  29677\n",
      "Proportion Chance Criterion: 98.02%\n",
      "1.25 * Proportion Chance Criterion: 122.52%\n"
     ]
    },
    {
     "data": {
      "image/png": "[encoded data removed]",
      "text/plain": [
       "<Figure size 432x288 with 1 Axes>"
      ]
     },
     "metadata": {
      "needs_background": "light"
     },
     "output_type": "display_data"
    }
   ],
   "source": [
    "state_counts = Counter(df['is_fraud'])\n",
    "df_state = pd.DataFrame.from_dict(state_counts, orient='index')\n",
    "df_state.plot(kind='bar', color='pink')\n",
    "\n",
    "num=(df_state[0]/df_state[0].sum())**2\n",
    "\n",
    "print(\"Would Recommend:{}\".format(df_state))\n",
    "\n",
    "print(\"Proportion Chance Criterion: {:0.2f}%\".format(100*num.sum()))\n",
    "print(\"1.25 * Proportion Chance Criterion: {:0.2f}%\".format(1.25*100*num.sum()))"
   ]
  },
  {
   "cell_type": "code",
   "execution_count": 11,
   "metadata": {
    "ExecuteTime": {
     "end_time": "2022-06-25T17:07:01.323651Z",
     "start_time": "2022-06-25T17:07:00.408410Z"
    }
   },
   "outputs": [],
   "source": [
    "X = df.drop(['is_fraud'], axis=1)\n",
    "y = df['is_fraud']\n",
    "(X_trainval, X_holdout, y_trainval, y_holdout) = train_test_split(X, y, \n",
    "                                                                  random_state=11, test_size=0.25,\n",
    "                                                                  stratify=y) #maintain the proportion of your class\n",
    "\n",
    "#ideal is to use train -> validation -> test/holdout\n",
    "#train - > validation : used to check overfitting\n",
    "\n",
    "#if namake sure na di overfitting, you can use the model to your hold out"
   ]
  },
  {
   "cell_type": "markdown",
   "metadata": {},
   "source": [
    "<div><span style=\"background-color: #ff0257; padding-top: 100px; padding-right: 20px; padding-bottom: 50px; padding-left: 20px; color: #FFFAF0; font-size: 18px; font-weight: bold\">Auto-ML </span></div>"
   ]
  },
  {
   "cell_type": "code",
   "execution_count": 12,
   "metadata": {
    "ExecuteTime": {
     "end_time": "2022-06-25T17:07:04.220771Z",
     "start_time": "2022-06-25T17:07:04.197393Z"
    }
   },
   "outputs": [],
   "source": [
    "def auto_ml(X, y, models_dict, scaler=None, cv=None, res_t=None): #codify: save everything into a function #cv is cross validation \n",
    "    \"\"\"Apply resampling for imbalanced data\"\"\"\n",
    "    results = {}\n",
    "    results2 = {}\n",
    "\n",
    "    # log start time\n",
    "    total_start = time.time() #used to compute total run time of process\n",
    "\n",
    "    for model_name, model in tqdm(models_dict.items()):\n",
    "        \n",
    "        ################# this portion can be edited ###############\n",
    "        train_scores = []\n",
    "        val_scores = []\n",
    "\n",
    "        train_recall = []\n",
    "        val_recall = []\n",
    "\n",
    "        ###########################################################\n",
    "\n",
    "        for train_index, val_index in tqdm(cv.split(X, y)):\n",
    "\n",
    "            X_train, X_val = X.iloc[train_index], X.iloc[val_index]\n",
    "            y_train, y_val = y.iloc[train_index], y.iloc[val_index]\n",
    "\n",
    "            # Apply scaling\n",
    "            if scaler is not None:\n",
    "                X_train = scaler.fit_transform(X_train)\n",
    "                X_val = scaler.transform(X_val)\n",
    "            else:\n",
    "                pass\n",
    "\n",
    "            # Apply resampling for every iteraction\n",
    "            if res_t is not None:\n",
    "                s = time.time()\n",
    "                X_train, y_train = res_t.fit_resample(X_train, y_train)\n",
    "                print(f'Resampling done in {time.time() - s}')\n",
    "            else:\n",
    "                pass\n",
    "\n",
    "            start_time = time.time()\n",
    "\n",
    "            # fit\n",
    "            model.fit(X_train, y_train)\n",
    "\n",
    "            # predict\n",
    "            train_preds = model.predict(X_train)\n",
    "            val_preds = model.predict(X_val)\n",
    "            \n",
    "            ################# this portion can be edited ###############\n",
    "\n",
    "            # classification accuracy\n",
    "            train_scores.append(model.score(X_train, y_train))\n",
    "            val_scores.append(model.score(X_val, y_val))\n",
    "\n",
    "            # recall\n",
    "            train_recall.append(recall_score(y_train, train_preds))\n",
    "            val_recall.append(recall_score(y_val, val_preds))\n",
    "\n",
    "            end_time = time.time()\n",
    "\n",
    "            results[model_name] = {\n",
    "                'Train Accuracy': np.round(np.mean(train_scores) * 100, 2),\n",
    "                'Val Accuracy': np.round(np.mean(val_scores) * 100, 2),\n",
    "                'Train Recall': np.round(np.mean(train_recall) * 100, 2),\n",
    "                'Val Recall': np.round(np.mean(val_recall) * 100, 2),\n",
    "                'Run Time': end_time - start_time\n",
    "            }\n",
    "\n",
    "            results2[model_name] = {\n",
    "                'Train Accuracy': '{:.2f}%'.format(np.round(np.mean(train_scores)*100, 2)),\n",
    "                'Val Accuracy': '{:.2f}%'.format(np.round(np.mean(val_scores)*100, 2)),\n",
    "                'Train Recall': '{:.2f}%'.format(np.round(np.mean(train_recall)*100, 2)),\n",
    "                'Val Recall': '{:.2f}%'.format(np.round(np.mean(val_recall)*100, 2)),\n",
    "                'Run Time': end_time - start_time\n",
    "            }\n",
    "            \n",
    "            ###########################################################\n",
    "\n",
    "    results = pd.DataFrame(results).T\n",
    "    results2 = pd.DataFrame(results2).T\n",
    "    return [results, results2]\n",
    "\n",
    "\n",
    "#output: two data frames; one for plotting and one to pretify data frame"
   ]
  },
  {
   "cell_type": "markdown",
   "metadata": {},
   "source": [
    "# Steps:\n",
    "    1. Baseline scores\n",
    "        -without resampling \n",
    "    2. Run resampling techniques\n",
    "        -oversampling\n",
    "        -undersampling\n",
    "    3. Identify the model with resampling (i.e. Random Forest x SMOTE)\n",
    "    4. Hypertune themodel with resampling (gridsearch)\n",
    "    \n",
    " high performance x runtime x no overfitting"
   ]
  },
  {
   "cell_type": "markdown",
   "metadata": {},
   "source": [
    "### Baseline"
   ]
  },
  {
   "cell_type": "code",
   "execution_count": 16,
   "metadata": {
    "ExecuteTime": {
     "end_time": "2022-06-25T18:00:46.201827Z",
     "start_time": "2022-06-25T18:00:46.191744Z"
    }
   },
   "outputs": [],
   "source": [
    "#baseline score is score without applying resampling\n",
    "\n",
    "models_dict = {\n",
    "              'KNeighborsClassifier': KNeighborsClassifier()}\n",
    "\n",
    "# models_dict = {\n",
    "#     'KNeighborsClassifier': KNeighborsClassifier(),\n",
    "#     'LogisticRegressor': LogisticRegression(),\n",
    "#     'GaussianNB': GaussianNB(),\n",
    "#     'RandomForestClassifier': RandomForestClassifier(random_state=143),\n",
    "#     'DecisionTreeClassifier': DecisionTreeClassifier(random_state=143),\n",
    "#     'GradientBoostingClassifier': GradientBoostingClassifier(random_state=143)   \n",
    "# }"
   ]
  },
  {
   "cell_type": "code",
   "execution_count": 17,
   "metadata": {
    "ExecuteTime": {
     "end_time": "2022-06-25T18:03:16.405058Z",
     "start_time": "2022-06-25T18:00:47.131514Z"
    }
   },
   "outputs": [
    {
     "data": {
      "application/vnd.jupyter.widget-view+json": {
       "model_id": "459a279c29d94007b94bbce69070128d",
       "version_major": 2,
       "version_minor": 0
      },
      "text/plain": [
       "  0%|          | 0/1 [00:00<?, ?it/s]"
      ]
     },
     "metadata": {},
     "output_type": "display_data"
    },
    {
     "data": {
      "application/vnd.jupyter.widget-view+json": {
       "model_id": "638f9ef379a54e8585ca22d9977bb3de",
       "version_major": 2,
       "version_minor": 0
      },
      "text/plain": [
       "0it [00:00, ?it/s]"
      ]
     },
     "metadata": {},
     "output_type": "display_data"
    },
    {
     "data": {
      "text/html": [
       "<div>\n",
       "<style scoped>\n",
       "    .dataframe tbody tr th:only-of-type {\n",
       "        vertical-align: middle;\n",
       "    }\n",
       "\n",
       "    .dataframe tbody tr th {\n",
       "        vertical-align: top;\n",
       "    }\n",
       "\n",
       "    .dataframe thead th {\n",
       "        text-align: right;\n",
       "    }\n",
       "</style>\n",
       "<table border=\"1\" class=\"dataframe\">\n",
       "  <thead>\n",
       "    <tr style=\"text-align: right;\">\n",
       "      <th></th>\n",
       "      <th>Run Time</th>\n",
       "      <th>Train Accuracy</th>\n",
       "      <th>Train Recall</th>\n",
       "      <th>Val Accuracy</th>\n",
       "      <th>Val Recall</th>\n",
       "    </tr>\n",
       "  </thead>\n",
       "  <tbody>\n",
       "    <tr>\n",
       "      <th>KNeighborsClassifier</th>\n",
       "      <td>5.330347</td>\n",
       "      <td>99.42%</td>\n",
       "      <td>44.89%</td>\n",
       "      <td>99.25%</td>\n",
       "      <td>32.00%</td>\n",
       "    </tr>\n",
       "  </tbody>\n",
       "</table>\n",
       "</div>"
      ],
      "text/plain": [
       "                      Run Time Train Accuracy Train Recall Val Accuracy  \\\n",
       "KNeighborsClassifier  5.330347         99.42%       44.89%       99.25%   \n",
       "\n",
       "                     Val Recall  \n",
       "KNeighborsClassifier     32.00%  "
      ]
     },
     "execution_count": 17,
     "metadata": {},
     "output_type": "execute_result"
    }
   ],
   "source": [
    "auto_run = auto_ml(X_trainval, y_trainval, models_dict, scaler=MinMaxScaler(),\n",
    "               cv=StratifiedKFold(n_splits=5))\n",
    "auto = auto_run[0]\n",
    "auto_run[1]"
   ]
  },
  {
   "cell_type": "markdown",
   "metadata": {},
   "source": [
    "### Applying resampling techniques"
   ]
  },
  {
   "cell_type": "markdown",
   "metadata": {},
   "source": [
    "#### Oversampling"
   ]
  },
  {
   "cell_type": "code",
   "execution_count": 18,
   "metadata": {
    "ExecuteTime": {
     "end_time": "2022-06-25T17:27:00.661394Z",
     "start_time": "2022-06-25T17:07:24.494356Z"
    }
   },
   "outputs": [
    {
     "name": "stdout",
     "output_type": "stream",
     "text": [
      "---------------------------------------------------\u001b[1m\u001b[31mSMOTE\u001b[0m---------------------------------------------------\n"
     ]
    },
    {
     "data": {
      "application/vnd.jupyter.widget-view+json": {
       "model_id": "1759089385f0427197f517347976bab2",
       "version_major": 2,
       "version_minor": 0
      },
      "text/plain": [
       "  0%|          | 0/1 [00:00<?, ?it/s]"
      ]
     },
     "metadata": {},
     "output_type": "display_data"
    },
    {
     "data": {
      "application/vnd.jupyter.widget-view+json": {
       "model_id": "794d10de15e34357a666c67ed14e592e",
       "version_major": 2,
       "version_minor": 0
      },
      "text/plain": [
       "0it [00:00, ?it/s]"
      ]
     },
     "metadata": {},
     "output_type": "display_data"
    },
    {
     "name": "stdout",
     "output_type": "stream",
     "text": [
      "Resampling done in 0.07380390167236328\n",
      "Resampling done in 0.09677696228027344\n",
      "Resampling done in 0.036604881286621094\n",
      "Resampling done in 0.08580207824707031\n",
      "Resampling done in 0.05386185646057129\n"
     ]
    },
    {
     "data": {
      "text/html": [
       "<div>\n",
       "<style scoped>\n",
       "    .dataframe tbody tr th:only-of-type {\n",
       "        vertical-align: middle;\n",
       "    }\n",
       "\n",
       "    .dataframe tbody tr th {\n",
       "        vertical-align: top;\n",
       "    }\n",
       "\n",
       "    .dataframe thead th {\n",
       "        text-align: right;\n",
       "    }\n",
       "</style>\n",
       "<table border=\"1\" class=\"dataframe\">\n",
       "  <thead>\n",
       "    <tr style=\"text-align: right;\">\n",
       "      <th></th>\n",
       "      <th>Run Time</th>\n",
       "      <th>Train Accuracy</th>\n",
       "      <th>Train Recall</th>\n",
       "      <th>Val Accuracy</th>\n",
       "      <th>Val Recall</th>\n",
       "    </tr>\n",
       "  </thead>\n",
       "  <tbody>\n",
       "    <tr>\n",
       "      <th>KNeighborsClassifier</th>\n",
       "      <td>20.19887</td>\n",
       "      <td>98.56%</td>\n",
       "      <td>100.00%</td>\n",
       "      <td>95.65%</td>\n",
       "      <td>80.89%</td>\n",
       "    </tr>\n",
       "  </tbody>\n",
       "</table>\n",
       "</div>"
      ],
      "text/plain": [
       "                      Run Time Train Accuracy Train Recall Val Accuracy  \\\n",
       "KNeighborsClassifier  20.19887         98.56%      100.00%       95.65%   \n",
       "\n",
       "                     Val Recall  \n",
       "KNeighborsClassifier     80.89%  "
      ]
     },
     "metadata": {},
     "output_type": "display_data"
    },
    {
     "name": "stdout",
     "output_type": "stream",
     "text": [
      "--------------------------------------------------\u001b[1m\u001b[31mADASYN\u001b[0m---------------------------------------------------\n"
     ]
    },
    {
     "data": {
      "application/vnd.jupyter.widget-view+json": {
       "model_id": "215c19c14dec4f7b93879f8f5c00ca11",
       "version_major": 2,
       "version_minor": 0
      },
      "text/plain": [
       "  0%|          | 0/1 [00:00<?, ?it/s]"
      ]
     },
     "metadata": {},
     "output_type": "display_data"
    },
    {
     "data": {
      "application/vnd.jupyter.widget-view+json": {
       "model_id": "6a2e177e9ce74bb5a2bad28dcc03a8a8",
       "version_major": 2,
       "version_minor": 0
      },
      "text/plain": [
       "0it [00:00, ?it/s]"
      ]
     },
     "metadata": {},
     "output_type": "display_data"
    },
    {
     "name": "stdout",
     "output_type": "stream",
     "text": [
      "Resampling done in 0.12769031524658203\n",
      "Resampling done in 0.1061398983001709\n",
      "Resampling done in 0.09068894386291504\n",
      "Resampling done in 0.09592986106872559\n",
      "Resampling done in 0.08121514320373535\n"
     ]
    },
    {
     "data": {
      "text/html": [
       "<div>\n",
       "<style scoped>\n",
       "    .dataframe tbody tr th:only-of-type {\n",
       "        vertical-align: middle;\n",
       "    }\n",
       "\n",
       "    .dataframe tbody tr th {\n",
       "        vertical-align: top;\n",
       "    }\n",
       "\n",
       "    .dataframe thead th {\n",
       "        text-align: right;\n",
       "    }\n",
       "</style>\n",
       "<table border=\"1\" class=\"dataframe\">\n",
       "  <thead>\n",
       "    <tr style=\"text-align: right;\">\n",
       "      <th></th>\n",
       "      <th>Run Time</th>\n",
       "      <th>Train Accuracy</th>\n",
       "      <th>Train Recall</th>\n",
       "      <th>Val Accuracy</th>\n",
       "      <th>Val Recall</th>\n",
       "    </tr>\n",
       "  </thead>\n",
       "  <tbody>\n",
       "    <tr>\n",
       "      <th>KNeighborsClassifier</th>\n",
       "      <td>19.330513</td>\n",
       "      <td>98.55%</td>\n",
       "      <td>100.00%</td>\n",
       "      <td>95.61%</td>\n",
       "      <td>80.89%</td>\n",
       "    </tr>\n",
       "  </tbody>\n",
       "</table>\n",
       "</div>"
      ],
      "text/plain": [
       "                       Run Time Train Accuracy Train Recall Val Accuracy  \\\n",
       "KNeighborsClassifier  19.330513         98.55%      100.00%       95.61%   \n",
       "\n",
       "                     Val Recall  \n",
       "KNeighborsClassifier     80.89%  "
      ]
     },
     "metadata": {},
     "output_type": "display_data"
    },
    {
     "name": "stdout",
     "output_type": "stream",
     "text": [
      "----------------------------------------------\u001b[1m\u001b[31mBorderlineSMOTE\u001b[0m----------------------------------------------\n"
     ]
    },
    {
     "data": {
      "application/vnd.jupyter.widget-view+json": {
       "model_id": "10c1a6df46e44dbe81707778ef6049ad",
       "version_major": 2,
       "version_minor": 0
      },
      "text/plain": [
       "  0%|          | 0/1 [00:00<?, ?it/s]"
      ]
     },
     "metadata": {},
     "output_type": "display_data"
    },
    {
     "data": {
      "application/vnd.jupyter.widget-view+json": {
       "model_id": "51e3a325abd84ca18f0d3f2ada509170",
       "version_major": 2,
       "version_minor": 0
      },
      "text/plain": [
       "0it [00:00, ?it/s]"
      ]
     },
     "metadata": {},
     "output_type": "display_data"
    },
    {
     "name": "stdout",
     "output_type": "stream",
     "text": [
      "Resampling done in 0.12847185134887695\n",
      "Resampling done in 0.08310770988464355\n",
      "Resampling done in 0.09433698654174805\n",
      "Resampling done in 0.06559419631958008\n",
      "Resampling done in 0.07966375350952148\n"
     ]
    },
    {
     "data": {
      "text/html": [
       "<div>\n",
       "<style scoped>\n",
       "    .dataframe tbody tr th:only-of-type {\n",
       "        vertical-align: middle;\n",
       "    }\n",
       "\n",
       "    .dataframe tbody tr th {\n",
       "        vertical-align: top;\n",
       "    }\n",
       "\n",
       "    .dataframe thead th {\n",
       "        text-align: right;\n",
       "    }\n",
       "</style>\n",
       "<table border=\"1\" class=\"dataframe\">\n",
       "  <thead>\n",
       "    <tr style=\"text-align: right;\">\n",
       "      <th></th>\n",
       "      <th>Run Time</th>\n",
       "      <th>Train Accuracy</th>\n",
       "      <th>Train Recall</th>\n",
       "      <th>Val Accuracy</th>\n",
       "      <th>Val Recall</th>\n",
       "    </tr>\n",
       "  </thead>\n",
       "  <tbody>\n",
       "    <tr>\n",
       "      <th>KNeighborsClassifier</th>\n",
       "      <td>19.519931</td>\n",
       "      <td>98.65%</td>\n",
       "      <td>99.99%</td>\n",
       "      <td>95.83%</td>\n",
       "      <td>80.44%</td>\n",
       "    </tr>\n",
       "  </tbody>\n",
       "</table>\n",
       "</div>"
      ],
      "text/plain": [
       "                       Run Time Train Accuracy Train Recall Val Accuracy  \\\n",
       "KNeighborsClassifier  19.519931         98.65%       99.99%       95.83%   \n",
       "\n",
       "                     Val Recall  \n",
       "KNeighborsClassifier     80.44%  "
      ]
     },
     "metadata": {},
     "output_type": "display_data"
    },
    {
     "name": "stdout",
     "output_type": "stream",
     "text": [
      "-------------------------------------------------\u001b[1m\u001b[31mSVMSMOTE\u001b[0m--------------------------------------------------\n"
     ]
    },
    {
     "data": {
      "application/vnd.jupyter.widget-view+json": {
       "model_id": "90c19b25bcda4b6196e4c1b5123e6cae",
       "version_major": 2,
       "version_minor": 0
      },
      "text/plain": [
       "  0%|          | 0/1 [00:00<?, ?it/s]"
      ]
     },
     "metadata": {},
     "output_type": "display_data"
    },
    {
     "data": {
      "application/vnd.jupyter.widget-view+json": {
       "model_id": "a6e0877eb99a41bf82e1cf3de456ebe2",
       "version_major": 2,
       "version_minor": 0
      },
      "text/plain": [
       "0it [00:00, ?it/s]"
      ]
     },
     "metadata": {},
     "output_type": "display_data"
    },
    {
     "name": "stdout",
     "output_type": "stream",
     "text": [
      "Resampling done in 2.0828990936279297\n",
      "Resampling done in 1.9829649925231934\n",
      "Resampling done in 2.094334363937378\n",
      "Resampling done in 2.290827989578247\n",
      "Resampling done in 2.352077007293701\n"
     ]
    },
    {
     "data": {
      "text/html": [
       "<div>\n",
       "<style scoped>\n",
       "    .dataframe tbody tr th:only-of-type {\n",
       "        vertical-align: middle;\n",
       "    }\n",
       "\n",
       "    .dataframe tbody tr th {\n",
       "        vertical-align: top;\n",
       "    }\n",
       "\n",
       "    .dataframe thead th {\n",
       "        text-align: right;\n",
       "    }\n",
       "</style>\n",
       "<table border=\"1\" class=\"dataframe\">\n",
       "  <thead>\n",
       "    <tr style=\"text-align: right;\">\n",
       "      <th></th>\n",
       "      <th>Run Time</th>\n",
       "      <th>Train Accuracy</th>\n",
       "      <th>Train Recall</th>\n",
       "      <th>Val Accuracy</th>\n",
       "      <th>Val Recall</th>\n",
       "    </tr>\n",
       "  </thead>\n",
       "  <tbody>\n",
       "    <tr>\n",
       "      <th>KNeighborsClassifier</th>\n",
       "      <td>17.854928</td>\n",
       "      <td>98.68%</td>\n",
       "      <td>99.99%</td>\n",
       "      <td>95.99%</td>\n",
       "      <td>79.11%</td>\n",
       "    </tr>\n",
       "  </tbody>\n",
       "</table>\n",
       "</div>"
      ],
      "text/plain": [
       "                       Run Time Train Accuracy Train Recall Val Accuracy  \\\n",
       "KNeighborsClassifier  17.854928         98.68%       99.99%       95.99%   \n",
       "\n",
       "                     Val Recall  \n",
       "KNeighborsClassifier     79.11%  "
      ]
     },
     "metadata": {},
     "output_type": "display_data"
    },
    {
     "data": {
      "image/png": "[encoded data removed]",
      "text/plain": [
       "<Figure size 1440x576 with 1 Axes>"
      ]
     },
     "metadata": {
      "needs_background": "light"
     },
     "output_type": "display_data"
    }
   ],
   "source": [
    "res_list = [('SMOTE', SMOTE()),\n",
    "            ('ADASYN', ADASYN()),('BorderlineSMOTE', BorderlineSMOTE()),('SVMSMOTE', SVMSMOTE())]\n",
    "\n",
    "outputs = []\n",
    "for title, res in res_list:\n",
    "    print(colored(title, 'red', attrs=['bold']).center(120, \"-\"))\n",
    "    var = auto_ml(X_trainval, y_trainval, models_dict, scaler=MinMaxScaler(),\n",
    "                    cv=StratifiedKFold(n_splits=5), res_t=res)\n",
    "    outputs.append(var[0])\n",
    "    display(var[1])\n",
    "\n",
    "ps_over = pd.DataFrame(index=models_dict.keys())\n",
    "ps_over['NoResampling Val Recall'] = auto_run[1]['Val Recall']\n",
    "ps_over['SMOTE Val Recall'] = outputs[0]['Val Recall']\n",
    "ps_over['ADASYN Val Recall'] = outputs[1]['Val Recall']\n",
    "ps_over['BorderlineSMOTE Val Recall'] = outputs[2]['Val Recall']\n",
    "ps_over['SVMSMOTE Val Recall'] = outputs[3]['Val Recall']\n",
    "fig, ax = plt.subplots(figsize=(20, 8))\n",
    "ps_over.plot.bar(ax=ax)\n",
    "ax.set_ylabel('Recall Score', fontsize=12)\n",
    "for spine in ['right', 'top']:\n",
    "        ax.spines[spine].set_visible(False)\n",
    "ax.legend(edgecolor='white')\n",
    "fig.suptitle(\"Resampling Techniques-Oversampling\", size=15, y=0.9, weight='bold')\n",
    "plt.xticks(rotation=45, fontsize=12)\n",
    "plt.show()"
   ]
  },
  {
   "cell_type": "markdown",
   "metadata": {},
   "source": [
    "#### Undersampling"
   ]
  },
  {
   "cell_type": "code",
   "execution_count": 19,
   "metadata": {
    "ExecuteTime": {
     "end_time": "2022-06-25T18:40:04.141335Z",
     "start_time": "2022-06-25T18:09:12.815457Z"
    }
   },
   "outputs": [
    {
     "name": "stdout",
     "output_type": "stream",
     "text": [
      "------------------------------------------------\u001b[1m\u001b[31mTomekLinks\u001b[0m-------------------------------------------------\n"
     ]
    },
    {
     "data": {
      "application/vnd.jupyter.widget-view+json": {
       "model_id": "ef86055d5728489c9bd00e9520afa31b",
       "version_major": 2,
       "version_minor": 0
      },
      "text/plain": [
       "  0%|          | 0/1 [00:00<?, ?it/s]"
      ]
     },
     "metadata": {},
     "output_type": "display_data"
    },
    {
     "data": {
      "application/vnd.jupyter.widget-view+json": {
       "model_id": "2d518ecb2671402d8a8a52952862241a",
       "version_major": 2,
       "version_minor": 0
      },
      "text/plain": [
       "0it [00:00, ?it/s]"
      ]
     },
     "metadata": {},
     "output_type": "display_data"
    },
    {
     "name": "stdout",
     "output_type": "stream",
     "text": [
      "Resampling done in 1.9141979217529297\n",
      "Resampling done in 1.896679162979126\n",
      "Resampling done in 1.9163818359375\n",
      "Resampling done in 1.9433097839355469\n",
      "Resampling done in 2.027935028076172\n"
     ]
    },
    {
     "data": {
      "text/html": [
       "<div>\n",
       "<style scoped>\n",
       "    .dataframe tbody tr th:only-of-type {\n",
       "        vertical-align: middle;\n",
       "    }\n",
       "\n",
       "    .dataframe tbody tr th {\n",
       "        vertical-align: top;\n",
       "    }\n",
       "\n",
       "    .dataframe thead th {\n",
       "        text-align: right;\n",
       "    }\n",
       "</style>\n",
       "<table border=\"1\" class=\"dataframe\">\n",
       "  <thead>\n",
       "    <tr style=\"text-align: right;\">\n",
       "      <th></th>\n",
       "      <th>Run Time</th>\n",
       "      <th>Train Accuracy</th>\n",
       "      <th>Train Recall</th>\n",
       "      <th>Val Accuracy</th>\n",
       "      <th>Val Recall</th>\n",
       "    </tr>\n",
       "  </thead>\n",
       "  <tbody>\n",
       "    <tr>\n",
       "      <th>KNeighborsClassifier</th>\n",
       "      <td>5.81463</td>\n",
       "      <td>99.45%</td>\n",
       "      <td>47.00%</td>\n",
       "      <td>99.25%</td>\n",
       "      <td>32.89%</td>\n",
       "    </tr>\n",
       "  </tbody>\n",
       "</table>\n",
       "</div>"
      ],
      "text/plain": [
       "                     Run Time Train Accuracy Train Recall Val Accuracy  \\\n",
       "KNeighborsClassifier  5.81463         99.45%       47.00%       99.25%   \n",
       "\n",
       "                     Val Recall  \n",
       "KNeighborsClassifier     32.89%  "
      ]
     },
     "metadata": {},
     "output_type": "display_data"
    },
    {
     "name": "stdout",
     "output_type": "stream",
     "text": [
      "-------------------------------------------------\u001b[1m\u001b[31mNearMiss\u001b[0m--------------------------------------------------\n"
     ]
    },
    {
     "data": {
      "application/vnd.jupyter.widget-view+json": {
       "model_id": "8f80ccb1ab1c450784bd049fe768dfb2",
       "version_major": 2,
       "version_minor": 0
      },
      "text/plain": [
       "  0%|          | 0/1 [00:00<?, ?it/s]"
      ]
     },
     "metadata": {},
     "output_type": "display_data"
    },
    {
     "data": {
      "application/vnd.jupyter.widget-view+json": {
       "model_id": "77b8990f521540febcaab323d43f49de",
       "version_major": 2,
       "version_minor": 0
      },
      "text/plain": [
       "0it [00:00, ?it/s]"
      ]
     },
     "metadata": {},
     "output_type": "display_data"
    },
    {
     "name": "stdout",
     "output_type": "stream",
     "text": [
      "Resampling done in 0.04940390586853027\n",
      "Resampling done in 0.04508686065673828\n",
      "Resampling done in 0.048613786697387695\n",
      "Resampling done in 0.05234789848327637\n",
      "Resampling done in 0.04543900489807129\n"
     ]
    },
    {
     "data": {
      "text/html": [
       "<div>\n",
       "<style scoped>\n",
       "    .dataframe tbody tr th:only-of-type {\n",
       "        vertical-align: middle;\n",
       "    }\n",
       "\n",
       "    .dataframe tbody tr th {\n",
       "        vertical-align: top;\n",
       "    }\n",
       "\n",
       "    .dataframe thead th {\n",
       "        text-align: right;\n",
       "    }\n",
       "</style>\n",
       "<table border=\"1\" class=\"dataframe\">\n",
       "  <thead>\n",
       "    <tr style=\"text-align: right;\">\n",
       "      <th></th>\n",
       "      <th>Run Time</th>\n",
       "      <th>Train Accuracy</th>\n",
       "      <th>Train Recall</th>\n",
       "      <th>Val Accuracy</th>\n",
       "      <th>Val Recall</th>\n",
       "    </tr>\n",
       "  </thead>\n",
       "  <tbody>\n",
       "    <tr>\n",
       "      <th>KNeighborsClassifier</th>\n",
       "      <td>0.253762</td>\n",
       "      <td>78.28%</td>\n",
       "      <td>74.00%</td>\n",
       "      <td>58.75%</td>\n",
       "      <td>78.67%</td>\n",
       "    </tr>\n",
       "  </tbody>\n",
       "</table>\n",
       "</div>"
      ],
      "text/plain": [
       "                      Run Time Train Accuracy Train Recall Val Accuracy  \\\n",
       "KNeighborsClassifier  0.253762         78.28%       74.00%       58.75%   \n",
       "\n",
       "                     Val Recall  \n",
       "KNeighborsClassifier     78.67%  "
      ]
     },
     "metadata": {},
     "output_type": "display_data"
    },
    {
     "name": "stdout",
     "output_type": "stream",
     "text": [
      "------------------------------------------\u001b[1m\u001b[31mEditedNearestNeighbours\u001b[0m------------------------------------------\n"
     ]
    },
    {
     "data": {
      "application/vnd.jupyter.widget-view+json": {
       "model_id": "acc47ba9bec6485e93247440ad9ef1de",
       "version_major": 2,
       "version_minor": 0
      },
      "text/plain": [
       "  0%|          | 0/1 [00:00<?, ?it/s]"
      ]
     },
     "metadata": {},
     "output_type": "display_data"
    },
    {
     "data": {
      "application/vnd.jupyter.widget-view+json": {
       "model_id": "8a7fe351bbdf447b8e6666ed3cf2de0e",
       "version_major": 2,
       "version_minor": 0
      },
      "text/plain": [
       "0it [00:00, ?it/s]"
      ]
     },
     "metadata": {},
     "output_type": "display_data"
    },
    {
     "name": "stdout",
     "output_type": "stream",
     "text": [
      "Resampling done in 2.037637233734131\n",
      "Resampling done in 2.1908321380615234\n",
      "Resampling done in 2.163325071334839\n",
      "Resampling done in 2.176055908203125\n",
      "Resampling done in 1.9989230632781982\n"
     ]
    },
    {
     "data": {
      "text/html": [
       "<div>\n",
       "<style scoped>\n",
       "    .dataframe tbody tr th:only-of-type {\n",
       "        vertical-align: middle;\n",
       "    }\n",
       "\n",
       "    .dataframe tbody tr th {\n",
       "        vertical-align: top;\n",
       "    }\n",
       "\n",
       "    .dataframe thead th {\n",
       "        text-align: right;\n",
       "    }\n",
       "</style>\n",
       "<table border=\"1\" class=\"dataframe\">\n",
       "  <thead>\n",
       "    <tr style=\"text-align: right;\">\n",
       "      <th></th>\n",
       "      <th>Run Time</th>\n",
       "      <th>Train Accuracy</th>\n",
       "      <th>Train Recall</th>\n",
       "      <th>Val Accuracy</th>\n",
       "      <th>Val Recall</th>\n",
       "    </tr>\n",
       "  </thead>\n",
       "  <tbody>\n",
       "    <tr>\n",
       "      <th>KNeighborsClassifier</th>\n",
       "      <td>5.867928</td>\n",
       "      <td>99.53%</td>\n",
       "      <td>54.11%</td>\n",
       "      <td>99.25%</td>\n",
       "      <td>35.11%</td>\n",
       "    </tr>\n",
       "  </tbody>\n",
       "</table>\n",
       "</div>"
      ],
      "text/plain": [
       "                      Run Time Train Accuracy Train Recall Val Accuracy  \\\n",
       "KNeighborsClassifier  5.867928         99.53%       54.11%       99.25%   \n",
       "\n",
       "                     Val Recall  \n",
       "KNeighborsClassifier     35.11%  "
      ]
     },
     "metadata": {},
     "output_type": "display_data"
    },
    {
     "name": "stdout",
     "output_type": "stream",
     "text": [
      "--------------------------------------------------\u001b[1m\u001b[31mAllKNN\u001b[0m---------------------------------------------------\n"
     ]
    },
    {
     "data": {
      "application/vnd.jupyter.widget-view+json": {
       "model_id": "b5db6df254484ad0aef021499edb8c05",
       "version_major": 2,
       "version_minor": 0
      },
      "text/plain": [
       "  0%|          | 0/1 [00:00<?, ?it/s]"
      ]
     },
     "metadata": {},
     "output_type": "display_data"
    },
    {
     "data": {
      "application/vnd.jupyter.widget-view+json": {
       "model_id": "0fae6001f18d4dcb81cc1d9977e91f43",
       "version_major": 2,
       "version_minor": 0
      },
      "text/plain": [
       "0it [00:00, ?it/s]"
      ]
     },
     "metadata": {},
     "output_type": "display_data"
    },
    {
     "name": "stdout",
     "output_type": "stream",
     "text": [
      "Resampling done in 6.1397950649261475\n",
      "Resampling done in 6.234255790710449\n",
      "Resampling done in 6.041975975036621\n",
      "Resampling done in 6.032824754714966\n",
      "Resampling done in 6.213426113128662\n"
     ]
    },
    {
     "data": {
      "text/html": [
       "<div>\n",
       "<style scoped>\n",
       "    .dataframe tbody tr th:only-of-type {\n",
       "        vertical-align: middle;\n",
       "    }\n",
       "\n",
       "    .dataframe tbody tr th {\n",
       "        vertical-align: top;\n",
       "    }\n",
       "\n",
       "    .dataframe thead th {\n",
       "        text-align: right;\n",
       "    }\n",
       "</style>\n",
       "<table border=\"1\" class=\"dataframe\">\n",
       "  <thead>\n",
       "    <tr style=\"text-align: right;\">\n",
       "      <th></th>\n",
       "      <th>Run Time</th>\n",
       "      <th>Train Accuracy</th>\n",
       "      <th>Train Recall</th>\n",
       "      <th>Val Accuracy</th>\n",
       "      <th>Val Recall</th>\n",
       "    </tr>\n",
       "  </thead>\n",
       "  <tbody>\n",
       "    <tr>\n",
       "      <th>KNeighborsClassifier</th>\n",
       "      <td>5.922187</td>\n",
       "      <td>99.54%</td>\n",
       "      <td>54.22%</td>\n",
       "      <td>99.24%</td>\n",
       "      <td>35.11%</td>\n",
       "    </tr>\n",
       "  </tbody>\n",
       "</table>\n",
       "</div>"
      ],
      "text/plain": [
       "                      Run Time Train Accuracy Train Recall Val Accuracy  \\\n",
       "KNeighborsClassifier  5.922187         99.54%       54.22%       99.24%   \n",
       "\n",
       "                     Val Recall  \n",
       "KNeighborsClassifier     35.11%  "
      ]
     },
     "metadata": {},
     "output_type": "display_data"
    }
   ],
   "source": [
    "res_list = [('TomekLinks', TomekLinks()),\n",
    "            ('NearMiss', NearMiss()),('EditedNearestNeighbours', EditedNearestNeighbours()),('AllKNN', AllKNN())]\n",
    "\n",
    "outputs_u = []\n",
    "for title, res in res_list:\n",
    "    print(colored(title, 'red', attrs=['bold']).center(120, \"-\"))\n",
    "    var = auto_ml(X_trainval, y_trainval, models_dict, scaler=MinMaxScaler(),\n",
    "                  cv=StratifiedKFold(n_splits=5), res_t=res)\n",
    "    outputs_u.append(var[0])\n",
    "    display(var[1])"
   ]
  },
  {
   "cell_type": "code",
   "execution_count": 20,
   "metadata": {
    "ExecuteTime": {
     "end_time": "2022-06-25T18:40:06.676847Z",
     "start_time": "2022-06-25T18:40:04.293020Z"
    }
   },
   "outputs": [
    {
     "data": {
      "image/png": "[encoded data removed]",
      "text/plain": [
       "<Figure size 1440x576 with 1 Axes>"
      ]
     },
     "metadata": {
      "needs_background": "light"
     },
     "output_type": "display_data"
    }
   ],
   "source": [
    "ps_under = pd.DataFrame(index=models_dict.keys())\n",
    "ps_under['NoResampling Val Recall'] = auto_run[1]['Val Recall']\n",
    "ps_under['TomekLinks Val Recall'] = outputs_u[0]['Val Recall']\n",
    "ps_under['NearMiss Val Recall'] = outputs_u[1]['Val Recall']\n",
    "ps_under['EditedNearestNeighbours'] = outputs_u[2]['Val Recall']\n",
    "ps_under['AllKNN'] = outputs_u[3]['Val Recall']\n",
    "\n",
    "fig, ax = plt.subplots(figsize=(20, 8))\n",
    "ps_under.plot.bar(ax=ax)\n",
    "ax.set_ylabel('Recall Score', fontsize=12)\n",
    "for spine in ['right', 'top']:\n",
    "        ax.spines[spine].set_visible(False)\n",
    "ax.legend(edgecolor='white')\n",
    "fig.suptitle(\"Resampling Techniques-Undersampling\", size=15, y=0.9, weight='bold')\n",
    "plt.xticks(rotation=45, fontsize=12)\n",
    "plt.show()"
   ]
  },
  {
   "cell_type": "markdown",
   "metadata": {},
   "source": [
    "<div><span style=\"background-color: #ff0257; padding-top: 100px; padding-right: 20px; padding-bottom: 50px; padding-left: 20px; color: #FFFAF0; font-size: 18px; font-weight: bold\">Grid-Search and Randomized Search Cross Validation </span></div>"
   ]
  },
  {
   "cell_type": "markdown",
   "metadata": {},
   "source": [
    "[Grid Search](https://scikit-learn.org/stable/modules/generated/sklearn.model_selection.GridSearchCV.html) and [Randomized Search Cross Validation](https://scikit-learn.org/stable/modules/generated/sklearn.model_selection.RandomizedSearchCV.html) are commonly used to hypertune models across multiple parameters"
   ]
  },
  {
   "cell_type": "markdown",
   "metadata": {},
   "source": [
    "class sklearn.neighbors.KNeighborsClassifier(n_neighbors=5, *, weights='uniform', algorithm='auto', leaf_size=30, p=2, metric='minkowski', metric_params=None, n_jobs=None)[source]"
   ]
  },
  {
   "cell_type": "code",
   "execution_count": 51,
   "metadata": {
    "ExecuteTime": {
     "end_time": "2022-06-25T18:44:46.659479Z",
     "start_time": "2022-06-25T18:44:46.643942Z"
    }
   },
   "outputs": [],
   "source": [
    "#Grid search iterates all combination of your paramaters\n",
    "#Randomized Search CV what would be the random combination of the variables that I would need to try to get the best \n",
    "    #(need to input number of iteration; different combination yung gagawin niya per iteration)\n",
    "\n",
    "def train_kn(X, y, metric, res_t=None, hypertune=False, resample=False):\n",
    "    \"\"\"Hypertune KNeighbors and apply SMOTE()\"\"\"\n",
    "    params = {'n_neighbors': [1, 2, 3, 4, 5, 6, 7, 8, 9, 10],\n",
    "              'weights': ['uniform', 'distance']\n",
    "              }\n",
    "    new_params = {'kneighborsclassifier__' +   #make sure to properly state this (model you are trying)\n",
    "                  key: params[key] for key in params}\n",
    "\n",
    "    skf = StratifiedKFold(n_splits=5)\n",
    "    if resample is True:\n",
    "        imba_pipeline = make_pipeline(MinMaxScaler(),\n",
    "                                      res_t,\n",
    "                                      KNeighborsClassifier())\n",
    "    else:\n",
    "        imba_pipeline = make_pipeline(MinMaxScaler(),\n",
    "                                      KNeighborsClassifier())\n",
    "\n",
    "    if hypertune is True:\n",
    "        clf = GridSearchCV(imba_pipeline, param_grid=new_params,\n",
    "                           cv=skf, scoring=metric, return_train_score=True,\n",
    "                          verbose=10) #verbose = 10 means you can see the whole picture of each iteration; if 1 ang makikita lang ay \"fitting 120 fits\"\n",
    "        start_time = time.time()\n",
    "        clf.fit(X, y)\n",
    "        run_time = (time.time() - start_time)\n",
    "        model = clf.best_estimator_.fit(X, y)\n",
    "        return ['KNeighbors', np.mean(clf.cv_results_['mean_train_score']),\n",
    "                clf.best_score_, 'Best parameters = {0}'.format(\n",
    "                    clf.best_params_),\n",
    "                run_time, model]\n",
    "    else:\n",
    "        clf = imba_pipeline #not the hypertuned result\n",
    "        start_time = time.time()\n",
    "        clf.fit(X, y)\n",
    "        run_time = (time.time() - start_time)\n",
    "        cv_scores = cross_validate(estimator=clf, X=X, y=y,\n",
    "                                   scoring=metric, cv=skf, n_jobs=-1,\n",
    "                                   return_train_score=True)\n",
    "\n",
    "        return ['KNeighbors', np.mean(cv_scores['train_score']),\n",
    "                np.mean(cv_scores['test_score']), run_time, clf]"
   ]
  },
  {
   "cell_type": "code",
   "execution_count": 52,
   "metadata": {},
   "outputs": [
    {
     "name": "stdout",
     "output_type": "stream",
     "text": [
      "Fitting 5 folds for each of 20 candidates, totalling 100 fits\n",
      "[CV 1/5; 1/20] START kneighborsclassifier__n_neighbors=1, kneighborsclassifier__weights=uniform\n",
      "[CV 1/5; 1/20] END kneighborsclassifier__n_neighbors=1, kneighborsclassifier__weights=uniform;, score=(train=1.000, test=0.622) total time=   1.5s\n",
      "[CV 2/5; 1/20] START kneighborsclassifier__n_neighbors=1, kneighborsclassifier__weights=uniform\n",
      "[CV 2/5; 1/20] END kneighborsclassifier__n_neighbors=1, kneighborsclassifier__weights=uniform;, score=(train=1.000, test=0.556) total time=   1.4s\n",
      "[CV 3/5; 1/20] START kneighborsclassifier__n_neighbors=1, kneighborsclassifier__weights=uniform\n",
      "[CV 3/5; 1/20] END kneighborsclassifier__n_neighbors=1, kneighborsclassifier__weights=uniform;, score=(train=1.000, test=0.733) total time=   1.2s\n",
      "[CV 4/5; 1/20] START kneighborsclassifier__n_neighbors=1, kneighborsclassifier__weights=uniform\n",
      "[CV 4/5; 1/20] END kneighborsclassifier__n_neighbors=1, kneighborsclassifier__weights=uniform;, score=(train=1.000, test=0.689) total time=   1.2s\n",
      "[CV 5/5; 1/20] START kneighborsclassifier__n_neighbors=1, kneighborsclassifier__weights=uniform\n",
      "[CV 5/5; 1/20] END kneighborsclassifier__n_neighbors=1, kneighborsclassifier__weights=uniform;, score=(train=1.000, test=0.667) total time=   1.3s\n",
      "[CV 1/5; 2/20] START kneighborsclassifier__n_neighbors=1, kneighborsclassifier__weights=distance\n",
      "[CV 1/5; 2/20] END kneighborsclassifier__n_neighbors=1, kneighborsclassifier__weights=distance;, score=(train=1.000, test=0.622) total time=   1.2s\n",
      "[CV 2/5; 2/20] START kneighborsclassifier__n_neighbors=1, kneighborsclassifier__weights=distance\n",
      "[CV 2/5; 2/20] END kneighborsclassifier__n_neighbors=1, kneighborsclassifier__weights=distance;, score=(train=1.000, test=0.556) total time=   1.2s\n",
      "[CV 3/5; 2/20] START kneighborsclassifier__n_neighbors=1, kneighborsclassifier__weights=distance\n",
      "[CV 3/5; 2/20] END kneighborsclassifier__n_neighbors=1, kneighborsclassifier__weights=distance;, score=(train=1.000, test=0.733) total time=   1.2s\n",
      "[CV 4/5; 2/20] START kneighborsclassifier__n_neighbors=1, kneighborsclassifier__weights=distance\n",
      "[CV 4/5; 2/20] END kneighborsclassifier__n_neighbors=1, kneighborsclassifier__weights=distance;, score=(train=1.000, test=0.689) total time=   1.1s\n",
      "[CV 5/5; 2/20] START kneighborsclassifier__n_neighbors=1, kneighborsclassifier__weights=distance\n",
      "[CV 5/5; 2/20] END kneighborsclassifier__n_neighbors=1, kneighborsclassifier__weights=distance;, score=(train=1.000, test=0.667) total time=   1.1s\n",
      "[CV 1/5; 3/20] START kneighborsclassifier__n_neighbors=2, kneighborsclassifier__weights=uniform\n",
      "[CV 1/5; 3/20] END kneighborsclassifier__n_neighbors=2, kneighborsclassifier__weights=uniform;, score=(train=1.000, test=0.622) total time=   1.3s\n",
      "[CV 2/5; 3/20] START kneighborsclassifier__n_neighbors=2, kneighborsclassifier__weights=uniform\n",
      "[CV 2/5; 3/20] END kneighborsclassifier__n_neighbors=2, kneighborsclassifier__weights=uniform;, score=(train=1.000, test=0.556) total time=   1.2s\n",
      "[CV 3/5; 3/20] START kneighborsclassifier__n_neighbors=2, kneighborsclassifier__weights=uniform\n",
      "[CV 3/5; 3/20] END kneighborsclassifier__n_neighbors=2, kneighborsclassifier__weights=uniform;, score=(train=1.000, test=0.733) total time=   1.2s\n",
      "[CV 4/5; 3/20] START kneighborsclassifier__n_neighbors=2, kneighborsclassifier__weights=uniform\n",
      "[CV 4/5; 3/20] END kneighborsclassifier__n_neighbors=2, kneighborsclassifier__weights=uniform;, score=(train=1.000, test=0.689) total time=   1.2s\n",
      "[CV 5/5; 3/20] START kneighborsclassifier__n_neighbors=2, kneighborsclassifier__weights=uniform\n",
      "[CV 5/5; 3/20] END kneighborsclassifier__n_neighbors=2, kneighborsclassifier__weights=uniform;, score=(train=1.000, test=0.667) total time=   1.3s\n",
      "[CV 1/5; 4/20] START kneighborsclassifier__n_neighbors=2, kneighborsclassifier__weights=distance\n",
      "[CV 1/5; 4/20] END kneighborsclassifier__n_neighbors=2, kneighborsclassifier__weights=distance;, score=(train=1.000, test=0.622) total time=   1.3s\n",
      "[CV 2/5; 4/20] START kneighborsclassifier__n_neighbors=2, kneighborsclassifier__weights=distance\n",
      "[CV 2/5; 4/20] END kneighborsclassifier__n_neighbors=2, kneighborsclassifier__weights=distance;, score=(train=1.000, test=0.556) total time=   1.2s\n",
      "[CV 3/5; 4/20] START kneighborsclassifier__n_neighbors=2, kneighborsclassifier__weights=distance\n",
      "[CV 3/5; 4/20] END kneighborsclassifier__n_neighbors=2, kneighborsclassifier__weights=distance;, score=(train=1.000, test=0.733) total time=   1.2s\n",
      "[CV 4/5; 4/20] START kneighborsclassifier__n_neighbors=2, kneighborsclassifier__weights=distance\n",
      "[CV 4/5; 4/20] END kneighborsclassifier__n_neighbors=2, kneighborsclassifier__weights=distance;, score=(train=1.000, test=0.689) total time=   1.3s\n",
      "[CV 5/5; 4/20] START kneighborsclassifier__n_neighbors=2, kneighborsclassifier__weights=distance\n",
      "[CV 5/5; 4/20] END kneighborsclassifier__n_neighbors=2, kneighborsclassifier__weights=distance;, score=(train=1.000, test=0.667) total time=   1.3s\n",
      "[CV 1/5; 5/20] START kneighborsclassifier__n_neighbors=3, kneighborsclassifier__weights=uniform\n",
      "[CV 1/5; 5/20] END kneighborsclassifier__n_neighbors=3, kneighborsclassifier__weights=uniform;, score=(train=1.000, test=0.733) total time=   1.4s\n",
      "[CV 2/5; 5/20] START kneighborsclassifier__n_neighbors=3, kneighborsclassifier__weights=uniform\n",
      "[CV 2/5; 5/20] END kneighborsclassifier__n_neighbors=3, kneighborsclassifier__weights=uniform;, score=(train=1.000, test=0.689) total time=   1.3s\n",
      "[CV 3/5; 5/20] START kneighborsclassifier__n_neighbors=3, kneighborsclassifier__weights=uniform\n",
      "[CV 3/5; 5/20] END kneighborsclassifier__n_neighbors=3, kneighborsclassifier__weights=uniform;, score=(train=1.000, test=0.800) total time=   1.9s\n",
      "[CV 4/5; 5/20] START kneighborsclassifier__n_neighbors=3, kneighborsclassifier__weights=uniform\n",
      "[CV 4/5; 5/20] END kneighborsclassifier__n_neighbors=3, kneighborsclassifier__weights=uniform;, score=(train=1.000, test=0.733) total time=   1.5s\n",
      "[CV 5/5; 5/20] START kneighborsclassifier__n_neighbors=3, kneighborsclassifier__weights=uniform\n",
      "[CV 5/5; 5/20] END kneighborsclassifier__n_neighbors=3, kneighborsclassifier__weights=uniform;, score=(train=1.000, test=0.778) total time=   1.5s\n",
      "[CV 1/5; 6/20] START kneighborsclassifier__n_neighbors=3, kneighborsclassifier__weights=distance\n",
      "[CV 1/5; 6/20] END kneighborsclassifier__n_neighbors=3, kneighborsclassifier__weights=distance;, score=(train=1.000, test=0.711) total time=   1.2s\n",
      "[CV 2/5; 6/20] START kneighborsclassifier__n_neighbors=3, kneighborsclassifier__weights=distance\n",
      "[CV 2/5; 6/20] END kneighborsclassifier__n_neighbors=3, kneighborsclassifier__weights=distance;, score=(train=1.000, test=0.667) total time=   1.4s\n",
      "[CV 3/5; 6/20] START kneighborsclassifier__n_neighbors=3, kneighborsclassifier__weights=distance\n",
      "[CV 3/5; 6/20] END kneighborsclassifier__n_neighbors=3, kneighborsclassifier__weights=distance;, score=(train=1.000, test=0.778) total time=   1.4s\n",
      "[CV 4/5; 6/20] START kneighborsclassifier__n_neighbors=3, kneighborsclassifier__weights=distance\n",
      "[CV 4/5; 6/20] END kneighborsclassifier__n_neighbors=3, kneighborsclassifier__weights=distance;, score=(train=1.000, test=0.733) total time=   1.2s\n",
      "[CV 5/5; 6/20] START kneighborsclassifier__n_neighbors=3, kneighborsclassifier__weights=distance\n",
      "[CV 5/5; 6/20] END kneighborsclassifier__n_neighbors=3, kneighborsclassifier__weights=distance;, score=(train=1.000, test=0.778) total time=   1.6s\n",
      "[CV 1/5; 7/20] START kneighborsclassifier__n_neighbors=4, kneighborsclassifier__weights=uniform\n",
      "[CV 1/5; 7/20] END kneighborsclassifier__n_neighbors=4, kneighborsclassifier__weights=uniform;, score=(train=1.000, test=0.733) total time=   1.3s\n",
      "[CV 2/5; 7/20] START kneighborsclassifier__n_neighbors=4, kneighborsclassifier__weights=uniform\n",
      "[CV 2/5; 7/20] END kneighborsclassifier__n_neighbors=4, kneighborsclassifier__weights=uniform;, score=(train=1.000, test=0.689) total time=   1.3s\n",
      "[CV 3/5; 7/20] START kneighborsclassifier__n_neighbors=4, kneighborsclassifier__weights=uniform\n",
      "[CV 3/5; 7/20] END kneighborsclassifier__n_neighbors=4, kneighborsclassifier__weights=uniform;, score=(train=1.000, test=0.800) total time=   1.3s\n",
      "[CV 4/5; 7/20] START kneighborsclassifier__n_neighbors=4, kneighborsclassifier__weights=uniform\n"
     ]
    },
    {
     "name": "stdout",
     "output_type": "stream",
     "text": [
      "[CV 4/5; 7/20] END kneighborsclassifier__n_neighbors=4, kneighborsclassifier__weights=uniform;, score=(train=1.000, test=0.733) total time=   1.4s\n",
      "[CV 5/5; 7/20] START kneighborsclassifier__n_neighbors=4, kneighborsclassifier__weights=uniform\n",
      "[CV 5/5; 7/20] END kneighborsclassifier__n_neighbors=4, kneighborsclassifier__weights=uniform;, score=(train=1.000, test=0.800) total time=   1.5s\n",
      "[CV 1/5; 8/20] START kneighborsclassifier__n_neighbors=4, kneighborsclassifier__weights=distance\n",
      "[CV 1/5; 8/20] END kneighborsclassifier__n_neighbors=4, kneighborsclassifier__weights=distance;, score=(train=1.000, test=0.733) total time=   1.3s\n",
      "[CV 2/5; 8/20] START kneighborsclassifier__n_neighbors=4, kneighborsclassifier__weights=distance\n",
      "[CV 2/5; 8/20] END kneighborsclassifier__n_neighbors=4, kneighborsclassifier__weights=distance;, score=(train=1.000, test=0.667) total time=   1.4s\n",
      "[CV 3/5; 8/20] START kneighborsclassifier__n_neighbors=4, kneighborsclassifier__weights=distance\n",
      "[CV 3/5; 8/20] END kneighborsclassifier__n_neighbors=4, kneighborsclassifier__weights=distance;, score=(train=1.000, test=0.778) total time=   1.3s\n",
      "[CV 4/5; 8/20] START kneighborsclassifier__n_neighbors=4, kneighborsclassifier__weights=distance\n",
      "[CV 4/5; 8/20] END kneighborsclassifier__n_neighbors=4, kneighborsclassifier__weights=distance;, score=(train=1.000, test=0.733) total time=   1.3s\n",
      "[CV 5/5; 8/20] START kneighborsclassifier__n_neighbors=4, kneighborsclassifier__weights=distance\n",
      "[CV 5/5; 8/20] END kneighborsclassifier__n_neighbors=4, kneighborsclassifier__weights=distance;, score=(train=1.000, test=0.800) total time=   1.3s\n",
      "[CV 1/5; 9/20] START kneighborsclassifier__n_neighbors=5, kneighborsclassifier__weights=uniform\n",
      "[CV 1/5; 9/20] END kneighborsclassifier__n_neighbors=5, kneighborsclassifier__weights=uniform;, score=(train=1.000, test=0.800) total time=   1.3s\n",
      "[CV 2/5; 9/20] START kneighborsclassifier__n_neighbors=5, kneighborsclassifier__weights=uniform\n",
      "[CV 2/5; 9/20] END kneighborsclassifier__n_neighbors=5, kneighborsclassifier__weights=uniform;, score=(train=1.000, test=0.756) total time=   1.2s\n",
      "[CV 3/5; 9/20] START kneighborsclassifier__n_neighbors=5, kneighborsclassifier__weights=uniform\n",
      "[CV 3/5; 9/20] END kneighborsclassifier__n_neighbors=5, kneighborsclassifier__weights=uniform;, score=(train=1.000, test=0.844) total time=   1.4s\n",
      "[CV 4/5; 9/20] START kneighborsclassifier__n_neighbors=5, kneighborsclassifier__weights=uniform\n",
      "[CV 4/5; 9/20] END kneighborsclassifier__n_neighbors=5, kneighborsclassifier__weights=uniform;, score=(train=1.000, test=0.800) total time=   1.3s\n",
      "[CV 5/5; 9/20] START kneighborsclassifier__n_neighbors=5, kneighborsclassifier__weights=uniform\n",
      "[CV 5/5; 9/20] END kneighborsclassifier__n_neighbors=5, kneighborsclassifier__weights=uniform;, score=(train=1.000, test=0.844) total time=   1.3s\n",
      "[CV 1/5; 10/20] START kneighborsclassifier__n_neighbors=5, kneighborsclassifier__weights=distance\n",
      "[CV 1/5; 10/20] END kneighborsclassifier__n_neighbors=5, kneighborsclassifier__weights=distance;, score=(train=1.000, test=0.800) total time=   1.3s\n",
      "[CV 2/5; 10/20] START kneighborsclassifier__n_neighbors=5, kneighborsclassifier__weights=distance\n",
      "[CV 2/5; 10/20] END kneighborsclassifier__n_neighbors=5, kneighborsclassifier__weights=distance;, score=(train=1.000, test=0.756) total time=   1.3s\n",
      "[CV 3/5; 10/20] START kneighborsclassifier__n_neighbors=5, kneighborsclassifier__weights=distance\n",
      "[CV 3/5; 10/20] END kneighborsclassifier__n_neighbors=5, kneighborsclassifier__weights=distance;, score=(train=1.000, test=0.844) total time=   1.3s\n",
      "[CV 4/5; 10/20] START kneighborsclassifier__n_neighbors=5, kneighborsclassifier__weights=distance\n",
      "[CV 4/5; 10/20] END kneighborsclassifier__n_neighbors=5, kneighborsclassifier__weights=distance;, score=(train=1.000, test=0.800) total time=   1.3s\n",
      "[CV 5/5; 10/20] START kneighborsclassifier__n_neighbors=5, kneighborsclassifier__weights=distance\n",
      "[CV 5/5; 10/20] END kneighborsclassifier__n_neighbors=5, kneighborsclassifier__weights=distance;, score=(train=1.000, test=0.844) total time=   1.5s\n",
      "[CV 1/5; 11/20] START kneighborsclassifier__n_neighbors=6, kneighborsclassifier__weights=uniform\n",
      "[CV 1/5; 11/20] END kneighborsclassifier__n_neighbors=6, kneighborsclassifier__weights=uniform;, score=(train=1.000, test=0.800) total time=   1.4s\n",
      "[CV 2/5; 11/20] START kneighborsclassifier__n_neighbors=6, kneighborsclassifier__weights=uniform\n",
      "[CV 2/5; 11/20] END kneighborsclassifier__n_neighbors=6, kneighborsclassifier__weights=uniform;, score=(train=1.000, test=0.756) total time=   1.4s\n",
      "[CV 3/5; 11/20] START kneighborsclassifier__n_neighbors=6, kneighborsclassifier__weights=uniform\n",
      "[CV 3/5; 11/20] END kneighborsclassifier__n_neighbors=6, kneighborsclassifier__weights=uniform;, score=(train=1.000, test=0.844) total time=   1.3s\n",
      "[CV 4/5; 11/20] START kneighborsclassifier__n_neighbors=6, kneighborsclassifier__weights=uniform\n",
      "[CV 4/5; 11/20] END kneighborsclassifier__n_neighbors=6, kneighborsclassifier__weights=uniform;, score=(train=1.000, test=0.800) total time=   1.5s\n",
      "[CV 5/5; 11/20] START kneighborsclassifier__n_neighbors=6, kneighborsclassifier__weights=uniform\n",
      "[CV 5/5; 11/20] END kneighborsclassifier__n_neighbors=6, kneighborsclassifier__weights=uniform;, score=(train=1.000, test=0.844) total time=   1.4s\n",
      "[CV 1/5; 12/20] START kneighborsclassifier__n_neighbors=6, kneighborsclassifier__weights=distance\n",
      "[CV 1/5; 12/20] END kneighborsclassifier__n_neighbors=6, kneighborsclassifier__weights=distance;, score=(train=1.000, test=0.800) total time=   1.2s\n",
      "[CV 2/5; 12/20] START kneighborsclassifier__n_neighbors=6, kneighborsclassifier__weights=distance\n",
      "[CV 2/5; 12/20] END kneighborsclassifier__n_neighbors=6, kneighborsclassifier__weights=distance;, score=(train=1.000, test=0.756) total time=   1.4s\n",
      "[CV 3/5; 12/20] START kneighborsclassifier__n_neighbors=6, kneighborsclassifier__weights=distance\n",
      "[CV 3/5; 12/20] END kneighborsclassifier__n_neighbors=6, kneighborsclassifier__weights=distance;, score=(train=1.000, test=0.844) total time=   1.4s\n",
      "[CV 4/5; 12/20] START kneighborsclassifier__n_neighbors=6, kneighborsclassifier__weights=distance\n",
      "[CV 4/5; 12/20] END kneighborsclassifier__n_neighbors=6, kneighborsclassifier__weights=distance;, score=(train=1.000, test=0.778) total time=   1.4s\n",
      "[CV 5/5; 12/20] START kneighborsclassifier__n_neighbors=6, kneighborsclassifier__weights=distance\n",
      "[CV 5/5; 12/20] END kneighborsclassifier__n_neighbors=6, kneighborsclassifier__weights=distance;, score=(train=1.000, test=0.844) total time=   1.3s\n",
      "[CV 1/5; 13/20] START kneighborsclassifier__n_neighbors=7, kneighborsclassifier__weights=uniform\n",
      "[CV 1/5; 13/20] END kneighborsclassifier__n_neighbors=7, kneighborsclassifier__weights=uniform;, score=(train=1.000, test=0.844) total time=   1.3s\n",
      "[CV 2/5; 13/20] START kneighborsclassifier__n_neighbors=7, kneighborsclassifier__weights=uniform\n",
      "[CV 2/5; 13/20] END kneighborsclassifier__n_neighbors=7, kneighborsclassifier__weights=uniform;, score=(train=1.000, test=0.844) total time=   1.5s\n",
      "[CV 3/5; 13/20] START kneighborsclassifier__n_neighbors=7, kneighborsclassifier__weights=uniform\n",
      "[CV 3/5; 13/20] END kneighborsclassifier__n_neighbors=7, kneighborsclassifier__weights=uniform;, score=(train=1.000, test=0.844) total time=   1.5s\n",
      "[CV 4/5; 13/20] START kneighborsclassifier__n_neighbors=7, kneighborsclassifier__weights=uniform\n",
      "[CV 4/5; 13/20] END kneighborsclassifier__n_neighbors=7, kneighborsclassifier__weights=uniform;, score=(train=1.000, test=0.867) total time=   1.4s\n",
      "[CV 5/5; 13/20] START kneighborsclassifier__n_neighbors=7, kneighborsclassifier__weights=uniform\n",
      "[CV 5/5; 13/20] END kneighborsclassifier__n_neighbors=7, kneighborsclassifier__weights=uniform;, score=(train=1.000, test=0.867) total time=   1.3s\n",
      "[CV 1/5; 14/20] START kneighborsclassifier__n_neighbors=7, kneighborsclassifier__weights=distance\n",
      "[CV 1/5; 14/20] END kneighborsclassifier__n_neighbors=7, kneighborsclassifier__weights=distance;, score=(train=1.000, test=0.822) total time=   1.3s\n",
      "[CV 2/5; 14/20] START kneighborsclassifier__n_neighbors=7, kneighborsclassifier__weights=distance\n",
      "[CV 2/5; 14/20] END kneighborsclassifier__n_neighbors=7, kneighborsclassifier__weights=distance;, score=(train=1.000, test=0.844) total time=   1.3s\n",
      "[CV 3/5; 14/20] START kneighborsclassifier__n_neighbors=7, kneighborsclassifier__weights=distance\n"
     ]
    },
    {
     "name": "stdout",
     "output_type": "stream",
     "text": [
      "[CV 3/5; 14/20] END kneighborsclassifier__n_neighbors=7, kneighborsclassifier__weights=distance;, score=(train=1.000, test=0.822) total time=   1.4s\n",
      "[CV 4/5; 14/20] START kneighborsclassifier__n_neighbors=7, kneighborsclassifier__weights=distance\n",
      "[CV 4/5; 14/20] END kneighborsclassifier__n_neighbors=7, kneighborsclassifier__weights=distance;, score=(train=1.000, test=0.822) total time=   1.3s\n",
      "[CV 5/5; 14/20] START kneighborsclassifier__n_neighbors=7, kneighborsclassifier__weights=distance\n",
      "[CV 5/5; 14/20] END kneighborsclassifier__n_neighbors=7, kneighborsclassifier__weights=distance;, score=(train=1.000, test=0.867) total time=   1.3s\n",
      "[CV 1/5; 15/20] START kneighborsclassifier__n_neighbors=8, kneighborsclassifier__weights=uniform\n",
      "[CV 1/5; 15/20] END kneighborsclassifier__n_neighbors=8, kneighborsclassifier__weights=uniform;, score=(train=1.000, test=0.822) total time=   1.4s\n",
      "[CV 2/5; 15/20] START kneighborsclassifier__n_neighbors=8, kneighborsclassifier__weights=uniform\n",
      "[CV 2/5; 15/20] END kneighborsclassifier__n_neighbors=8, kneighborsclassifier__weights=uniform;, score=(train=1.000, test=0.822) total time=   1.5s\n",
      "[CV 3/5; 15/20] START kneighborsclassifier__n_neighbors=8, kneighborsclassifier__weights=uniform\n",
      "[CV 3/5; 15/20] END kneighborsclassifier__n_neighbors=8, kneighborsclassifier__weights=uniform;, score=(train=1.000, test=0.844) total time=   1.4s\n",
      "[CV 4/5; 15/20] START kneighborsclassifier__n_neighbors=8, kneighborsclassifier__weights=uniform\n",
      "[CV 4/5; 15/20] END kneighborsclassifier__n_neighbors=8, kneighborsclassifier__weights=uniform;, score=(train=1.000, test=0.867) total time=   1.3s\n",
      "[CV 5/5; 15/20] START kneighborsclassifier__n_neighbors=8, kneighborsclassifier__weights=uniform\n",
      "[CV 5/5; 15/20] END kneighborsclassifier__n_neighbors=8, kneighborsclassifier__weights=uniform;, score=(train=1.000, test=0.867) total time=   1.5s\n",
      "[CV 1/5; 16/20] START kneighborsclassifier__n_neighbors=8, kneighborsclassifier__weights=distance\n",
      "[CV 1/5; 16/20] END kneighborsclassifier__n_neighbors=8, kneighborsclassifier__weights=distance;, score=(train=1.000, test=0.822) total time=   1.4s\n",
      "[CV 2/5; 16/20] START kneighborsclassifier__n_neighbors=8, kneighborsclassifier__weights=distance\n",
      "[CV 2/5; 16/20] END kneighborsclassifier__n_neighbors=8, kneighborsclassifier__weights=distance;, score=(train=1.000, test=0.822) total time=   1.5s\n",
      "[CV 3/5; 16/20] START kneighborsclassifier__n_neighbors=8, kneighborsclassifier__weights=distance\n",
      "[CV 3/5; 16/20] END kneighborsclassifier__n_neighbors=8, kneighborsclassifier__weights=distance;, score=(train=1.000, test=0.844) total time=   1.3s\n",
      "[CV 4/5; 16/20] START kneighborsclassifier__n_neighbors=8, kneighborsclassifier__weights=distance\n",
      "[CV 4/5; 16/20] END kneighborsclassifier__n_neighbors=8, kneighborsclassifier__weights=distance;, score=(train=1.000, test=0.822) total time=   1.3s\n",
      "[CV 5/5; 16/20] START kneighborsclassifier__n_neighbors=8, kneighborsclassifier__weights=distance\n",
      "[CV 5/5; 16/20] END kneighborsclassifier__n_neighbors=8, kneighborsclassifier__weights=distance;, score=(train=1.000, test=0.867) total time=   1.3s\n",
      "[CV 1/5; 17/20] START kneighborsclassifier__n_neighbors=9, kneighborsclassifier__weights=uniform\n",
      "[CV 1/5; 17/20] END kneighborsclassifier__n_neighbors=9, kneighborsclassifier__weights=uniform;, score=(train=1.000, test=0.867) total time=   1.6s\n",
      "[CV 2/5; 17/20] START kneighborsclassifier__n_neighbors=9, kneighborsclassifier__weights=uniform\n",
      "[CV 2/5; 17/20] END kneighborsclassifier__n_neighbors=9, kneighborsclassifier__weights=uniform;, score=(train=1.000, test=0.889) total time=   1.4s\n",
      "[CV 3/5; 17/20] START kneighborsclassifier__n_neighbors=9, kneighborsclassifier__weights=uniform\n",
      "[CV 3/5; 17/20] END kneighborsclassifier__n_neighbors=9, kneighborsclassifier__weights=uniform;, score=(train=1.000, test=0.844) total time=   1.6s\n",
      "[CV 4/5; 17/20] START kneighborsclassifier__n_neighbors=9, kneighborsclassifier__weights=uniform\n",
      "[CV 4/5; 17/20] END kneighborsclassifier__n_neighbors=9, kneighborsclassifier__weights=uniform;, score=(train=1.000, test=0.867) total time=   1.4s\n",
      "[CV 5/5; 17/20] START kneighborsclassifier__n_neighbors=9, kneighborsclassifier__weights=uniform\n",
      "[CV 5/5; 17/20] END kneighborsclassifier__n_neighbors=9, kneighborsclassifier__weights=uniform;, score=(train=1.000, test=0.889) total time=   1.8s\n",
      "[CV 1/5; 18/20] START kneighborsclassifier__n_neighbors=9, kneighborsclassifier__weights=distance\n",
      "[CV 1/5; 18/20] END kneighborsclassifier__n_neighbors=9, kneighborsclassifier__weights=distance;, score=(train=1.000, test=0.867) total time=   1.3s\n",
      "[CV 2/5; 18/20] START kneighborsclassifier__n_neighbors=9, kneighborsclassifier__weights=distance\n",
      "[CV 2/5; 18/20] END kneighborsclassifier__n_neighbors=9, kneighborsclassifier__weights=distance;, score=(train=1.000, test=0.889) total time=   1.3s\n",
      "[CV 3/5; 18/20] START kneighborsclassifier__n_neighbors=9, kneighborsclassifier__weights=distance\n",
      "[CV 3/5; 18/20] END kneighborsclassifier__n_neighbors=9, kneighborsclassifier__weights=distance;, score=(train=1.000, test=0.844) total time=   1.5s\n",
      "[CV 4/5; 18/20] START kneighborsclassifier__n_neighbors=9, kneighborsclassifier__weights=distance\n",
      "[CV 4/5; 18/20] END kneighborsclassifier__n_neighbors=9, kneighborsclassifier__weights=distance;, score=(train=1.000, test=0.867) total time=   1.4s\n",
      "[CV 5/5; 18/20] START kneighborsclassifier__n_neighbors=9, kneighborsclassifier__weights=distance\n",
      "[CV 5/5; 18/20] END kneighborsclassifier__n_neighbors=9, kneighborsclassifier__weights=distance;, score=(train=1.000, test=0.889) total time=   1.4s\n",
      "[CV 1/5; 19/20] START kneighborsclassifier__n_neighbors=10, kneighborsclassifier__weights=uniform\n",
      "[CV 1/5; 19/20] END kneighborsclassifier__n_neighbors=10, kneighborsclassifier__weights=uniform;, score=(train=1.000, test=0.867) total time=   1.5s\n",
      "[CV 2/5; 19/20] START kneighborsclassifier__n_neighbors=10, kneighborsclassifier__weights=uniform\n",
      "[CV 2/5; 19/20] END kneighborsclassifier__n_neighbors=10, kneighborsclassifier__weights=uniform;, score=(train=1.000, test=0.867) total time=   1.3s\n",
      "[CV 3/5; 19/20] START kneighborsclassifier__n_neighbors=10, kneighborsclassifier__weights=uniform\n",
      "[CV 3/5; 19/20] END kneighborsclassifier__n_neighbors=10, kneighborsclassifier__weights=uniform;, score=(train=1.000, test=0.844) total time=   1.5s\n",
      "[CV 4/5; 19/20] START kneighborsclassifier__n_neighbors=10, kneighborsclassifier__weights=uniform\n",
      "[CV 4/5; 19/20] END kneighborsclassifier__n_neighbors=10, kneighborsclassifier__weights=uniform;, score=(train=1.000, test=0.867) total time=   1.4s\n",
      "[CV 5/5; 19/20] START kneighborsclassifier__n_neighbors=10, kneighborsclassifier__weights=uniform\n",
      "[CV 5/5; 19/20] END kneighborsclassifier__n_neighbors=10, kneighborsclassifier__weights=uniform;, score=(train=1.000, test=0.889) total time=   1.4s\n",
      "[CV 1/5; 20/20] START kneighborsclassifier__n_neighbors=10, kneighborsclassifier__weights=distance\n",
      "[CV 1/5; 20/20] END kneighborsclassifier__n_neighbors=10, kneighborsclassifier__weights=distance;, score=(train=1.000, test=0.844) total time=   1.2s\n",
      "[CV 2/5; 20/20] START kneighborsclassifier__n_neighbors=10, kneighborsclassifier__weights=distance\n",
      "[CV 2/5; 20/20] END kneighborsclassifier__n_neighbors=10, kneighborsclassifier__weights=distance;, score=(train=1.000, test=0.889) total time=   1.3s\n",
      "[CV 3/5; 20/20] START kneighborsclassifier__n_neighbors=10, kneighborsclassifier__weights=distance\n",
      "[CV 3/5; 20/20] END kneighborsclassifier__n_neighbors=10, kneighborsclassifier__weights=distance;, score=(train=1.000, test=0.844) total time=   1.4s\n",
      "[CV 4/5; 20/20] START kneighborsclassifier__n_neighbors=10, kneighborsclassifier__weights=distance\n",
      "[CV 4/5; 20/20] END kneighborsclassifier__n_neighbors=10, kneighborsclassifier__weights=distance;, score=(train=1.000, test=0.867) total time=   1.3s\n",
      "[CV 5/5; 20/20] START kneighborsclassifier__n_neighbors=10, kneighborsclassifier__weights=distance\n",
      "[CV 5/5; 20/20] END kneighborsclassifier__n_neighbors=10, kneighborsclassifier__weights=distance;, score=(train=1.000, test=0.889) total time=   1.2s\n",
      "Fitting 5 folds for each of 20 candidates, totalling 100 fits\n",
      "[CV 1/5; 1/20] START kneighborsclassifier__n_neighbors=1, kneighborsclassifier__weights=uniform\n"
     ]
    },
    {
     "name": "stdout",
     "output_type": "stream",
     "text": [
      "[CV 1/5; 1/20] END kneighborsclassifier__n_neighbors=1, kneighborsclassifier__weights=uniform;, score=(train=1.000, test=0.981) total time=   1.4s\n",
      "[CV 2/5; 1/20] START kneighborsclassifier__n_neighbors=1, kneighborsclassifier__weights=uniform\n",
      "[CV 2/5; 1/20] END kneighborsclassifier__n_neighbors=1, kneighborsclassifier__weights=uniform;, score=(train=1.000, test=0.980) total time=   1.2s\n",
      "[CV 3/5; 1/20] START kneighborsclassifier__n_neighbors=1, kneighborsclassifier__weights=uniform\n",
      "[CV 3/5; 1/20] END kneighborsclassifier__n_neighbors=1, kneighborsclassifier__weights=uniform;, score=(train=1.000, test=0.981) total time=   1.3s\n",
      "[CV 4/5; 1/20] START kneighborsclassifier__n_neighbors=1, kneighborsclassifier__weights=uniform\n",
      "[CV 4/5; 1/20] END kneighborsclassifier__n_neighbors=1, kneighborsclassifier__weights=uniform;, score=(train=1.000, test=0.980) total time=   1.3s\n",
      "[CV 5/5; 1/20] START kneighborsclassifier__n_neighbors=1, kneighborsclassifier__weights=uniform\n",
      "[CV 5/5; 1/20] END kneighborsclassifier__n_neighbors=1, kneighborsclassifier__weights=uniform;, score=(train=1.000, test=0.980) total time=   1.3s\n",
      "[CV 1/5; 2/20] START kneighborsclassifier__n_neighbors=1, kneighborsclassifier__weights=distance\n",
      "[CV 1/5; 2/20] END kneighborsclassifier__n_neighbors=1, kneighborsclassifier__weights=distance;, score=(train=1.000, test=0.981) total time=   1.3s\n",
      "[CV 2/5; 2/20] START kneighborsclassifier__n_neighbors=1, kneighborsclassifier__weights=distance\n",
      "[CV 2/5; 2/20] END kneighborsclassifier__n_neighbors=1, kneighborsclassifier__weights=distance;, score=(train=1.000, test=0.980) total time=   1.3s\n",
      "[CV 3/5; 2/20] START kneighborsclassifier__n_neighbors=1, kneighborsclassifier__weights=distance\n",
      "[CV 3/5; 2/20] END kneighborsclassifier__n_neighbors=1, kneighborsclassifier__weights=distance;, score=(train=1.000, test=0.981) total time=   1.3s\n",
      "[CV 4/5; 2/20] START kneighborsclassifier__n_neighbors=1, kneighborsclassifier__weights=distance\n",
      "[CV 4/5; 2/20] END kneighborsclassifier__n_neighbors=1, kneighborsclassifier__weights=distance;, score=(train=1.000, test=0.980) total time=   1.3s\n",
      "[CV 5/5; 2/20] START kneighborsclassifier__n_neighbors=1, kneighborsclassifier__weights=distance\n",
      "[CV 5/5; 2/20] END kneighborsclassifier__n_neighbors=1, kneighborsclassifier__weights=distance;, score=(train=1.000, test=0.980) total time=   1.2s\n",
      "[CV 1/5; 3/20] START kneighborsclassifier__n_neighbors=2, kneighborsclassifier__weights=uniform\n",
      "[CV 1/5; 3/20] END kneighborsclassifier__n_neighbors=2, kneighborsclassifier__weights=uniform;, score=(train=1.000, test=0.981) total time=   1.3s\n",
      "[CV 2/5; 3/20] START kneighborsclassifier__n_neighbors=2, kneighborsclassifier__weights=uniform\n",
      "[CV 2/5; 3/20] END kneighborsclassifier__n_neighbors=2, kneighborsclassifier__weights=uniform;, score=(train=1.000, test=0.980) total time=   1.3s\n",
      "[CV 3/5; 3/20] START kneighborsclassifier__n_neighbors=2, kneighborsclassifier__weights=uniform\n",
      "[CV 3/5; 3/20] END kneighborsclassifier__n_neighbors=2, kneighborsclassifier__weights=uniform;, score=(train=1.000, test=0.981) total time=   1.2s\n",
      "[CV 4/5; 3/20] START kneighborsclassifier__n_neighbors=2, kneighborsclassifier__weights=uniform\n",
      "[CV 4/5; 3/20] END kneighborsclassifier__n_neighbors=2, kneighborsclassifier__weights=uniform;, score=(train=1.000, test=0.980) total time=   1.6s\n",
      "[CV 5/5; 3/20] START kneighborsclassifier__n_neighbors=2, kneighborsclassifier__weights=uniform\n",
      "[CV 5/5; 3/20] END kneighborsclassifier__n_neighbors=2, kneighborsclassifier__weights=uniform;, score=(train=1.000, test=0.980) total time=   1.4s\n",
      "[CV 1/5; 4/20] START kneighborsclassifier__n_neighbors=2, kneighborsclassifier__weights=distance\n",
      "[CV 1/5; 4/20] END kneighborsclassifier__n_neighbors=2, kneighborsclassifier__weights=distance;, score=(train=1.000, test=0.981) total time=   1.3s\n",
      "[CV 2/5; 4/20] START kneighborsclassifier__n_neighbors=2, kneighborsclassifier__weights=distance\n",
      "[CV 2/5; 4/20] END kneighborsclassifier__n_neighbors=2, kneighborsclassifier__weights=distance;, score=(train=1.000, test=0.980) total time=   1.3s\n",
      "[CV 3/5; 4/20] START kneighborsclassifier__n_neighbors=2, kneighborsclassifier__weights=distance\n",
      "[CV 3/5; 4/20] END kneighborsclassifier__n_neighbors=2, kneighborsclassifier__weights=distance;, score=(train=1.000, test=0.981) total time=   1.3s\n",
      "[CV 4/5; 4/20] START kneighborsclassifier__n_neighbors=2, kneighborsclassifier__weights=distance\n",
      "[CV 4/5; 4/20] END kneighborsclassifier__n_neighbors=2, kneighborsclassifier__weights=distance;, score=(train=1.000, test=0.980) total time=   1.3s\n",
      "[CV 5/5; 4/20] START kneighborsclassifier__n_neighbors=2, kneighborsclassifier__weights=distance\n",
      "[CV 5/5; 4/20] END kneighborsclassifier__n_neighbors=2, kneighborsclassifier__weights=distance;, score=(train=1.000, test=0.980) total time=   1.3s\n",
      "[CV 1/5; 5/20] START kneighborsclassifier__n_neighbors=3, kneighborsclassifier__weights=uniform\n",
      "[CV 1/5; 5/20] END kneighborsclassifier__n_neighbors=3, kneighborsclassifier__weights=uniform;, score=(train=0.985, test=0.972) total time=   1.4s\n",
      "[CV 2/5; 5/20] START kneighborsclassifier__n_neighbors=3, kneighborsclassifier__weights=uniform\n",
      "[CV 2/5; 5/20] END kneighborsclassifier__n_neighbors=3, kneighborsclassifier__weights=uniform;, score=(train=0.984, test=0.968) total time=   1.4s\n",
      "[CV 3/5; 5/20] START kneighborsclassifier__n_neighbors=3, kneighborsclassifier__weights=uniform\n",
      "[CV 3/5; 5/20] END kneighborsclassifier__n_neighbors=3, kneighborsclassifier__weights=uniform;, score=(train=0.983, test=0.968) total time=   1.4s\n",
      "[CV 4/5; 5/20] START kneighborsclassifier__n_neighbors=3, kneighborsclassifier__weights=uniform\n",
      "[CV 4/5; 5/20] END kneighborsclassifier__n_neighbors=3, kneighborsclassifier__weights=uniform;, score=(train=0.985, test=0.967) total time=   1.5s\n",
      "[CV 5/5; 5/20] START kneighborsclassifier__n_neighbors=3, kneighborsclassifier__weights=uniform\n",
      "[CV 5/5; 5/20] END kneighborsclassifier__n_neighbors=3, kneighborsclassifier__weights=uniform;, score=(train=0.984, test=0.971) total time=   1.3s\n",
      "[CV 1/5; 6/20] START kneighborsclassifier__n_neighbors=3, kneighborsclassifier__weights=distance\n",
      "[CV 1/5; 6/20] END kneighborsclassifier__n_neighbors=3, kneighborsclassifier__weights=distance;, score=(train=1.000, test=0.972) total time=   1.4s\n",
      "[CV 2/5; 6/20] START kneighborsclassifier__n_neighbors=3, kneighborsclassifier__weights=distance\n",
      "[CV 2/5; 6/20] END kneighborsclassifier__n_neighbors=3, kneighborsclassifier__weights=distance;, score=(train=1.000, test=0.969) total time=   1.5s\n",
      "[CV 3/5; 6/20] START kneighborsclassifier__n_neighbors=3, kneighborsclassifier__weights=distance\n",
      "[CV 3/5; 6/20] END kneighborsclassifier__n_neighbors=3, kneighborsclassifier__weights=distance;, score=(train=1.000, test=0.968) total time=   1.2s\n",
      "[CV 4/5; 6/20] START kneighborsclassifier__n_neighbors=3, kneighborsclassifier__weights=distance\n",
      "[CV 4/5; 6/20] END kneighborsclassifier__n_neighbors=3, kneighborsclassifier__weights=distance;, score=(train=1.000, test=0.968) total time=   1.4s\n",
      "[CV 5/5; 6/20] START kneighborsclassifier__n_neighbors=3, kneighborsclassifier__weights=distance\n",
      "[CV 5/5; 6/20] END kneighborsclassifier__n_neighbors=3, kneighborsclassifier__weights=distance;, score=(train=1.000, test=0.971) total time=   1.3s\n",
      "[CV 1/5; 7/20] START kneighborsclassifier__n_neighbors=4, kneighborsclassifier__weights=uniform\n",
      "[CV 1/5; 7/20] END kneighborsclassifier__n_neighbors=4, kneighborsclassifier__weights=uniform;, score=(train=0.985, test=0.972) total time=   1.3s\n",
      "[CV 2/5; 7/20] START kneighborsclassifier__n_neighbors=4, kneighborsclassifier__weights=uniform\n",
      "[CV 2/5; 7/20] END kneighborsclassifier__n_neighbors=4, kneighborsclassifier__weights=uniform;, score=(train=0.984, test=0.968) total time=   1.5s\n",
      "[CV 3/5; 7/20] START kneighborsclassifier__n_neighbors=4, kneighborsclassifier__weights=uniform\n",
      "[CV 3/5; 7/20] END kneighborsclassifier__n_neighbors=4, kneighborsclassifier__weights=uniform;, score=(train=0.984, test=0.968) total time=   1.3s\n",
      "[CV 4/5; 7/20] START kneighborsclassifier__n_neighbors=4, kneighborsclassifier__weights=uniform\n",
      "[CV 4/5; 7/20] END kneighborsclassifier__n_neighbors=4, kneighborsclassifier__weights=uniform;, score=(train=0.985, test=0.967) total time=   1.3s\n",
      "[CV 5/5; 7/20] START kneighborsclassifier__n_neighbors=4, kneighborsclassifier__weights=uniform\n"
     ]
    },
    {
     "name": "stdout",
     "output_type": "stream",
     "text": [
      "[CV 5/5; 7/20] END kneighborsclassifier__n_neighbors=4, kneighborsclassifier__weights=uniform;, score=(train=0.984, test=0.970) total time=   1.4s\n",
      "[CV 1/5; 8/20] START kneighborsclassifier__n_neighbors=4, kneighborsclassifier__weights=distance\n",
      "[CV 1/5; 8/20] END kneighborsclassifier__n_neighbors=4, kneighborsclassifier__weights=distance;, score=(train=1.000, test=0.973) total time=   1.2s\n",
      "[CV 2/5; 8/20] START kneighborsclassifier__n_neighbors=4, kneighborsclassifier__weights=distance\n",
      "[CV 2/5; 8/20] END kneighborsclassifier__n_neighbors=4, kneighborsclassifier__weights=distance;, score=(train=1.000, test=0.968) total time=   1.5s\n",
      "[CV 3/5; 8/20] START kneighborsclassifier__n_neighbors=4, kneighborsclassifier__weights=distance\n",
      "[CV 3/5; 8/20] END kneighborsclassifier__n_neighbors=4, kneighborsclassifier__weights=distance;, score=(train=1.000, test=0.968) total time=   1.4s\n",
      "[CV 4/5; 8/20] START kneighborsclassifier__n_neighbors=4, kneighborsclassifier__weights=distance\n",
      "[CV 4/5; 8/20] END kneighborsclassifier__n_neighbors=4, kneighborsclassifier__weights=distance;, score=(train=1.000, test=0.967) total time=   1.3s\n",
      "[CV 5/5; 8/20] START kneighborsclassifier__n_neighbors=4, kneighborsclassifier__weights=distance\n",
      "[CV 5/5; 8/20] END kneighborsclassifier__n_neighbors=4, kneighborsclassifier__weights=distance;, score=(train=1.000, test=0.971) total time=   1.3s\n",
      "[CV 1/5; 9/20] START kneighborsclassifier__n_neighbors=5, kneighborsclassifier__weights=uniform\n",
      "[CV 1/5; 9/20] END kneighborsclassifier__n_neighbors=5, kneighborsclassifier__weights=uniform;, score=(train=0.971, test=0.959) total time=   1.4s\n",
      "[CV 2/5; 9/20] START kneighborsclassifier__n_neighbors=5, kneighborsclassifier__weights=uniform\n",
      "[CV 2/5; 9/20] END kneighborsclassifier__n_neighbors=5, kneighborsclassifier__weights=uniform;, score=(train=0.971, test=0.957) total time=   1.3s\n",
      "[CV 3/5; 9/20] START kneighborsclassifier__n_neighbors=5, kneighborsclassifier__weights=uniform\n",
      "[CV 3/5; 9/20] END kneighborsclassifier__n_neighbors=5, kneighborsclassifier__weights=uniform;, score=(train=0.971, test=0.954) total time=   1.3s\n",
      "[CV 4/5; 9/20] START kneighborsclassifier__n_neighbors=5, kneighborsclassifier__weights=uniform\n",
      "[CV 4/5; 9/20] END kneighborsclassifier__n_neighbors=5, kneighborsclassifier__weights=uniform;, score=(train=0.972, test=0.954) total time=   1.3s\n",
      "[CV 5/5; 9/20] START kneighborsclassifier__n_neighbors=5, kneighborsclassifier__weights=uniform\n",
      "[CV 5/5; 9/20] END kneighborsclassifier__n_neighbors=5, kneighborsclassifier__weights=uniform;, score=(train=0.973, test=0.959) total time=   1.4s\n",
      "[CV 1/5; 10/20] START kneighborsclassifier__n_neighbors=5, kneighborsclassifier__weights=distance\n",
      "[CV 1/5; 10/20] END kneighborsclassifier__n_neighbors=5, kneighborsclassifier__weights=distance;, score=(train=1.000, test=0.960) total time=   1.2s\n",
      "[CV 2/5; 10/20] START kneighborsclassifier__n_neighbors=5, kneighborsclassifier__weights=distance\n",
      "[CV 2/5; 10/20] END kneighborsclassifier__n_neighbors=5, kneighborsclassifier__weights=distance;, score=(train=1.000, test=0.957) total time=   1.3s\n",
      "[CV 3/5; 10/20] START kneighborsclassifier__n_neighbors=5, kneighborsclassifier__weights=distance\n",
      "[CV 3/5; 10/20] END kneighborsclassifier__n_neighbors=5, kneighborsclassifier__weights=distance;, score=(train=1.000, test=0.954) total time=   1.3s\n",
      "[CV 4/5; 10/20] START kneighborsclassifier__n_neighbors=5, kneighborsclassifier__weights=distance\n",
      "[CV 4/5; 10/20] END kneighborsclassifier__n_neighbors=5, kneighborsclassifier__weights=distance;, score=(train=1.000, test=0.956) total time=   1.3s\n",
      "[CV 5/5; 10/20] START kneighborsclassifier__n_neighbors=5, kneighborsclassifier__weights=distance\n",
      "[CV 5/5; 10/20] END kneighborsclassifier__n_neighbors=5, kneighborsclassifier__weights=distance;, score=(train=1.000, test=0.960) total time=   1.3s\n",
      "[CV 1/5; 11/20] START kneighborsclassifier__n_neighbors=6, kneighborsclassifier__weights=uniform\n",
      "[CV 1/5; 11/20] END kneighborsclassifier__n_neighbors=6, kneighborsclassifier__weights=uniform;, score=(train=0.971, test=0.960) total time=   1.4s\n",
      "[CV 2/5; 11/20] START kneighborsclassifier__n_neighbors=6, kneighborsclassifier__weights=uniform\n",
      "[CV 2/5; 11/20] END kneighborsclassifier__n_neighbors=6, kneighborsclassifier__weights=uniform;, score=(train=0.971, test=0.957) total time=   1.3s\n",
      "[CV 3/5; 11/20] START kneighborsclassifier__n_neighbors=6, kneighborsclassifier__weights=uniform\n",
      "[CV 3/5; 11/20] END kneighborsclassifier__n_neighbors=6, kneighborsclassifier__weights=uniform;, score=(train=0.972, test=0.955) total time=   1.4s\n",
      "[CV 4/5; 11/20] START kneighborsclassifier__n_neighbors=6, kneighborsclassifier__weights=uniform\n",
      "[CV 4/5; 11/20] END kneighborsclassifier__n_neighbors=6, kneighborsclassifier__weights=uniform;, score=(train=0.972, test=0.955) total time=   1.3s\n",
      "[CV 5/5; 11/20] START kneighborsclassifier__n_neighbors=6, kneighborsclassifier__weights=uniform\n",
      "[CV 5/5; 11/20] END kneighborsclassifier__n_neighbors=6, kneighborsclassifier__weights=uniform;, score=(train=0.974, test=0.959) total time=   1.3s\n",
      "[CV 1/5; 12/20] START kneighborsclassifier__n_neighbors=6, kneighborsclassifier__weights=distance\n",
      "[CV 1/5; 12/20] END kneighborsclassifier__n_neighbors=6, kneighborsclassifier__weights=distance;, score=(train=1.000, test=0.961) total time=   1.2s\n",
      "[CV 2/5; 12/20] START kneighborsclassifier__n_neighbors=6, kneighborsclassifier__weights=distance\n",
      "[CV 2/5; 12/20] END kneighborsclassifier__n_neighbors=6, kneighborsclassifier__weights=distance;, score=(train=1.000, test=0.959) total time=   1.3s\n",
      "[CV 3/5; 12/20] START kneighborsclassifier__n_neighbors=6, kneighborsclassifier__weights=distance\n",
      "[CV 3/5; 12/20] END kneighborsclassifier__n_neighbors=6, kneighborsclassifier__weights=distance;, score=(train=1.000, test=0.955) total time=   1.3s\n",
      "[CV 4/5; 12/20] START kneighborsclassifier__n_neighbors=6, kneighborsclassifier__weights=distance\n",
      "[CV 4/5; 12/20] END kneighborsclassifier__n_neighbors=6, kneighborsclassifier__weights=distance;, score=(train=1.000, test=0.957) total time=   1.3s\n",
      "[CV 5/5; 12/20] START kneighborsclassifier__n_neighbors=6, kneighborsclassifier__weights=distance\n",
      "[CV 5/5; 12/20] END kneighborsclassifier__n_neighbors=6, kneighborsclassifier__weights=distance;, score=(train=1.000, test=0.960) total time=   1.3s\n",
      "[CV 1/5; 13/20] START kneighborsclassifier__n_neighbors=7, kneighborsclassifier__weights=uniform\n",
      "[CV 1/5; 13/20] END kneighborsclassifier__n_neighbors=7, kneighborsclassifier__weights=uniform;, score=(train=0.956, test=0.948) total time=   1.5s\n",
      "[CV 2/5; 13/20] START kneighborsclassifier__n_neighbors=7, kneighborsclassifier__weights=uniform\n",
      "[CV 2/5; 13/20] END kneighborsclassifier__n_neighbors=7, kneighborsclassifier__weights=uniform;, score=(train=0.956, test=0.943) total time=   1.3s\n",
      "[CV 3/5; 13/20] START kneighborsclassifier__n_neighbors=7, kneighborsclassifier__weights=uniform\n",
      "[CV 3/5; 13/20] END kneighborsclassifier__n_neighbors=7, kneighborsclassifier__weights=uniform;, score=(train=0.958, test=0.938) total time=   1.4s\n",
      "[CV 4/5; 13/20] START kneighborsclassifier__n_neighbors=7, kneighborsclassifier__weights=uniform\n",
      "[CV 4/5; 13/20] END kneighborsclassifier__n_neighbors=7, kneighborsclassifier__weights=uniform;, score=(train=0.957, test=0.943) total time=   1.3s\n",
      "[CV 5/5; 13/20] START kneighborsclassifier__n_neighbors=7, kneighborsclassifier__weights=uniform\n",
      "[CV 5/5; 13/20] END kneighborsclassifier__n_neighbors=7, kneighborsclassifier__weights=uniform;, score=(train=0.960, test=0.944) total time=   1.3s\n",
      "[CV 1/5; 14/20] START kneighborsclassifier__n_neighbors=7, kneighborsclassifier__weights=distance\n",
      "[CV 1/5; 14/20] END kneighborsclassifier__n_neighbors=7, kneighborsclassifier__weights=distance;, score=(train=1.000, test=0.950) total time=   1.3s\n",
      "[CV 2/5; 14/20] START kneighborsclassifier__n_neighbors=7, kneighborsclassifier__weights=distance\n",
      "[CV 2/5; 14/20] END kneighborsclassifier__n_neighbors=7, kneighborsclassifier__weights=distance;, score=(train=1.000, test=0.946) total time=   1.3s\n",
      "[CV 3/5; 14/20] START kneighborsclassifier__n_neighbors=7, kneighborsclassifier__weights=distance\n",
      "[CV 3/5; 14/20] END kneighborsclassifier__n_neighbors=7, kneighborsclassifier__weights=distance;, score=(train=1.000, test=0.942) total time=   1.3s\n",
      "[CV 4/5; 14/20] START kneighborsclassifier__n_neighbors=7, kneighborsclassifier__weights=distance\n"
     ]
    },
    {
     "name": "stdout",
     "output_type": "stream",
     "text": [
      "[CV 4/5; 14/20] END kneighborsclassifier__n_neighbors=7, kneighborsclassifier__weights=distance;, score=(train=1.000, test=0.946) total time=   1.3s\n",
      "[CV 5/5; 14/20] START kneighborsclassifier__n_neighbors=7, kneighborsclassifier__weights=distance\n",
      "[CV 5/5; 14/20] END kneighborsclassifier__n_neighbors=7, kneighborsclassifier__weights=distance;, score=(train=1.000, test=0.947) total time=   1.3s\n",
      "[CV 1/5; 15/20] START kneighborsclassifier__n_neighbors=8, kneighborsclassifier__weights=uniform\n",
      "[CV 1/5; 15/20] END kneighborsclassifier__n_neighbors=8, kneighborsclassifier__weights=uniform;, score=(train=0.957, test=0.948) total time=   1.3s\n",
      "[CV 2/5; 15/20] START kneighborsclassifier__n_neighbors=8, kneighborsclassifier__weights=uniform\n",
      "[CV 2/5; 15/20] END kneighborsclassifier__n_neighbors=8, kneighborsclassifier__weights=uniform;, score=(train=0.957, test=0.945) total time=   1.3s\n",
      "[CV 3/5; 15/20] START kneighborsclassifier__n_neighbors=8, kneighborsclassifier__weights=uniform\n",
      "[CV 3/5; 15/20] END kneighborsclassifier__n_neighbors=8, kneighborsclassifier__weights=uniform;, score=(train=0.959, test=0.939) total time=   1.3s\n",
      "[CV 4/5; 15/20] START kneighborsclassifier__n_neighbors=8, kneighborsclassifier__weights=uniform\n",
      "[CV 4/5; 15/20] END kneighborsclassifier__n_neighbors=8, kneighborsclassifier__weights=uniform;, score=(train=0.958, test=0.944) total time=   1.4s\n",
      "[CV 5/5; 15/20] START kneighborsclassifier__n_neighbors=8, kneighborsclassifier__weights=uniform\n",
      "[CV 5/5; 15/20] END kneighborsclassifier__n_neighbors=8, kneighborsclassifier__weights=uniform;, score=(train=0.960, test=0.945) total time=   1.4s\n",
      "[CV 1/5; 16/20] START kneighborsclassifier__n_neighbors=8, kneighborsclassifier__weights=distance\n",
      "[CV 1/5; 16/20] END kneighborsclassifier__n_neighbors=8, kneighborsclassifier__weights=distance;, score=(train=1.000, test=0.948) total time=   1.2s\n",
      "[CV 2/5; 16/20] START kneighborsclassifier__n_neighbors=8, kneighborsclassifier__weights=distance\n",
      "[CV 2/5; 16/20] END kneighborsclassifier__n_neighbors=8, kneighborsclassifier__weights=distance;, score=(train=1.000, test=0.946) total time=   1.4s\n",
      "[CV 3/5; 16/20] START kneighborsclassifier__n_neighbors=8, kneighborsclassifier__weights=distance\n",
      "[CV 3/5; 16/20] END kneighborsclassifier__n_neighbors=8, kneighborsclassifier__weights=distance;, score=(train=1.000, test=0.941) total time=   1.4s\n",
      "[CV 4/5; 16/20] START kneighborsclassifier__n_neighbors=8, kneighborsclassifier__weights=distance\n",
      "[CV 4/5; 16/20] END kneighborsclassifier__n_neighbors=8, kneighborsclassifier__weights=distance;, score=(train=1.000, test=0.946) total time=   1.5s\n",
      "[CV 5/5; 16/20] START kneighborsclassifier__n_neighbors=8, kneighborsclassifier__weights=distance\n",
      "[CV 5/5; 16/20] END kneighborsclassifier__n_neighbors=8, kneighborsclassifier__weights=distance;, score=(train=1.000, test=0.946) total time=   1.5s\n",
      "[CV 1/5; 17/20] START kneighborsclassifier__n_neighbors=9, kneighborsclassifier__weights=uniform\n",
      "[CV 1/5; 17/20] END kneighborsclassifier__n_neighbors=9, kneighborsclassifier__weights=uniform;, score=(train=0.945, test=0.938) total time=   1.6s\n",
      "[CV 2/5; 17/20] START kneighborsclassifier__n_neighbors=9, kneighborsclassifier__weights=uniform\n",
      "[CV 2/5; 17/20] END kneighborsclassifier__n_neighbors=9, kneighborsclassifier__weights=uniform;, score=(train=0.944, test=0.934) total time=   1.6s\n",
      "[CV 3/5; 17/20] START kneighborsclassifier__n_neighbors=9, kneighborsclassifier__weights=uniform\n",
      "[CV 3/5; 17/20] END kneighborsclassifier__n_neighbors=9, kneighborsclassifier__weights=uniform;, score=(train=0.948, test=0.928) total time=   1.7s\n",
      "[CV 4/5; 17/20] START kneighborsclassifier__n_neighbors=9, kneighborsclassifier__weights=uniform\n",
      "[CV 4/5; 17/20] END kneighborsclassifier__n_neighbors=9, kneighborsclassifier__weights=uniform;, score=(train=0.943, test=0.935) total time=   1.6s\n",
      "[CV 5/5; 17/20] START kneighborsclassifier__n_neighbors=9, kneighborsclassifier__weights=uniform\n",
      "[CV 5/5; 17/20] END kneighborsclassifier__n_neighbors=9, kneighborsclassifier__weights=uniform;, score=(train=0.946, test=0.933) total time=   1.6s\n",
      "[CV 1/5; 18/20] START kneighborsclassifier__n_neighbors=9, kneighborsclassifier__weights=distance\n",
      "[CV 1/5; 18/20] END kneighborsclassifier__n_neighbors=9, kneighborsclassifier__weights=distance;, score=(train=1.000, test=0.944) total time=   1.4s\n",
      "[CV 2/5; 18/20] START kneighborsclassifier__n_neighbors=9, kneighborsclassifier__weights=distance\n",
      "[CV 2/5; 18/20] END kneighborsclassifier__n_neighbors=9, kneighborsclassifier__weights=distance;, score=(train=1.000, test=0.940) total time=   1.3s\n",
      "[CV 3/5; 18/20] START kneighborsclassifier__n_neighbors=9, kneighborsclassifier__weights=distance\n",
      "[CV 3/5; 18/20] END kneighborsclassifier__n_neighbors=9, kneighborsclassifier__weights=distance;, score=(train=1.000, test=0.935) total time=   1.3s\n",
      "[CV 4/5; 18/20] START kneighborsclassifier__n_neighbors=9, kneighborsclassifier__weights=distance\n",
      "[CV 4/5; 18/20] END kneighborsclassifier__n_neighbors=9, kneighborsclassifier__weights=distance;, score=(train=1.000, test=0.942) total time=   1.3s\n",
      "[CV 5/5; 18/20] START kneighborsclassifier__n_neighbors=9, kneighborsclassifier__weights=distance\n",
      "[CV 5/5; 18/20] END kneighborsclassifier__n_neighbors=9, kneighborsclassifier__weights=distance;, score=(train=1.000, test=0.941) total time=   1.6s\n",
      "[CV 1/5; 19/20] START kneighborsclassifier__n_neighbors=10, kneighborsclassifier__weights=uniform\n",
      "[CV 1/5; 19/20] END kneighborsclassifier__n_neighbors=10, kneighborsclassifier__weights=uniform;, score=(train=0.945, test=0.938) total time=   1.5s\n",
      "[CV 2/5; 19/20] START kneighborsclassifier__n_neighbors=10, kneighborsclassifier__weights=uniform\n",
      "[CV 2/5; 19/20] END kneighborsclassifier__n_neighbors=10, kneighborsclassifier__weights=uniform;, score=(train=0.945, test=0.934) total time=   1.6s\n",
      "[CV 3/5; 19/20] START kneighborsclassifier__n_neighbors=10, kneighborsclassifier__weights=uniform\n",
      "[CV 3/5; 19/20] END kneighborsclassifier__n_neighbors=10, kneighborsclassifier__weights=uniform;, score=(train=0.948, test=0.927) total time=   1.4s\n",
      "[CV 4/5; 19/20] START kneighborsclassifier__n_neighbors=10, kneighborsclassifier__weights=uniform\n",
      "[CV 4/5; 19/20] END kneighborsclassifier__n_neighbors=10, kneighborsclassifier__weights=uniform;, score=(train=0.943, test=0.935) total time=   1.4s\n",
      "[CV 5/5; 19/20] START kneighborsclassifier__n_neighbors=10, kneighborsclassifier__weights=uniform\n",
      "[CV 5/5; 19/20] END kneighborsclassifier__n_neighbors=10, kneighborsclassifier__weights=uniform;, score=(train=0.947, test=0.933) total time=   1.3s\n",
      "[CV 1/5; 20/20] START kneighborsclassifier__n_neighbors=10, kneighborsclassifier__weights=distance\n",
      "[CV 1/5; 20/20] END kneighborsclassifier__n_neighbors=10, kneighborsclassifier__weights=distance;, score=(train=1.000, test=0.940) total time=   1.3s\n",
      "[CV 2/5; 20/20] START kneighborsclassifier__n_neighbors=10, kneighborsclassifier__weights=distance\n",
      "[CV 2/5; 20/20] END kneighborsclassifier__n_neighbors=10, kneighborsclassifier__weights=distance;, score=(train=1.000, test=0.937) total time=   1.3s\n",
      "[CV 3/5; 20/20] START kneighborsclassifier__n_neighbors=10, kneighborsclassifier__weights=distance\n",
      "[CV 3/5; 20/20] END kneighborsclassifier__n_neighbors=10, kneighborsclassifier__weights=distance;, score=(train=1.000, test=0.931) total time=   1.3s\n",
      "[CV 4/5; 20/20] START kneighborsclassifier__n_neighbors=10, kneighborsclassifier__weights=distance\n",
      "[CV 4/5; 20/20] END kneighborsclassifier__n_neighbors=10, kneighborsclassifier__weights=distance;, score=(train=1.000, test=0.938) total time=   1.3s\n",
      "[CV 5/5; 20/20] START kneighborsclassifier__n_neighbors=10, kneighborsclassifier__weights=distance\n",
      "[CV 5/5; 20/20] END kneighborsclassifier__n_neighbors=10, kneighborsclassifier__weights=distance;, score=(train=1.000, test=0.936) total time=   1.3s\n"
     ]
    }
   ],
   "source": [
    "#Oversampling: SMOTE\n",
    "\n",
    "start_time = time.time()\n",
    "kn_tmk_rec = train_kn(X_trainval, y_trainval, 'recall', SMOTE(),\n",
    "                       hypertune=True, resample=True)\n",
    "start_time = time.time()\n",
    "kn_tmk_acc = train_kn(X_trainval, y_trainval, 'accuracy', SMOTE(),\n",
    "                      hypertune=True, resample=True)"
   ]
  },
  {
   "cell_type": "code",
   "execution_count": 55,
   "metadata": {},
   "outputs": [
    {
     "data": {
      "text/html": [
       "<style type=\"text/css\">\n",
       "</style>\n",
       "<table id=\"T_ba8b4\">\n",
       "  <thead>\n",
       "    <tr>\n",
       "      <th id=\"T_ba8b4_level0_col0\" class=\"col_heading level0 col0\" ></th>\n",
       "      <th id=\"T_ba8b4_level0_col1\" class=\"col_heading level0 col1\" >Train Accuracy</th>\n",
       "      <th id=\"T_ba8b4_level0_col2\" class=\"col_heading level0 col2\" >Val Accuracy</th>\n",
       "      <th id=\"T_ba8b4_level0_col3\" class=\"col_heading level0 col3\" >Train Recall</th>\n",
       "      <th id=\"T_ba8b4_level0_col4\" class=\"col_heading level0 col4\" >Val Recall</th>\n",
       "    </tr>\n",
       "  </thead>\n",
       "  <tbody>\n",
       "    <tr>\n",
       "      <td id=\"T_ba8b4_row0_col0\" class=\"data row0 col0\" >KNeighbors</td>\n",
       "      <td id=\"T_ba8b4_row0_col1\" class=\"data row0 col1\" >98.59%</td>\n",
       "      <td id=\"T_ba8b4_row0_col2\" class=\"data row0 col2\" >98.05%</td>\n",
       "      <td id=\"T_ba8b4_row0_col3\" class=\"data row0 col3\" >100.00%</td>\n",
       "      <td id=\"T_ba8b4_row0_col4\" class=\"data row0 col4\" >87.11%</td>\n",
       "    </tr>\n",
       "  </tbody>\n",
       "</table>\n"
      ],
      "text/plain": [
       "<pandas.io.formats.style.Styler at 0x7fe41520be20>"
      ]
     },
     "execution_count": 55,
     "metadata": {},
     "output_type": "execute_result"
    }
   ],
   "source": [
    "cols = ['', 'Train Accuracy', 'Val Accuracy',\n",
    "        'Train Recall', 'Val Recall']\n",
    "hyper = pd.DataFrame(columns=cols)\n",
    "hyper.loc[0] = [kn_tmk_rec[0], #name of model\n",
    "                np.round(kn_tmk_acc[1]*100, 6), #train_accuracy\n",
    "                np.round(kn_tmk_acc[2]*100, 6), #test accuracy\n",
    "                np.round(kn_tmk_rec[1]*100, 6), #train recall\n",
    "                np.round(kn_tmk_rec[2]*100, 6)] #test recall\n",
    "hyper2 = pd.DataFrame(columns=cols)\n",
    "hyper2.loc[0] = [kn_tmk_rec[0],\n",
    "                 '{:.2f}%'.format(np.round(kn_tmk_acc[1]*100, 2)),\n",
    "                 '{:.2f}%'.format(np.round(kn_tmk_acc[2]*100, 2)),\n",
    "                 '{:.2f}%'.format(np.round(kn_tmk_rec[1]*100, 2)),\n",
    "                 '{:.2f}%'.format(np.round(kn_tmk_rec[2]*100, 2))]\n",
    "hyper2.style.hide_index()"
   ]
  },
  {
   "cell_type": "code",
   "execution_count": 56,
   "metadata": {},
   "outputs": [],
   "source": [
    "#best model among hypertuned and resampled models\n",
    "# re-fitting for the holdout \n",
    "rh = kn_tmk_rec[-1] #kaya nilalabas yung model is to know yung perf ng mdoel sa hold out data set (dulo kaya -1)\n",
    "rh.fit(X_trainval, y_trainval) #fit to trainval \n",
    "y_preds = rh.predict(X_holdout) #predict using holdout (unseen data)\n",
    "rh_holdout_score = recall_score(y_holdout, y_preds) "
   ]
  },
  {
   "cell_type": "markdown",
   "metadata": {},
   "source": [
    "#### Base-case"
   ]
  },
  {
   "cell_type": "code",
   "execution_count": 57,
   "metadata": {
    "ExecuteTime": {
     "end_time": "2022-06-25T18:48:02.907470Z",
     "start_time": "2022-06-25T18:44:52.169864Z"
    }
   },
   "outputs": [],
   "source": [
    "#behaviour of model without hypertuning or resampling\n",
    "# cross-validation\n",
    "base_var = train_rf(X_trainval, y_trainval, 'recall', hypertune=False, resample=False) \n",
    "\n",
    "# re-fitting for the holdout\n",
    "base_model = base_var[-1]\n",
    "base_model.fit(X_trainval, y_trainval)\n",
    "y_preds = base_model.predict(X_holdout)\n",
    "holdout_score = recall_score(y_holdout, y_preds)"
   ]
  },
  {
   "cell_type": "code",
   "execution_count": 58,
   "metadata": {
    "ExecuteTime": {
     "end_time": "2022-06-25T18:48:26.485006Z",
     "start_time": "2022-06-25T18:48:26.111606Z"
    }
   },
   "outputs": [
    {
     "data": {
      "text/plain": [
       "0.41333333333333333"
      ]
     },
     "execution_count": 58,
     "metadata": {},
     "output_type": "execute_result"
    }
   ],
   "source": [
    "holdout_score"
   ]
  },
  {
   "cell_type": "code",
   "execution_count": 59,
   "metadata": {},
   "outputs": [
    {
     "data": {
      "text/html": [
       "<style type=\"text/css\">\n",
       "</style>\n",
       "<table id=\"T_c83eb\">\n",
       "  <thead>\n",
       "    <tr>\n",
       "      <th id=\"T_c83eb_level0_col0\" class=\"col_heading level0 col0\" >Method</th>\n",
       "      <th id=\"T_c83eb_level0_col1\" class=\"col_heading level0 col1\" >Train Recall</th>\n",
       "      <th id=\"T_c83eb_level0_col2\" class=\"col_heading level0 col2\" >Val Recall</th>\n",
       "      <th id=\"T_c83eb_level0_col3\" class=\"col_heading level0 col3\" >Holdout Recall</th>\n",
       "    </tr>\n",
       "  </thead>\n",
       "  <tbody>\n",
       "    <tr>\n",
       "      <td id=\"T_c83eb_row0_col0\" class=\"data row0 col0\" >No Resampling</td>\n",
       "      <td id=\"T_c83eb_row0_col1\" class=\"data row0 col1\" >40.22%</td>\n",
       "      <td id=\"T_c83eb_row0_col2\" class=\"data row0 col2\" >32.00%</td>\n",
       "      <td id=\"T_c83eb_row0_col3\" class=\"data row0 col3\" >41.33%</td>\n",
       "    </tr>\n",
       "    <tr>\n",
       "      <td id=\"T_c83eb_row1_col0\" class=\"data row1 col0\" >Resampling x Hypertune</td>\n",
       "      <td id=\"T_c83eb_row1_col1\" class=\"data row1 col1\" >90.38%</td>\n",
       "      <td id=\"T_c83eb_row1_col2\" class=\"data row1 col2\" >86.22%</td>\n",
       "      <td id=\"T_c83eb_row1_col3\" class=\"data row1 col3\" >81.33%</td>\n",
       "    </tr>\n",
       "  </tbody>\n",
       "</table>\n"
      ],
      "text/plain": [
       "<pandas.io.formats.style.Styler at 0x7fe4055b4b20>"
      ]
     },
     "execution_count": 59,
     "metadata": {},
     "output_type": "execute_result"
    }
   ],
   "source": [
    "cols = ['Method', 'Train Recall', 'Val Recall', 'Holdout Recall']\n",
    "summary = pd.DataFrame(columns=cols)\n",
    "summary.loc[0] = ['No Resampling',\n",
    "                 '{:.2f}%'.format(np.round(base_var[1]*100, 2)),\n",
    "                 '{:.2f}%'.format(np.round(base_var[2]*100, 2)),\n",
    "                 '{:.2f}%'.format(np.round(holdout_score*100, 2))]\n",
    "summary.loc[3] = ['Resampling x Hypertune',\n",
    "                 '{:.2f}%'.format(np.round(rf_tmk_rec[1]*100, 2)),\n",
    "                 '{:.2f}%'.format(np.round(rf_tmk_rec[2]*100, 2)),\n",
    "                 '{:.2f}%'.format(np.round(rh_holdout_score*100, 2))]\n",
    "summary.style.hide_index()\n",
    "\n",
    "#dataframe containing all the results"
   ]
  },
  {
   "cell_type": "code",
   "execution_count": 60,
   "metadata": {},
   "outputs": [
    {
     "ename": "InvalidModelError",
     "evalue": "Model type not yet supported by TreeExplainer: <class 'imblearn.pipeline.Pipeline'>",
     "output_type": "error",
     "traceback": [
      "\u001b[0;31m---------------------------------------------------------------------------\u001b[0m",
      "\u001b[0;31mInvalidModelError\u001b[0m                         Traceback (most recent call last)",
      "Input \u001b[0;32mIn [60]\u001b[0m, in \u001b[0;36m<cell line: 1>\u001b[0;34m()\u001b[0m\n\u001b[0;32m----> 1\u001b[0m explainer \u001b[38;5;241m=\u001b[39m \u001b[43mshap\u001b[49m\u001b[38;5;241;43m.\u001b[39;49m\u001b[43mTreeExplainer\u001b[49m\u001b[43m(\u001b[49m\u001b[43mrh\u001b[49m\u001b[43m,\u001b[49m\u001b[43m \u001b[49m\u001b[43mfeature_names\u001b[49m\u001b[38;5;241;43m=\u001b[39;49m\u001b[43mX_holdout\u001b[49m\u001b[38;5;241;43m.\u001b[39;49m\u001b[43mcolumns\u001b[49m\u001b[43m)\u001b[49m\n\u001b[1;32m      2\u001b[0m shap_values \u001b[38;5;241m=\u001b[39m explainer\u001b[38;5;241m.\u001b[39mshap_values(X_holdout) \u001b[38;5;66;03m#input should be unseen data\u001b[39;00m\n\u001b[1;32m      3\u001b[0m model\u001b[38;5;241m.\u001b[39mpredict(X_holdout\u001b[38;5;241m.\u001b[39mloc[[\u001b[38;5;241m8\u001b[39m]])\n",
      "File \u001b[0;32m~/opt/anaconda3/lib/python3.9/site-packages/shap/explainers/_tree.py:149\u001b[0m, in \u001b[0;36mTree.__init__\u001b[0;34m(self, model, data, model_output, feature_perturbation, feature_names, approximate, **deprecated_options)\u001b[0m\n\u001b[1;32m    147\u001b[0m \u001b[38;5;28mself\u001b[39m\u001b[38;5;241m.\u001b[39mfeature_perturbation \u001b[38;5;241m=\u001b[39m feature_perturbation\n\u001b[1;32m    148\u001b[0m \u001b[38;5;28mself\u001b[39m\u001b[38;5;241m.\u001b[39mexpected_value \u001b[38;5;241m=\u001b[39m \u001b[38;5;28;01mNone\u001b[39;00m\n\u001b[0;32m--> 149\u001b[0m \u001b[38;5;28mself\u001b[39m\u001b[38;5;241m.\u001b[39mmodel \u001b[38;5;241m=\u001b[39m \u001b[43mTreeEnsemble\u001b[49m\u001b[43m(\u001b[49m\u001b[43mmodel\u001b[49m\u001b[43m,\u001b[49m\u001b[43m \u001b[49m\u001b[38;5;28;43mself\u001b[39;49m\u001b[38;5;241;43m.\u001b[39;49m\u001b[43mdata\u001b[49m\u001b[43m,\u001b[49m\u001b[43m \u001b[49m\u001b[38;5;28;43mself\u001b[39;49m\u001b[38;5;241;43m.\u001b[39;49m\u001b[43mdata_missing\u001b[49m\u001b[43m,\u001b[49m\u001b[43m \u001b[49m\u001b[43mmodel_output\u001b[49m\u001b[43m)\u001b[49m\n\u001b[1;32m    150\u001b[0m \u001b[38;5;28mself\u001b[39m\u001b[38;5;241m.\u001b[39mmodel_output \u001b[38;5;241m=\u001b[39m model_output\n\u001b[1;32m    151\u001b[0m \u001b[38;5;66;03m#self.model_output = self.model.model_output # this allows the TreeEnsemble to translate model outputs types by how it loads the model\u001b[39;00m\n",
      "File \u001b[0;32m~/opt/anaconda3/lib/python3.9/site-packages/shap/explainers/_tree.py:993\u001b[0m, in \u001b[0;36mTreeEnsemble.__init__\u001b[0;34m(self, model, data, data_missing, model_output)\u001b[0m\n\u001b[1;32m    991\u001b[0m     \u001b[38;5;28mself\u001b[39m\u001b[38;5;241m.\u001b[39mbase_offset \u001b[38;5;241m=\u001b[39m model\u001b[38;5;241m.\u001b[39minit_params[param_idx]\n\u001b[1;32m    992\u001b[0m \u001b[38;5;28;01melse\u001b[39;00m:\n\u001b[0;32m--> 993\u001b[0m     \u001b[38;5;28;01mraise\u001b[39;00m InvalidModelError(\u001b[38;5;124m\"\u001b[39m\u001b[38;5;124mModel type not yet supported by TreeExplainer: \u001b[39m\u001b[38;5;124m\"\u001b[39m \u001b[38;5;241m+\u001b[39m \u001b[38;5;28mstr\u001b[39m(\u001b[38;5;28mtype\u001b[39m(model)))\n\u001b[1;32m    995\u001b[0m \u001b[38;5;66;03m# build a dense numpy version of all the tree objects\u001b[39;00m\n\u001b[1;32m    996\u001b[0m \u001b[38;5;28;01mif\u001b[39;00m \u001b[38;5;28mself\u001b[39m\u001b[38;5;241m.\u001b[39mtrees \u001b[38;5;129;01mis\u001b[39;00m \u001b[38;5;129;01mnot\u001b[39;00m \u001b[38;5;28;01mNone\u001b[39;00m \u001b[38;5;129;01mand\u001b[39;00m \u001b[38;5;28mself\u001b[39m\u001b[38;5;241m.\u001b[39mtrees:\n",
      "\u001b[0;31mInvalidModelError\u001b[0m: Model type not yet supported by TreeExplainer: <class 'imblearn.pipeline.Pipeline'>"
     ]
    }
   ],
   "source": [
    "explainer = shap.TreeExplainer(rh, feature_names=X_holdout.columns)\n",
    "shap_values = explainer.shap_values(X_holdout) #input should be unseen data\n",
    "model.predict(X_holdout.loc[[8]])\n",
    "# find the location\n",
    "loc_df = X_holdout.reset_index()\n",
    "loc_df[loc_df['index'] == 8]"
   ]
  },
  {
   "cell_type": "code",
   "execution_count": null,
   "metadata": {},
   "outputs": [],
   "source": []
  }
 ],
 "metadata": {
  "kernelspec": {
   "display_name": "Python 3 (ipykernel)",
   "language": "python",
   "name": "python3"
  },
  "language_info": {
   "codemirror_mode": {
    "name": "ipython",
    "version": 3
   },
   "file_extension": ".py",
   "mimetype": "text/x-python",
   "name": "python",
   "nbconvert_exporter": "python",
   "pygments_lexer": "ipython3",
   "version": "3.9.12"
  },
  "toc": {
   "base_numbering": 1,
   "nav_menu": {},
   "number_sections": true,
   "sideBar": true,
   "skip_h1_title": false,
   "title_cell": "Table of Contents",
   "title_sidebar": "Contents",
   "toc_cell": false,
   "toc_position": {},
   "toc_section_display": true,
   "toc_window_display": false
  }
 },
 "nbformat": 4,
 "nbformat_minor": 4
}
